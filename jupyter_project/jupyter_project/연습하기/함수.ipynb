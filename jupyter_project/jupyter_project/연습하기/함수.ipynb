{
 "cells": [
  {
   "cell_type": "code",
   "execution_count": 3,
   "metadata": {},
   "outputs": [
    {
     "name": "stdout",
     "output_type": "stream",
     "text": [
      "BlockDMask\n",
      "BlockDMask\n"
     ]
    }
   ],
   "source": [
    "def func1():\n",
    "    print('BlockDMask')\n",
    "#함수호출\n",
    "func1()\n",
    "func1()"
   ]
  },
  {
   "cell_type": "code",
   "execution_count": 4,
   "metadata": {},
   "outputs": [
    {
     "name": "stdout",
     "output_type": "stream",
     "text": [
      "1 곱하기 2 = 2\n"
     ]
    }
   ],
   "source": [
    "def func2(a, b):\n",
    "    print(f'{a} 곱하기 {b} = {a * b}')\n",
    "\n",
    "# 함수호출\n",
    "func2(1,2)"
   ]
  },
  {
   "cell_type": "code",
   "execution_count": 5,
   "metadata": {},
   "outputs": [
    {
     "name": "stdout",
     "output_type": "stream",
     "text": [
      "abcdefgGG\n"
     ]
    }
   ],
   "source": [
    "def func3():\n",
    "    return \"abcdefg\"\n",
    "\n",
    "a = func3()\n",
    "print(a + \"GG\")"
   ]
  },
  {
   "cell_type": "code",
   "execution_count": 6,
   "metadata": {},
   "outputs": [
    {
     "name": "stdout",
     "output_type": "stream",
     "text": [
      "27\n"
     ]
    }
   ],
   "source": [
    "def func4(a, b):\n",
    "    return a * b\n",
    "\n",
    "c = func4(3,9)\n",
    "print(c)"
   ]
  },
  {
   "cell_type": "code",
   "execution_count": 15,
   "metadata": {},
   "outputs": [],
   "source": [
    "# for a in range(2, 10):\n",
    "#     for i in range(1, 10):\n",
    "#         print(f\"{a}x{i} = {a*i}\")"
   ]
  },
  {
   "cell_type": "code",
   "execution_count": 16,
   "metadata": {},
   "outputs": [
    {
     "name": "stdout",
     "output_type": "stream",
     "text": [
      "6x1 = 6\n",
      "6x2 = 12\n",
      "6x3 = 18\n",
      "6x4 = 24\n",
      "6x5 = 30\n",
      "6x6 = 36\n",
      "6x7 = 42\n",
      "6x8 = 48\n",
      "6x9 = 54\n",
      "None\n"
     ]
    }
   ],
   "source": [
    "def gugudan(a):\n",
    "        for i in range(1, 10):\n",
    "            print(f\"{a}x{i} = {a*i}\")\n",
    "print(gugudan(6))"
   ]
  },
  {
   "cell_type": "code",
   "execution_count": 22,
   "metadata": {},
   "outputs": [
    {
     "name": "stdout",
     "output_type": "stream",
     "text": [
      "False\n",
      "True\n"
     ]
    }
   ],
   "source": [
    "num = 1\n",
    "if num % 2 == 0:\n",
    "  is_even = True\n",
    "else:\n",
    "  is_even = False\n",
    "print(is_even)\n",
    "  \n",
    "num = 4\n",
    "if num % 2 == 0:\n",
    "  is_even = True\n",
    "else:\n",
    "  is_even = False\n",
    "print(is_even)"
   ]
  },
  {
   "cell_type": "code",
   "execution_count": 21,
   "metadata": {},
   "outputs": [
    {
     "name": "stdout",
     "output_type": "stream",
     "text": [
      "True\n"
     ]
    }
   ],
   "source": [
    "def odd(num):\n",
    "    if num % 2 == 0:\n",
    "        return True\n",
    "    else:\n",
    "        return False\n",
    "print(odd(4))"
   ]
  },
  {
   "cell_type": "code",
   "execution_count": 23,
   "metadata": {},
   "outputs": [],
   "source": [
    "def sum(*args):\n",
    "  result = 0\n",
    "  for i in args:\n",
    "    result = result + i\n",
    "  return result"
   ]
  },
  {
   "cell_type": "code",
   "execution_count": 25,
   "metadata": {},
   "outputs": [
    {
     "name": "stdout",
     "output_type": "stream",
     "text": [
      "28\n"
     ]
    }
   ],
   "source": [
    "print(sum(1,2,3,4,5,6,7))"
   ]
  },
  {
   "cell_type": "code",
   "execution_count": 28,
   "metadata": {},
   "outputs": [
    {
     "name": "stdout",
     "output_type": "stream",
     "text": [
      "2 3 4\n"
     ]
    }
   ],
   "source": [
    "def next_values(num):\n",
    "  return num, num + 1, num + 2\n",
    "  \n",
    "a, b, c = next_values(2)\n",
    "print(a, b, c)"
   ]
  },
  {
   "cell_type": "code",
   "execution_count": null,
   "metadata": {},
   "outputs": [],
   "source": []
  }
 ],
 "metadata": {
  "kernelspec": {
   "display_name": "Python 3",
   "language": "python",
   "name": "python3"
  },
  "language_info": {
   "codemirror_mode": {
    "name": "ipython",
    "version": 3
   },
   "file_extension": ".py",
   "mimetype": "text/x-python",
   "name": "python",
   "nbconvert_exporter": "python",
   "pygments_lexer": "ipython3",
   "version": "3.11.3"
  },
  "orig_nbformat": 4
 },
 "nbformat": 4,
 "nbformat_minor": 2
}
