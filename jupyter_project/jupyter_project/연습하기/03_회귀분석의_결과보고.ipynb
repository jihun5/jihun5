{
 "cells": [
  {
   "cell_type": "markdown",
   "metadata": {},
   "source": [
    "# 회귀분석의 결과 보고\n",
    "\n",
    "## #01. 작업준비\n",
    "\n",
    "### 패키지 참조"
   ]
  },
  {
   "cell_type": "code",
   "execution_count": 62,
   "metadata": {},
   "outputs": [],
   "source": [
    "from pandas import read_excel, DataFrame\n",
    "from statsmodels.formula.api import ols\n",
    "from statsmodels.stats.outliers_influence import variance_inflation_factor"
   ]
  },
  {
   "cell_type": "markdown",
   "metadata": {},
   "source": [
    "### 데이터 가져오기"
   ]
  },
  {
   "cell_type": "code",
   "execution_count": 2,
   "metadata": {},
   "outputs": [
    {
     "data": {
      "text/html": [
       "<div>\n",
       "<style scoped>\n",
       "    .dataframe tbody tr th:only-of-type {\n",
       "        vertical-align: middle;\n",
       "    }\n",
       "\n",
       "    .dataframe tbody tr th {\n",
       "        vertical-align: top;\n",
       "    }\n",
       "\n",
       "    .dataframe thead th {\n",
       "        text-align: right;\n",
       "    }\n",
       "</style>\n",
       "<table border=\"1\" class=\"dataframe\">\n",
       "  <thead>\n",
       "    <tr style=\"text-align: right;\">\n",
       "      <th></th>\n",
       "      <th>speed</th>\n",
       "      <th>dist</th>\n",
       "    </tr>\n",
       "  </thead>\n",
       "  <tbody>\n",
       "    <tr>\n",
       "      <th>0</th>\n",
       "      <td>4</td>\n",
       "      <td>2</td>\n",
       "    </tr>\n",
       "    <tr>\n",
       "      <th>1</th>\n",
       "      <td>4</td>\n",
       "      <td>10</td>\n",
       "    </tr>\n",
       "    <tr>\n",
       "      <th>2</th>\n",
       "      <td>7</td>\n",
       "      <td>4</td>\n",
       "    </tr>\n",
       "    <tr>\n",
       "      <th>3</th>\n",
       "      <td>7</td>\n",
       "      <td>22</td>\n",
       "    </tr>\n",
       "    <tr>\n",
       "      <th>4</th>\n",
       "      <td>8</td>\n",
       "      <td>16</td>\n",
       "    </tr>\n",
       "  </tbody>\n",
       "</table>\n",
       "</div>"
      ],
      "text/plain": [
       "   speed  dist\n",
       "0      4     2\n",
       "1      4    10\n",
       "2      7     4\n",
       "3      7    22\n",
       "4      8    16"
      ]
     },
     "execution_count": 2,
     "metadata": {},
     "output_type": "execute_result"
    }
   ],
   "source": [
    "df = read_excel(\"https://data.hossam.kr/E04/cars.xlsx\")\n",
    "df.head()"
   ]
  },
  {
   "cell_type": "markdown",
   "metadata": {},
   "source": [
    "### 회귀분석 수행"
   ]
  },
  {
   "cell_type": "code",
   "execution_count": 4,
   "metadata": {},
   "outputs": [
    {
     "data": {
      "text/html": [
       "<table class=\"simpletable\">\n",
       "<caption>OLS Regression Results</caption>\n",
       "<tr>\n",
       "  <th>Dep. Variable:</th>          <td>dist</td>       <th>  R-squared:         </th> <td>   0.651</td>\n",
       "</tr>\n",
       "<tr>\n",
       "  <th>Model:</th>                   <td>OLS</td>       <th>  Adj. R-squared:    </th> <td>   0.644</td>\n",
       "</tr>\n",
       "<tr>\n",
       "  <th>Method:</th>             <td>Least Squares</td>  <th>  F-statistic:       </th> <td>   89.57</td>\n",
       "</tr>\n",
       "<tr>\n",
       "  <th>Date:</th>             <td>Tue, 25 Jul 2023</td> <th>  Prob (F-statistic):</th> <td>1.49e-12</td>\n",
       "</tr>\n",
       "<tr>\n",
       "  <th>Time:</th>                 <td>09:51:41</td>     <th>  Log-Likelihood:    </th> <td> -206.58</td>\n",
       "</tr>\n",
       "<tr>\n",
       "  <th>No. Observations:</th>      <td>    50</td>      <th>  AIC:               </th> <td>   417.2</td>\n",
       "</tr>\n",
       "<tr>\n",
       "  <th>Df Residuals:</th>          <td>    48</td>      <th>  BIC:               </th> <td>   421.0</td>\n",
       "</tr>\n",
       "<tr>\n",
       "  <th>Df Model:</th>              <td>     1</td>      <th>                     </th>     <td> </td>   \n",
       "</tr>\n",
       "<tr>\n",
       "  <th>Covariance Type:</th>      <td>nonrobust</td>    <th>                     </th>     <td> </td>   \n",
       "</tr>\n",
       "</table>\n",
       "<table class=\"simpletable\">\n",
       "<tr>\n",
       "      <td></td>         <th>coef</th>     <th>std err</th>      <th>t</th>      <th>P>|t|</th>  <th>[0.025</th>    <th>0.975]</th>  \n",
       "</tr>\n",
       "<tr>\n",
       "  <th>Intercept</th> <td>  -17.5791</td> <td>    6.758</td> <td>   -2.601</td> <td> 0.012</td> <td>  -31.168</td> <td>   -3.990</td>\n",
       "</tr>\n",
       "<tr>\n",
       "  <th>speed</th>     <td>    3.9324</td> <td>    0.416</td> <td>    9.464</td> <td> 0.000</td> <td>    3.097</td> <td>    4.768</td>\n",
       "</tr>\n",
       "</table>\n",
       "<table class=\"simpletable\">\n",
       "<tr>\n",
       "  <th>Omnibus:</th>       <td> 8.975</td> <th>  Durbin-Watson:     </th> <td>   1.676</td>\n",
       "</tr>\n",
       "<tr>\n",
       "  <th>Prob(Omnibus):</th> <td> 0.011</td> <th>  Jarque-Bera (JB):  </th> <td>   8.189</td>\n",
       "</tr>\n",
       "<tr>\n",
       "  <th>Skew:</th>          <td> 0.885</td> <th>  Prob(JB):          </th> <td>  0.0167</td>\n",
       "</tr>\n",
       "<tr>\n",
       "  <th>Kurtosis:</th>      <td> 3.893</td> <th>  Cond. No.          </th> <td>    50.7</td>\n",
       "</tr>\n",
       "</table><br/><br/>Notes:<br/>[1] Standard Errors assume that the covariance matrix of the errors is correctly specified."
      ],
      "text/latex": [
       "\\begin{center}\n",
       "\\begin{tabular}{lclc}\n",
       "\\toprule\n",
       "\\textbf{Dep. Variable:}    &       dist       & \\textbf{  R-squared:         } &     0.651   \\\\\n",
       "\\textbf{Model:}            &       OLS        & \\textbf{  Adj. R-squared:    } &     0.644   \\\\\n",
       "\\textbf{Method:}           &  Least Squares   & \\textbf{  F-statistic:       } &     89.57   \\\\\n",
       "\\textbf{Date:}             & Tue, 25 Jul 2023 & \\textbf{  Prob (F-statistic):} &  1.49e-12   \\\\\n",
       "\\textbf{Time:}             &     09:51:41     & \\textbf{  Log-Likelihood:    } &   -206.58   \\\\\n",
       "\\textbf{No. Observations:} &          50      & \\textbf{  AIC:               } &     417.2   \\\\\n",
       "\\textbf{Df Residuals:}     &          48      & \\textbf{  BIC:               } &     421.0   \\\\\n",
       "\\textbf{Df Model:}         &           1      & \\textbf{                     } &             \\\\\n",
       "\\textbf{Covariance Type:}  &    nonrobust     & \\textbf{                     } &             \\\\\n",
       "\\bottomrule\n",
       "\\end{tabular}\n",
       "\\begin{tabular}{lcccccc}\n",
       "                   & \\textbf{coef} & \\textbf{std err} & \\textbf{t} & \\textbf{P$> |$t$|$} & \\textbf{[0.025} & \\textbf{0.975]}  \\\\\n",
       "\\midrule\n",
       "\\textbf{Intercept} &     -17.5791  &        6.758     &    -2.601  &         0.012        &      -31.168    &       -3.990     \\\\\n",
       "\\textbf{speed}     &       3.9324  &        0.416     &     9.464  &         0.000        &        3.097    &        4.768     \\\\\n",
       "\\bottomrule\n",
       "\\end{tabular}\n",
       "\\begin{tabular}{lclc}\n",
       "\\textbf{Omnibus:}       &  8.975 & \\textbf{  Durbin-Watson:     } &    1.676  \\\\\n",
       "\\textbf{Prob(Omnibus):} &  0.011 & \\textbf{  Jarque-Bera (JB):  } &    8.189  \\\\\n",
       "\\textbf{Skew:}          &  0.885 & \\textbf{  Prob(JB):          } &   0.0167  \\\\\n",
       "\\textbf{Kurtosis:}      &  3.893 & \\textbf{  Cond. No.          } &     50.7  \\\\\n",
       "\\bottomrule\n",
       "\\end{tabular}\n",
       "%\\caption{OLS Regression Results}\n",
       "\\end{center}\n",
       "\n",
       "Notes: \\newline\n",
       " [1] Standard Errors assume that the covariance matrix of the errors is correctly specified."
      ],
      "text/plain": [
       "<class 'statsmodels.iolib.summary.Summary'>\n",
       "\"\"\"\n",
       "                            OLS Regression Results                            \n",
       "==============================================================================\n",
       "Dep. Variable:                   dist   R-squared:                       0.651\n",
       "Model:                            OLS   Adj. R-squared:                  0.644\n",
       "Method:                 Least Squares   F-statistic:                     89.57\n",
       "Date:                Tue, 25 Jul 2023   Prob (F-statistic):           1.49e-12\n",
       "Time:                        09:51:41   Log-Likelihood:                -206.58\n",
       "No. Observations:                  50   AIC:                             417.2\n",
       "Df Residuals:                      48   BIC:                             421.0\n",
       "Df Model:                           1                                         \n",
       "Covariance Type:            nonrobust                                         \n",
       "==============================================================================\n",
       "                 coef    std err          t      P>|t|      [0.025      0.975]\n",
       "------------------------------------------------------------------------------\n",
       "Intercept    -17.5791      6.758     -2.601      0.012     -31.168      -3.990\n",
       "speed          3.9324      0.416      9.464      0.000       3.097       4.768\n",
       "==============================================================================\n",
       "Omnibus:                        8.975   Durbin-Watson:                   1.676\n",
       "Prob(Omnibus):                  0.011   Jarque-Bera (JB):                8.189\n",
       "Skew:                           0.885   Prob(JB):                       0.0167\n",
       "Kurtosis:                       3.893   Cond. No.                         50.7\n",
       "==============================================================================\n",
       "\n",
       "Notes:\n",
       "[1] Standard Errors assume that the covariance matrix of the errors is correctly specified.\n",
       "\"\"\""
      ]
     },
     "execution_count": 4,
     "metadata": {},
     "output_type": "execute_result"
    }
   ],
   "source": [
    "model = ols(\"dist ~ speed\", data=df)\n",
    "fit = model.fit()\n",
    "tbl = fit.summary()\n",
    "tbl"
   ]
  },
  {
   "cell_type": "code",
   "execution_count": 63,
   "metadata": {},
   "outputs": [
    {
     "data": {
      "text/plain": [
       "['Intercept', 'speed']"
      ]
     },
     "execution_count": 63,
     "metadata": {},
     "output_type": "execute_result"
    }
   ],
   "source": [
    "model.exog_names"
   ]
  },
  {
   "cell_type": "markdown",
   "metadata": {},
   "source": [
    "### 회귀분석 결과 활용\n",
    "\n",
    "#### 모델을 활용한 결과값 얻기"
   ]
  },
  {
   "cell_type": "code",
   "execution_count": 50,
   "metadata": {},
   "outputs": [
    {
     "data": {
      "text/plain": [
       "0     21.744993\n",
       "1     41.407036\n",
       "2     61.069080\n",
       "3     80.731124\n",
       "4    100.393168\n",
       "5    120.055212\n",
       "6    139.717255\n",
       "dtype: float64"
      ]
     },
     "execution_count": 50,
     "metadata": {},
     "output_type": "execute_result"
    }
   ],
   "source": [
    "speed = [10, 15, 20, 25, 30, 35, 40]\n",
    "pred = fit.predict({\"speed\": speed})\n",
    "pred"
   ]
  },
  {
   "cell_type": "markdown",
   "metadata": {},
   "source": [
    "#### 베타값 얻기\n",
    "\n",
    "독립변수의 영향력을 나타내는 값. 계수를 표준화한 값으로 `0~1`사이의 값을 갖는다. (1에 가까울 수록 영향력이 큼)"
   ]
  },
  {
   "cell_type": "markdown",
   "metadata": {},
   "source": [
    "## #02. 회귀분석 결과 다루기\n",
    "\n",
    "### 결과표의 크기"
   ]
  },
  {
   "cell_type": "code",
   "execution_count": 5,
   "metadata": {},
   "outputs": [
    {
     "data": {
      "text/plain": [
       "3"
      ]
     },
     "execution_count": 5,
     "metadata": {},
     "output_type": "execute_result"
    }
   ],
   "source": [
    "len(tbl.tables)"
   ]
  },
  {
   "cell_type": "markdown",
   "metadata": {},
   "source": [
    "### 결과표 확인"
   ]
  },
  {
   "cell_type": "code",
   "execution_count": 6,
   "metadata": {},
   "outputs": [
    {
     "data": {
      "text/html": [
       "<table class=\"simpletable\">\n",
       "<caption>OLS Regression Results</caption>\n",
       "<tr>\n",
       "  <th>Dep. Variable:</th>          <td>dist</td>       <th>  R-squared:         </th> <td>   0.651</td>\n",
       "</tr>\n",
       "<tr>\n",
       "  <th>Model:</th>                   <td>OLS</td>       <th>  Adj. R-squared:    </th> <td>   0.644</td>\n",
       "</tr>\n",
       "<tr>\n",
       "  <th>Method:</th>             <td>Least Squares</td>  <th>  F-statistic:       </th> <td>   89.57</td>\n",
       "</tr>\n",
       "<tr>\n",
       "  <th>Date:</th>             <td>Tue, 25 Jul 2023</td> <th>  Prob (F-statistic):</th> <td>1.49e-12</td>\n",
       "</tr>\n",
       "<tr>\n",
       "  <th>Time:</th>                 <td>09:51:41</td>     <th>  Log-Likelihood:    </th> <td> -206.58</td>\n",
       "</tr>\n",
       "<tr>\n",
       "  <th>No. Observations:</th>      <td>    50</td>      <th>  AIC:               </th> <td>   417.2</td>\n",
       "</tr>\n",
       "<tr>\n",
       "  <th>Df Residuals:</th>          <td>    48</td>      <th>  BIC:               </th> <td>   421.0</td>\n",
       "</tr>\n",
       "<tr>\n",
       "  <th>Df Model:</th>              <td>     1</td>      <th>                     </th>     <td> </td>   \n",
       "</tr>\n",
       "<tr>\n",
       "  <th>Covariance Type:</th>      <td>nonrobust</td>    <th>                     </th>     <td> </td>   \n",
       "</tr>\n",
       "</table>"
      ],
      "text/latex": [
       "\\begin{center}\n",
       "\\begin{tabular}{lclc}\n",
       "\\toprule\n",
       "\\textbf{Dep. Variable:}    &       dist       & \\textbf{  R-squared:         } &    0.651  \\\\\n",
       "\\textbf{Model:}            &       OLS        & \\textbf{  Adj. R-squared:    } &    0.644  \\\\\n",
       "\\textbf{Method:}           &  Least Squares   & \\textbf{  F-statistic:       } &    89.57  \\\\\n",
       "\\textbf{Date:}             & Tue, 25 Jul 2023 & \\textbf{  Prob (F-statistic):} & 1.49e-12  \\\\\n",
       "\\textbf{Time:}             &     09:51:41     & \\textbf{  Log-Likelihood:    } &  -206.58  \\\\\n",
       "\\textbf{No. Observations:} &          50      & \\textbf{  AIC:               } &    417.2  \\\\\n",
       "\\textbf{Df Residuals:}     &          48      & \\textbf{  BIC:               } &    421.0  \\\\\n",
       "\\textbf{Df Model:}         &           1      & \\textbf{                     } &           \\\\\n",
       "\\textbf{Covariance Type:}  &    nonrobust     & \\textbf{                     } &           \\\\\n",
       "\\bottomrule\n",
       "\\end{tabular}\n",
       "%\\caption{OLS Regression Results}\n",
       "\\end{center}"
      ],
      "text/plain": [
       "<class 'statsmodels.iolib.table.SimpleTable'>"
      ]
     },
     "execution_count": 6,
     "metadata": {},
     "output_type": "execute_result"
    }
   ],
   "source": [
    "tbl.tables[0]"
   ]
  },
  {
   "cell_type": "code",
   "execution_count": 7,
   "metadata": {},
   "outputs": [
    {
     "data": {
      "text/html": [
       "<table class=\"simpletable\">\n",
       "<tr>\n",
       "      <td></td>         <th>coef</th>     <th>std err</th>      <th>t</th>      <th>P>|t|</th>  <th>[0.025</th>    <th>0.975]</th>  \n",
       "</tr>\n",
       "<tr>\n",
       "  <th>Intercept</th> <td>  -17.5791</td> <td>    6.758</td> <td>   -2.601</td> <td> 0.012</td> <td>  -31.168</td> <td>   -3.990</td>\n",
       "</tr>\n",
       "<tr>\n",
       "  <th>speed</th>     <td>    3.9324</td> <td>    0.416</td> <td>    9.464</td> <td> 0.000</td> <td>    3.097</td> <td>    4.768</td>\n",
       "</tr>\n",
       "</table>"
      ],
      "text/latex": [
       "\\begin{center}\n",
       "\\begin{tabular}{lcccccc}\n",
       "\\toprule\n",
       "                   & \\textbf{coef} & \\textbf{std err} & \\textbf{t} & \\textbf{P$> |$t$|$} & \\textbf{[0.025} & \\textbf{0.975]}  \\\\\n",
       "\\midrule\n",
       "\\textbf{Intercept} &     -17.5791  &        6.758     &    -2.601  &         0.012        &      -31.168    &       -3.990     \\\\\n",
       "\\textbf{speed}     &       3.9324  &        0.416     &     9.464  &         0.000        &        3.097    &        4.768     \\\\\n",
       "\\bottomrule\n",
       "\\end{tabular}\n",
       "\\end{center}"
      ],
      "text/plain": [
       "<class 'statsmodels.iolib.table.SimpleTable'>"
      ]
     },
     "execution_count": 7,
     "metadata": {},
     "output_type": "execute_result"
    }
   ],
   "source": [
    "tbl.tables[1]"
   ]
  },
  {
   "cell_type": "code",
   "execution_count": 8,
   "metadata": {},
   "outputs": [
    {
     "data": {
      "text/html": [
       "<table class=\"simpletable\">\n",
       "<tr>\n",
       "  <th>Omnibus:</th>       <td> 8.975</td> <th>  Durbin-Watson:     </th> <td>   1.676</td>\n",
       "</tr>\n",
       "<tr>\n",
       "  <th>Prob(Omnibus):</th> <td> 0.011</td> <th>  Jarque-Bera (JB):  </th> <td>   8.189</td>\n",
       "</tr>\n",
       "<tr>\n",
       "  <th>Skew:</th>          <td> 0.885</td> <th>  Prob(JB):          </th> <td>  0.0167</td>\n",
       "</tr>\n",
       "<tr>\n",
       "  <th>Kurtosis:</th>      <td> 3.893</td> <th>  Cond. No.          </th> <td>    50.7</td>\n",
       "</tr>\n",
       "</table>"
      ],
      "text/latex": [
       "\\begin{center}\n",
       "\\begin{tabular}{lclc}\n",
       "\\toprule\n",
       "\\textbf{Omnibus:}       &  8.975 & \\textbf{  Durbin-Watson:     } &    1.676  \\\\\n",
       "\\textbf{Prob(Omnibus):} &  0.011 & \\textbf{  Jarque-Bera (JB):  } &    8.189  \\\\\n",
       "\\textbf{Skew:}          &  0.885 & \\textbf{  Prob(JB):          } &   0.0167  \\\\\n",
       "\\textbf{Kurtosis:}      &  3.893 & \\textbf{  Cond. No.          } &     50.7  \\\\\n",
       "\\bottomrule\n",
       "\\end{tabular}\n",
       "\\end{center}"
      ],
      "text/plain": [
       "<class 'statsmodels.iolib.table.SimpleTable'>"
      ]
     },
     "execution_count": 8,
     "metadata": {},
     "output_type": "execute_result"
    }
   ],
   "source": [
    "tbl.tables[2]"
   ]
  },
  {
   "cell_type": "markdown",
   "metadata": {},
   "source": [
    "### 첫 번째 표의 내용 "
   ]
  },
  {
   "cell_type": "code",
   "execution_count": 37,
   "metadata": {},
   "outputs": [
    {
     "data": {
      "text/plain": [
       "{'Dep. Variable': 'dist',\n",
       " 'R-squared': '0.651',\n",
       " 'Model': 'OLS',\n",
       " 'Adj. R-squared': '0.644',\n",
       " 'Method': 'Least Squares',\n",
       " 'F-statistic': '89.57',\n",
       " 'Date': 'Tue, 25 Jul 2023',\n",
       " 'Prob (F-statistic)': '1.49e-12',\n",
       " 'Time': '09:51:41',\n",
       " 'Log-Likelihood': '-206.58',\n",
       " 'No. Observations': '50',\n",
       " 'AIC': '417.2',\n",
       " 'Df Residuals': '48',\n",
       " 'BIC': '421.0',\n",
       " 'Df Model': '1',\n",
       " 'Covariance Type': 'nonrobust',\n",
       " 'Omnibus': '8.975',\n",
       " 'Durbin-Watson': '1.676',\n",
       " 'Prob(Omnibus)': '0.011',\n",
       " 'Jarque-Bera (JB)': '8.189',\n",
       " 'Skew': '0.885',\n",
       " 'Prob(JB)': '0.0167',\n",
       " 'Kurtosis': '3.893',\n",
       " 'Cond. No': '50.7'}"
      ]
     },
     "execution_count": 37,
     "metadata": {},
     "output_type": "execute_result"
    }
   ],
   "source": [
    "import re\n",
    "\n",
    "my = {}\n",
    "\n",
    "for k in range(0, 3, 2):\n",
    "    items = tbl.tables[k].data\n",
    "    #print(items)\n",
    "\n",
    "    for item in items:\n",
    "        #print(item)\n",
    "        n = len(item)\n",
    "\n",
    "        for i in range(0, n, 2):\n",
    "            key = item[i].strip()[:-1]\n",
    "            value = item[i+1].strip()\n",
    "\n",
    "            if key and value:\n",
    "                my[key] = value\n",
    "\n",
    "my"
   ]
  },
  {
   "cell_type": "markdown",
   "metadata": {},
   "source": [
    "### VIF값 생성"
   ]
  },
  {
   "cell_type": "code",
   "execution_count": 64,
   "metadata": {},
   "outputs": [
    {
     "name": "stdout",
     "output_type": "stream",
     "text": [
      "speed의 VIF: 1.000000 (good)\n"
     ]
    }
   ],
   "source": [
    "for i in range(1, len(model.exog_names)):\n",
    "    vif = variance_inflation_factor(model.exog, i)\n",
    "\n",
    "    if vif < 10:\n",
    "        print(\"%s의 VIF: %f (good)\" % (model.exog_names[i], vif))\n",
    "    else:\n",
    "        print(\"%s의 VIF: %f (bad)\" % (model.exog_names[i], vif))"
   ]
  },
  {
   "cell_type": "code",
   "execution_count": 79,
   "metadata": {},
   "outputs": [
    {
     "data": {
      "text/plain": [
       "{'Dep. Variable': 'dist',\n",
       " 'R-squared': '0.651',\n",
       " 'Model': 'OLS',\n",
       " 'Adj. R-squared': '0.644',\n",
       " 'Method': 'Least Squares',\n",
       " 'F-statistic': '89.57',\n",
       " 'Date': 'Tue, 25 Jul 2023',\n",
       " 'Prob (F-statistic)': '1.49e-12',\n",
       " 'Time': '09:51:41',\n",
       " 'Log-Likelihood': '-206.58',\n",
       " 'No. Observations': '50',\n",
       " 'AIC': '417.2',\n",
       " 'Df Residuals': '48',\n",
       " 'BIC': '421.0',\n",
       " 'Df Model': '1',\n",
       " 'Covariance Type': 'nonrobust',\n",
       " 'Omnibus': '8.975',\n",
       " 'Durbin-Watson': '1.676',\n",
       " 'Prob(Omnibus)': '0.011',\n",
       " 'Jarque-Bera (JB)': '8.189',\n",
       " 'Skew': '0.885',\n",
       " 'Prob(JB)': '0.0167',\n",
       " 'Kurtosis': '3.893',\n",
       " 'Cond. No': '50.7',\n",
       " 'variables': [{'name': 'Intercept',\n",
       "   'coef': '-17.5791',\n",
       "   'std err': '6.758',\n",
       "   't': '-2.601',\n",
       "   'P-value': '0.012',\n",
       "   'Beta': 0,\n",
       "   'VIF': 0},\n",
       "  {'name': 'speed',\n",
       "   'coef': '3.9324',\n",
       "   'std err': '0.416',\n",
       "   't': '9.464',\n",
       "   'P-value': '0.000',\n",
       "   'Beta': 0,\n",
       "   'VIF': 1.0}]}"
      ]
     },
     "execution_count": 79,
     "metadata": {},
     "output_type": "execute_result"
    }
   ],
   "source": [
    "my['variables'] = []\n",
    "\n",
    "for i, v in enumerate(tbl.tables[1].data):\n",
    "    if i == 0:\n",
    "        continue\n",
    "\n",
    "    # 변수의 이름\n",
    "    name = v[0].strip()\n",
    "    # 변수의 이름 목록\n",
    "    name_list = list(model.exog_names)\n",
    "    # 변수의 이름 목록에서 현재 변수가 몇 번째 항목인지 찾기 \n",
    "    j = name_list.index(name)\n",
    "\n",
    "    vif = 0\n",
    "\n",
    "    # 0번째인 Intercept는 제외\n",
    "    if j > 0:\n",
    "        vif = variance_inflation_factor(model.exog, j)\n",
    "\n",
    "    my['variables'].append({\n",
    "        \"name\": name,\n",
    "        \"coef\": v[1].strip(),\n",
    "        \"std err\": v[2].strip(),\n",
    "        \"t\": v[3].strip(),\n",
    "        \"P-value\": v[4].strip(),\n",
    "        \"Beta\": 0,\n",
    "        \"VIF\": vif,\n",
    "    })\n",
    "\n",
    "my"
   ]
  },
  {
   "cell_type": "code",
   "execution_count": 80,
   "metadata": {},
   "outputs": [
    {
     "data": {
      "text/html": [
       "<div>\n",
       "<style scoped>\n",
       "    .dataframe tbody tr th:only-of-type {\n",
       "        vertical-align: middle;\n",
       "    }\n",
       "\n",
       "    .dataframe tbody tr th {\n",
       "        vertical-align: top;\n",
       "    }\n",
       "\n",
       "    .dataframe thead th {\n",
       "        text-align: right;\n",
       "    }\n",
       "</style>\n",
       "<table border=\"1\" class=\"dataframe\">\n",
       "  <thead>\n",
       "    <tr style=\"text-align: right;\">\n",
       "      <th></th>\n",
       "      <th>독립변수</th>\n",
       "      <th>B</th>\n",
       "      <th>표준오차</th>\n",
       "      <th>β</th>\n",
       "      <th>t</th>\n",
       "      <th>유의확률</th>\n",
       "      <th>VIF</th>\n",
       "    </tr>\n",
       "    <tr>\n",
       "      <th>종속변수</th>\n",
       "      <th></th>\n",
       "      <th></th>\n",
       "      <th></th>\n",
       "      <th></th>\n",
       "      <th></th>\n",
       "      <th></th>\n",
       "      <th></th>\n",
       "    </tr>\n",
       "  </thead>\n",
       "  <tbody>\n",
       "    <tr>\n",
       "      <th>dist</th>\n",
       "      <td>speed</td>\n",
       "      <td>3.9324</td>\n",
       "      <td>0.416</td>\n",
       "      <td>0</td>\n",
       "      <td>9.464*</td>\n",
       "      <td>0.000</td>\n",
       "      <td>1.0</td>\n",
       "    </tr>\n",
       "  </tbody>\n",
       "</table>\n",
       "</div>"
      ],
      "text/plain": [
       "       독립변수       B   표준오차  β       t   유의확률  VIF\n",
       "종속변수                                             \n",
       "dist  speed  3.9324  0.416  0  9.464*  0.000  1.0"
      ]
     },
     "execution_count": 80,
     "metadata": {},
     "output_type": "execute_result"
    }
   ],
   "source": [
    "mylist = []\n",
    "\n",
    "for i in my['variables']:\n",
    "    if i['name'] == 'Intercept':\n",
    "        continue\n",
    "\n",
    "    item = {\n",
    "        \"독립변수\": i['name'],\n",
    "        \"B\": i['coef'],\n",
    "        \"표준오차\": i['std err'],\n",
    "        \"β\": i['Beta'],\n",
    "        \"t\": \"%s*\" % i['t'],\n",
    "        \"유의확률\" : i['P-value'],\n",
    "        \"VIF\": i[\"VIF\"]\n",
    "    }\n",
    "\n",
    "    mylist.append(item)\n",
    "\n",
    "df = DataFrame(mylist, index=['dist'])\n",
    "df.index.name = '종속변수'\n",
    "df"
   ]
  },
  {
   "cell_type": "markdown",
   "metadata": {},
   "source": [
    "| 별표 개수 | p값 범위 |\n",
    "|---|---|\n",
    "| `*` | $p < 0.05$|\n",
    "| `**` | $p < 0.01$|\n",
    "| `***` | $p < 0.001$|"
   ]
  },
  {
   "cell_type": "code",
   "execution_count": 81,
   "metadata": {},
   "outputs": [
    {
     "data": {
      "text/plain": [
       "'𝑅(0.651), 𝑅^2(0.644), 𝐹(89.57), 유의확률(1.49e-12), Durbin-Watson(1.676)'"
      ]
     },
     "execution_count": 81,
     "metadata": {},
     "output_type": "execute_result"
    }
   ],
   "source": [
    "\"𝑅(%s), 𝑅^2(%s), 𝐹(%s), 유의확률(%s), Durbin-Watson(%s)\" % (my['R-squared'], my['Adj. R-squared'], my['F-statistic'], my['Prob (F-statistic)'], my['Durbin-Watson'])"
   ]
  },
  {
   "cell_type": "code",
   "execution_count": null,
   "metadata": {},
   "outputs": [],
   "source": []
  }
 ],
 "metadata": {
  "kernelspec": {
   "display_name": "Python 3",
   "language": "python",
   "name": "python3"
  },
  "language_info": {
   "codemirror_mode": {
    "name": "ipython",
    "version": 3
   },
   "file_extension": ".py",
   "mimetype": "text/x-python",
   "name": "python",
   "nbconvert_exporter": "python",
   "pygments_lexer": "ipython3",
   "version": "3.11.4"
  },
  "orig_nbformat": 4
 },
 "nbformat": 4,
 "nbformat_minor": 2
}
