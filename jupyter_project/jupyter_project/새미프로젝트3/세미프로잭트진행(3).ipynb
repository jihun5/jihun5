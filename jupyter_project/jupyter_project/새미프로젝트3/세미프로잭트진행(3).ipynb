{
 "cells": [
  {
   "cell_type": "code",
   "execution_count": 1,
   "metadata": {},
   "outputs": [],
   "source": [
    "import pandas as pd\n",
    "import numpy as np\n",
    "import matplotlib.pyplot as plt\n",
    "import seaborn as sns\n",
    "import sys\n",
    "import os\n",
    "import scipy.stats as stats"
   ]
  },
  {
   "cell_type": "code",
   "execution_count": 2,
   "metadata": {},
   "outputs": [],
   "source": [
    "plt.rcParams[\"font.family\"] = 'AppleGothic' if sys.platform == 'darwin' else 'Malgun Gothic'\n",
    "plt.rcParams[\"font.size\"] = 12\n",
    "plt.rcParams[\"figure.figsize\"] = (10, 5)\n",
    "plt.rcParams[\"axes.unicode_minus\"] = False"
   ]
  },
  {
   "cell_type": "code",
   "execution_count": 3,
   "metadata": {},
   "outputs": [
    {
     "data": {
      "text/html": [
       "<div>\n",
       "<style scoped>\n",
       "    .dataframe tbody tr th:only-of-type {\n",
       "        vertical-align: middle;\n",
       "    }\n",
       "\n",
       "    .dataframe tbody tr th {\n",
       "        vertical-align: top;\n",
       "    }\n",
       "\n",
       "    .dataframe thead th {\n",
       "        text-align: right;\n",
       "    }\n",
       "</style>\n",
       "<table border=\"1\" class=\"dataframe\">\n",
       "  <thead>\n",
       "    <tr style=\"text-align: right;\">\n",
       "      <th></th>\n",
       "      <th>Unnamed: 0</th>\n",
       "      <th>gen</th>\n",
       "      <th>age</th>\n",
       "      <th>religion</th>\n",
       "      <th>edu</th>\n",
       "      <th>sm_year</th>\n",
       "      <th>sm_state</th>\n",
       "      <th>sm_day</th>\n",
       "      <th>dr_mean_year</th>\n",
       "      <th>dr_6cup</th>\n",
       "      <th>...</th>\n",
       "      <th>preg_experience</th>\n",
       "      <th>health_state</th>\n",
       "      <th>disabled</th>\n",
       "      <th>work_state</th>\n",
       "      <th>work_code</th>\n",
       "      <th>region</th>\n",
       "      <th>income</th>\n",
       "      <th>y_total</th>\n",
       "      <th>debt</th>\n",
       "      <th>y_train</th>\n",
       "    </tr>\n",
       "  </thead>\n",
       "  <tbody>\n",
       "    <tr>\n",
       "      <th>0</th>\n",
       "      <td>0</td>\n",
       "      <td>female</td>\n",
       "      <td>78</td>\n",
       "      <td>yes</td>\n",
       "      <td>중졸</td>\n",
       "      <td>NaN</td>\n",
       "      <td>no</td>\n",
       "      <td>NaN</td>\n",
       "      <td>전혀마시지않음</td>\n",
       "      <td>NaN</td>\n",
       "      <td>...</td>\n",
       "      <td>없다</td>\n",
       "      <td>2</td>\n",
       "      <td>abled</td>\n",
       "      <td>nowork</td>\n",
       "      <td>NaN</td>\n",
       "      <td>city</td>\n",
       "      <td>405.0</td>\n",
       "      <td>20</td>\n",
       "      <td>10350.0</td>\n",
       "      <td>0</td>\n",
       "    </tr>\n",
       "    <tr>\n",
       "      <th>1</th>\n",
       "      <td>1</td>\n",
       "      <td>male</td>\n",
       "      <td>75</td>\n",
       "      <td>no</td>\n",
       "      <td>초졸이하</td>\n",
       "      <td>NaN</td>\n",
       "      <td>no</td>\n",
       "      <td>NaN</td>\n",
       "      <td>전혀마시지않음</td>\n",
       "      <td>NaN</td>\n",
       "      <td>...</td>\n",
       "      <td>남성</td>\n",
       "      <td>1</td>\n",
       "      <td>abled</td>\n",
       "      <td>work</td>\n",
       "      <td>942.0</td>\n",
       "      <td>city</td>\n",
       "      <td>2788.0</td>\n",
       "      <td>29</td>\n",
       "      <td>0.0</td>\n",
       "      <td>1</td>\n",
       "    </tr>\n",
       "    <tr>\n",
       "      <th>2</th>\n",
       "      <td>2</td>\n",
       "      <td>male</td>\n",
       "      <td>81</td>\n",
       "      <td>yes</td>\n",
       "      <td>대졸이상</td>\n",
       "      <td>NaN</td>\n",
       "      <td>no</td>\n",
       "      <td>NaN</td>\n",
       "      <td>전혀마시지않음</td>\n",
       "      <td>NaN</td>\n",
       "      <td>...</td>\n",
       "      <td>남성</td>\n",
       "      <td>4</td>\n",
       "      <td>abled</td>\n",
       "      <td>work</td>\n",
       "      <td>762.0</td>\n",
       "      <td>city</td>\n",
       "      <td>2304.0</td>\n",
       "      <td>18</td>\n",
       "      <td>21220.0</td>\n",
       "      <td>0</td>\n",
       "    </tr>\n",
       "    <tr>\n",
       "      <th>3</th>\n",
       "      <td>3</td>\n",
       "      <td>male</td>\n",
       "      <td>61</td>\n",
       "      <td>yes</td>\n",
       "      <td>대졸이상</td>\n",
       "      <td>NaN</td>\n",
       "      <td>no</td>\n",
       "      <td>NaN</td>\n",
       "      <td>전혀마시지않음</td>\n",
       "      <td>NaN</td>\n",
       "      <td>...</td>\n",
       "      <td>남성</td>\n",
       "      <td>4</td>\n",
       "      <td>abled</td>\n",
       "      <td>work</td>\n",
       "      <td>855.0</td>\n",
       "      <td>city</td>\n",
       "      <td>5231.0</td>\n",
       "      <td>20</td>\n",
       "      <td>0.0</td>\n",
       "      <td>0</td>\n",
       "    </tr>\n",
       "    <tr>\n",
       "      <th>4</th>\n",
       "      <td>4</td>\n",
       "      <td>female</td>\n",
       "      <td>60</td>\n",
       "      <td>yes</td>\n",
       "      <td>고졸</td>\n",
       "      <td>NaN</td>\n",
       "      <td>no</td>\n",
       "      <td>NaN</td>\n",
       "      <td>전혀마시지않음</td>\n",
       "      <td>NaN</td>\n",
       "      <td>...</td>\n",
       "      <td>없다</td>\n",
       "      <td>4</td>\n",
       "      <td>abled</td>\n",
       "      <td>work</td>\n",
       "      <td>399.0</td>\n",
       "      <td>city</td>\n",
       "      <td>5231.0</td>\n",
       "      <td>21</td>\n",
       "      <td>0.0</td>\n",
       "      <td>0</td>\n",
       "    </tr>\n",
       "  </tbody>\n",
       "</table>\n",
       "<p>5 rows × 22 columns</p>\n",
       "</div>"
      ],
      "text/plain": [
       "   Unnamed: 0     gen  age religion   edu  sm_year sm_state  sm_day  \\\n",
       "0           0  female   78      yes    중졸      NaN       no     NaN   \n",
       "1           1    male   75       no  초졸이하      NaN       no     NaN   \n",
       "2           2    male   81      yes  대졸이상      NaN       no     NaN   \n",
       "3           3    male   61      yes  대졸이상      NaN       no     NaN   \n",
       "4           4  female   60      yes    고졸      NaN       no     NaN   \n",
       "\n",
       "  dr_mean_year dr_6cup  ... preg_experience health_state disabled  work_state  \\\n",
       "0      전혀마시지않음     NaN  ...              없다            2    abled      nowork   \n",
       "1      전혀마시지않음     NaN  ...              남성            1    abled        work   \n",
       "2      전혀마시지않음     NaN  ...              남성            4    abled        work   \n",
       "3      전혀마시지않음     NaN  ...              남성            4    abled        work   \n",
       "4      전혀마시지않음     NaN  ...              없다            4    abled        work   \n",
       "\n",
       "  work_code region  income y_total     debt  y_train  \n",
       "0       NaN   city   405.0      20  10350.0        0  \n",
       "1     942.0   city  2788.0      29      0.0        1  \n",
       "2     762.0   city  2304.0      18  21220.0        0  \n",
       "3     855.0   city  5231.0      20      0.0        0  \n",
       "4     399.0   city  5231.0      21      0.0        0  \n",
       "\n",
       "[5 rows x 22 columns]"
      ]
     },
     "execution_count": 3,
     "metadata": {},
     "output_type": "execute_result"
    }
   ],
   "source": [
    "df = pd.read_excel(\"빚추가마지막.xlsx\")\n",
    "df.head()"
   ]
  },
  {
   "cell_type": "code",
   "execution_count": 4,
   "metadata": {},
   "outputs": [
    {
     "name": "stdout",
     "output_type": "stream",
     "text": [
      "<class 'pandas.core.frame.DataFrame'>\n",
      "Index: 5414 entries, 0 to 13473\n",
      "Data columns (total 22 columns):\n",
      " #   Column           Non-Null Count  Dtype  \n",
      "---  ------           --------------  -----  \n",
      " 0   Unnamed: 0       5414 non-null   int64  \n",
      " 1   gen              5414 non-null   object \n",
      " 2   age              5414 non-null   int64  \n",
      " 3   religion         5414 non-null   object \n",
      " 4   edu              5414 non-null   object \n",
      " 5   sm_year          383 non-null    float64\n",
      " 6   sm_state         5414 non-null   object \n",
      " 7   sm_day           1048 non-null   float64\n",
      " 8   dr_mean_year     5414 non-null   object \n",
      " 9   dr_6cup          2955 non-null   object \n",
      " 10  dr_hurt          2955 non-null   object \n",
      " 11  dr_worry         2955 non-null   object \n",
      " 12  preg_experience  5414 non-null   object \n",
      " 13  health_state     5414 non-null   int64  \n",
      " 14  disabled         5414 non-null   object \n",
      " 15  work_state       5414 non-null   object \n",
      " 16  work_code        3801 non-null   float64\n",
      " 17  region           5414 non-null   object \n",
      " 18  income           5414 non-null   float64\n",
      " 19  y_total          5414 non-null   int64  \n",
      " 20  debt             5414 non-null   float64\n",
      " 21  y_train          5414 non-null   int64  \n",
      "dtypes: float64(5), int64(5), object(12)\n",
      "memory usage: 972.8+ KB\n"
     ]
    }
   ],
   "source": [
    "df.loc[(df['income']>0)&(df['debt']>0),:].info()"
   ]
  },
  {
   "cell_type": "code",
   "execution_count": 5,
   "metadata": {},
   "outputs": [],
   "source": [
    "df= df.loc[(df['income']>0)&(df['debt']>0),:]"
   ]
  },
  {
   "cell_type": "code",
   "execution_count": 6,
   "metadata": {},
   "outputs": [
    {
     "data": {
      "text/plain": [
       "<Axes: xlabel='debt', ylabel='income'>"
      ]
     },
     "execution_count": 6,
     "metadata": {},
     "output_type": "execute_result"
    },
    {
     "data": {
      "image/png": "[encoded data removed]",
      "text/plain": [
       "<Figure size 1000x500 with 1 Axes>"
      ]
     },
     "metadata": {},
     "output_type": "display_data"
    }
   ],
   "source": [
    "sns.regplot(data=df,x='debt',y='income')"
   ]
  },
  {
   "cell_type": "code",
   "execution_count": 7,
   "metadata": {},
   "outputs": [
    {
     "data": {
      "text/plain": [
       "<Axes: xlabel='debt', ylabel='y_total'>"
      ]
     },
     "execution_count": 7,
     "metadata": {},
     "output_type": "execute_result"
    },
    {
     "data": {
      "image/png": "[encoded data removed]",
      "text/plain": [
       "<Figure size 1000x500 with 1 Axes>"
      ]
     },
     "metadata": {},
     "output_type": "display_data"
    }
   ],
   "source": [
    "sns.regplot(data=df,x='debt',y='y_total')"
   ]
  },
  {
   "cell_type": "code",
   "execution_count": 8,
   "metadata": {},
   "outputs": [
    {
     "data": {
      "text/html": [
       "<div>\n",
       "<style scoped>\n",
       "    .dataframe tbody tr th:only-of-type {\n",
       "        vertical-align: middle;\n",
       "    }\n",
       "\n",
       "    .dataframe tbody tr th {\n",
       "        vertical-align: top;\n",
       "    }\n",
       "\n",
       "    .dataframe thead th {\n",
       "        text-align: right;\n",
       "    }\n",
       "</style>\n",
       "<table border=\"1\" class=\"dataframe\">\n",
       "  <thead>\n",
       "    <tr style=\"text-align: right;\">\n",
       "      <th></th>\n",
       "      <th>debt</th>\n",
       "      <th>income</th>\n",
       "    </tr>\n",
       "  </thead>\n",
       "  <tbody>\n",
       "    <tr>\n",
       "      <th>debt</th>\n",
       "      <td>1.000000</td>\n",
       "      <td>0.300693</td>\n",
       "    </tr>\n",
       "    <tr>\n",
       "      <th>income</th>\n",
       "      <td>0.300693</td>\n",
       "      <td>1.000000</td>\n",
       "    </tr>\n",
       "  </tbody>\n",
       "</table>\n",
       "</div>"
      ],
      "text/plain": [
       "            debt    income\n",
       "debt    1.000000  0.300693\n",
       "income  0.300693  1.000000"
      ]
     },
     "execution_count": 8,
     "metadata": {},
     "output_type": "execute_result"
    }
   ],
   "source": [
    "corr  = df[['debt','income']].corr()\n",
    "corr"
   ]
  },
  {
   "cell_type": "code",
   "execution_count": 9,
   "metadata": {},
   "outputs": [
    {
     "data": {
      "text/html": [
       "<div>\n",
       "<style scoped>\n",
       "    .dataframe tbody tr th:only-of-type {\n",
       "        vertical-align: middle;\n",
       "    }\n",
       "\n",
       "    .dataframe tbody tr th {\n",
       "        vertical-align: top;\n",
       "    }\n",
       "\n",
       "    .dataframe thead th {\n",
       "        text-align: right;\n",
       "    }\n",
       "</style>\n",
       "<table border=\"1\" class=\"dataframe\">\n",
       "  <thead>\n",
       "    <tr style=\"text-align: right;\">\n",
       "      <th></th>\n",
       "      <th>Unnamed: 0</th>\n",
       "      <th>gen</th>\n",
       "      <th>age</th>\n",
       "      <th>religion</th>\n",
       "      <th>edu</th>\n",
       "      <th>sm_year</th>\n",
       "      <th>sm_state</th>\n",
       "      <th>sm_day</th>\n",
       "      <th>dr_mean_year</th>\n",
       "      <th>dr_6cup</th>\n",
       "      <th>...</th>\n",
       "      <th>health_state</th>\n",
       "      <th>disabled</th>\n",
       "      <th>work_state</th>\n",
       "      <th>work_code</th>\n",
       "      <th>region</th>\n",
       "      <th>income</th>\n",
       "      <th>y_total</th>\n",
       "      <th>debt</th>\n",
       "      <th>y_train</th>\n",
       "      <th>age_range</th>\n",
       "    </tr>\n",
       "  </thead>\n",
       "  <tbody>\n",
       "    <tr>\n",
       "      <th>0</th>\n",
       "      <td>0</td>\n",
       "      <td>female</td>\n",
       "      <td>78</td>\n",
       "      <td>yes</td>\n",
       "      <td>중졸</td>\n",
       "      <td>NaN</td>\n",
       "      <td>no</td>\n",
       "      <td>NaN</td>\n",
       "      <td>전혀마시지않음</td>\n",
       "      <td>NaN</td>\n",
       "      <td>...</td>\n",
       "      <td>2</td>\n",
       "      <td>abled</td>\n",
       "      <td>nowork</td>\n",
       "      <td>NaN</td>\n",
       "      <td>city</td>\n",
       "      <td>405.0</td>\n",
       "      <td>20</td>\n",
       "      <td>10350.0</td>\n",
       "      <td>0</td>\n",
       "      <td>60세 이상</td>\n",
       "    </tr>\n",
       "    <tr>\n",
       "      <th>2</th>\n",
       "      <td>2</td>\n",
       "      <td>male</td>\n",
       "      <td>81</td>\n",
       "      <td>yes</td>\n",
       "      <td>대졸이상</td>\n",
       "      <td>NaN</td>\n",
       "      <td>no</td>\n",
       "      <td>NaN</td>\n",
       "      <td>전혀마시지않음</td>\n",
       "      <td>NaN</td>\n",
       "      <td>...</td>\n",
       "      <td>4</td>\n",
       "      <td>abled</td>\n",
       "      <td>work</td>\n",
       "      <td>762.0</td>\n",
       "      <td>city</td>\n",
       "      <td>2304.0</td>\n",
       "      <td>18</td>\n",
       "      <td>21220.0</td>\n",
       "      <td>0</td>\n",
       "      <td>60세 이상</td>\n",
       "    </tr>\n",
       "    <tr>\n",
       "      <th>8</th>\n",
       "      <td>8</td>\n",
       "      <td>female</td>\n",
       "      <td>53</td>\n",
       "      <td>yes</td>\n",
       "      <td>고졸</td>\n",
       "      <td>NaN</td>\n",
       "      <td>no</td>\n",
       "      <td>NaN</td>\n",
       "      <td>전혀마시지않음</td>\n",
       "      <td>NaN</td>\n",
       "      <td>...</td>\n",
       "      <td>2</td>\n",
       "      <td>abled</td>\n",
       "      <td>work</td>\n",
       "      <td>151.0</td>\n",
       "      <td>city</td>\n",
       "      <td>2290.8</td>\n",
       "      <td>21</td>\n",
       "      <td>1020.0</td>\n",
       "      <td>0</td>\n",
       "      <td>50~59세</td>\n",
       "    </tr>\n",
       "    <tr>\n",
       "      <th>9</th>\n",
       "      <td>9</td>\n",
       "      <td>female</td>\n",
       "      <td>31</td>\n",
       "      <td>no</td>\n",
       "      <td>중졸</td>\n",
       "      <td>NaN</td>\n",
       "      <td>no</td>\n",
       "      <td>NaN</td>\n",
       "      <td>전혀마시지않음</td>\n",
       "      <td>NaN</td>\n",
       "      <td>...</td>\n",
       "      <td>2</td>\n",
       "      <td>abled</td>\n",
       "      <td>nowork</td>\n",
       "      <td>NaN</td>\n",
       "      <td>city</td>\n",
       "      <td>2290.8</td>\n",
       "      <td>17</td>\n",
       "      <td>1020.0</td>\n",
       "      <td>0</td>\n",
       "      <td>30~39세</td>\n",
       "    </tr>\n",
       "    <tr>\n",
       "      <th>13</th>\n",
       "      <td>13</td>\n",
       "      <td>male</td>\n",
       "      <td>45</td>\n",
       "      <td>no</td>\n",
       "      <td>대졸이상</td>\n",
       "      <td>NaN</td>\n",
       "      <td>yes</td>\n",
       "      <td>14.0</td>\n",
       "      <td>월2~3회</td>\n",
       "      <td>연1회</td>\n",
       "      <td>...</td>\n",
       "      <td>4</td>\n",
       "      <td>abled</td>\n",
       "      <td>work</td>\n",
       "      <td>399.0</td>\n",
       "      <td>city</td>\n",
       "      <td>5958.0</td>\n",
       "      <td>20</td>\n",
       "      <td>12921.0</td>\n",
       "      <td>0</td>\n",
       "      <td>40~49세</td>\n",
       "    </tr>\n",
       "  </tbody>\n",
       "</table>\n",
       "<p>5 rows × 23 columns</p>\n",
       "</div>"
      ],
      "text/plain": [
       "    Unnamed: 0     gen  age religion   edu  sm_year sm_state  sm_day  \\\n",
       "0            0  female   78      yes    중졸      NaN       no     NaN   \n",
       "2            2    male   81      yes  대졸이상      NaN       no     NaN   \n",
       "8            8  female   53      yes    고졸      NaN       no     NaN   \n",
       "9            9  female   31       no    중졸      NaN       no     NaN   \n",
       "13          13    male   45       no  대졸이상      NaN      yes    14.0   \n",
       "\n",
       "   dr_mean_year dr_6cup  ... health_state disabled work_state  work_code  \\\n",
       "0       전혀마시지않음     NaN  ...            2    abled     nowork        NaN   \n",
       "2       전혀마시지않음     NaN  ...            4    abled       work      762.0   \n",
       "8       전혀마시지않음     NaN  ...            2    abled       work      151.0   \n",
       "9       전혀마시지않음     NaN  ...            2    abled     nowork        NaN   \n",
       "13        월2~3회     연1회  ...            4    abled       work      399.0   \n",
       "\n",
       "   region  income  y_total     debt  y_train  age_range  \n",
       "0    city   405.0       20  10350.0        0     60세 이상  \n",
       "2    city  2304.0       18  21220.0        0     60세 이상  \n",
       "8    city  2290.8       21   1020.0        0     50~59세  \n",
       "9    city  2290.8       17   1020.0        0     30~39세  \n",
       "13   city  5958.0       20  12921.0        0     40~49세  \n",
       "\n",
       "[5 rows x 23 columns]"
      ]
     },
     "execution_count": 9,
     "metadata": {},
     "output_type": "execute_result"
    }
   ],
   "source": [
    "bins = [20,29,39,49,59,99]\n",
    "labels = ['19~29세','30~39세','40~49세','50~59세','60세 이상']\n",
    "\n",
    "cuts = pd.cut(df['age'],bins,labels=labels)\n",
    "df['age_range'] = cuts\n",
    "df.head()"
   ]
  },
  {
   "cell_type": "code",
   "execution_count": 10,
   "metadata": {},
   "outputs": [
    {
     "data": {
      "text/plain": [
       "<seaborn.axisgrid.FacetGrid at 0x27870d8b110>"
      ]
     },
     "execution_count": 10,
     "metadata": {},
     "output_type": "execute_result"
    },
    {
     "data": {
      "image/png": "[encoded data removed]",
      "text/plain": [
       "<Figure size 569.125x500 with 1 Axes>"
      ]
     },
     "metadata": {},
     "output_type": "display_data"
    }
   ],
   "source": [
    "sns.catplot(data=df.loc[df['y_train']==1],x='age_range',kind='count',hue='y_train')"
   ]
  },
  {
   "cell_type": "code",
   "execution_count": 11,
   "metadata": {},
   "outputs": [
    {
     "data": {
      "text/plain": [
       "<seaborn.axisgrid.FacetGrid at 0x27870d12190>"
      ]
     },
     "execution_count": 11,
     "metadata": {},
     "output_type": "execute_result"
    },
    {
     "data": {
      "image/png": "[encoded data removed]",
      "text/plain": [
       "<Figure size 569.25x500 with 1 Axes>"
      ]
     },
     "metadata": {},
     "output_type": "display_data"
    }
   ],
   "source": [
    "sns.catplot(data=df,x='religion',kind='count',hue='y_train')"
   ]
  },
  {
   "cell_type": "code",
   "execution_count": 12,
   "metadata": {},
   "outputs": [
    {
     "data": {
      "image/png": "[encoded data removed]",
      "text/plain": [
       "<Figure size 569.25x500 with 1 Axes>"
      ]
     },
     "metadata": {},
     "output_type": "display_data"
    }
   ],
   "source": [
    "sns.catplot(data=df,x='edu',kind='count',hue='y_train')\n",
    "plt.show()\n",
    "plt.close()"
   ]
  },
  {
   "cell_type": "code",
   "execution_count": 13,
   "metadata": {},
   "outputs": [
    {
     "data": {
      "text/plain": [
       "<seaborn.axisgrid.FacetGrid at 0x27870d66a50>"
      ]
     },
     "execution_count": 13,
     "metadata": {},
     "output_type": "execute_result"
    },
    {
     "data": {
      "image/png": "[encoded data removed]",
      "text/plain": [
       "<Figure size 569.25x500 with 1 Axes>"
      ]
     },
     "metadata": {},
     "output_type": "display_data"
    }
   ],
   "source": [
    "sns.catplot(data=df,x='sm_state',kind='count',hue='y_train')"
   ]
  },
  {
   "cell_type": "code",
   "execution_count": 14,
   "metadata": {},
   "outputs": [],
   "source": [
    "from sklearn.utils import resample\n",
    "\n",
    "subset_city_downsampled = resample(df[df['sm_state']=='no'],\n",
    "                            replace=False,\n",
    "                            n_samples =1048 ,\n",
    "                            random_state = 2020)\n",
    "                            \n"
   ]
  },
  {
   "cell_type": "code",
   "execution_count": 15,
   "metadata": {},
   "outputs": [
    {
     "data": {
      "text/plain": [
       "sm_state\n",
       "yes    1048\n",
       "no     1048\n",
       "Name: count, dtype: int64"
      ]
     },
     "execution_count": 15,
     "metadata": {},
     "output_type": "execute_result"
    }
   ],
   "source": [
    "sm_data = pd.concat([df[df['sm_state']=='yes'],subset_city_downsampled])\n",
    "sm_data['sm_state'].value_counts()"
   ]
  },
  {
   "cell_type": "code",
   "execution_count": 16,
   "metadata": {},
   "outputs": [
    {
     "data": {
      "text/plain": [
       "<seaborn.axisgrid.FacetGrid at 0x27870da8750>"
      ]
     },
     "execution_count": 16,
     "metadata": {},
     "output_type": "execute_result"
    },
    {
     "data": {
      "image/png": "[encoded data removed]",
      "text/plain": [
       "<Figure size 569.25x500 with 1 Axes>"
      ]
     },
     "metadata": {},
     "output_type": "display_data"
    }
   ],
   "source": [
    "sns.catplot(data=sm_data,x='sm_state',kind='count',hue='y_train')"
   ]
  },
  {
   "cell_type": "code",
   "execution_count": 17,
   "metadata": {},
   "outputs": [
    {
     "data": {
      "text/plain": [
       "<seaborn.axisgrid.FacetGrid at 0x2787087e910>"
      ]
     },
     "execution_count": 17,
     "metadata": {},
     "output_type": "execute_result"
    },
    {
     "data": {
      "image/png": "[encoded data removed]",
      "text/plain": [
       "<Figure size 569.25x500 with 1 Axes>"
      ]
     },
     "metadata": {},
     "output_type": "display_data"
    }
   ],
   "source": [
    "sns.catplot(data=df,x='dr_mean_year',kind='count',hue='y_train')"
   ]
  },
  {
   "cell_type": "code",
   "execution_count": 18,
   "metadata": {},
   "outputs": [
    {
     "data": {
      "text/plain": [
       "0"
      ]
     },
     "execution_count": 18,
     "metadata": {},
     "output_type": "execute_result"
    }
   ],
   "source": [
    "over_dr = df.loc[df['dr_6cup'].notnull(),:]\n",
    "\n",
    "over_dr['dr_6cup'].isnull().sum()"
   ]
  },
  {
   "cell_type": "code",
   "execution_count": 19,
   "metadata": {},
   "outputs": [
    {
     "data": {
      "text/plain": [
       "<seaborn.axisgrid.FacetGrid at 0x2787092a190>"
      ]
     },
     "execution_count": 19,
     "metadata": {},
     "output_type": "execute_result"
    },
    {
     "data": {
      "image/png": "[encoded data removed]",
      "text/plain": [
       "<Figure size 569.125x500 with 1 Axes>"
      ]
     },
     "metadata": {},
     "output_type": "display_data"
    }
   ],
   "source": [
    "sns.catplot(data=over_dr.loc[over_dr['y_train']==1],x='dr_6cup',kind='count',hue='y_train')"
   ]
  },
  {
   "cell_type": "code",
   "execution_count": 20,
   "metadata": {},
   "outputs": [
    {
     "data": {
      "text/plain": [
       "<seaborn.axisgrid.FacetGrid at 0x27870983c10>"
      ]
     },
     "execution_count": 20,
     "metadata": {},
     "output_type": "execute_result"
    },
    {
     "data": {
      "image/png": "[encoded data removed]",
      "text/plain": [
       "<Figure size 569.25x500 with 1 Axes>"
      ]
     },
     "metadata": {},
     "output_type": "display_data"
    }
   ],
   "source": [
    "woman = df.loc[df['preg_experience']!='남성']\n",
    "sns.catplot(data=woman,x='preg_experience',kind='count',hue='y_train')"
   ]
  },
  {
   "cell_type": "code",
   "execution_count": 21,
   "metadata": {},
   "outputs": [],
   "source": [
    "\n",
    "subset_city_downsampled = resample(woman[woman['preg_experience']=='없다'],\n",
    "                            replace=False,\n",
    "                            n_samples =57 ,\n",
    "                            random_state = 2020)"
   ]
  },
  {
   "cell_type": "code",
   "execution_count": 22,
   "metadata": {},
   "outputs": [
    {
     "data": {
      "text/plain": [
       "preg_experience\n",
       "있다    57\n",
       "없다    57\n",
       "Name: count, dtype: int64"
      ]
     },
     "execution_count": 22,
     "metadata": {},
     "output_type": "execute_result"
    }
   ],
   "source": [
    "sm_data = pd.concat([woman[woman['preg_experience']=='있다'],subset_city_downsampled])\n",
    "sm_data['preg_experience'].value_counts()"
   ]
  },
  {
   "cell_type": "code",
   "execution_count": 23,
   "metadata": {},
   "outputs": [
    {
     "data": {
      "text/plain": [
       "<seaborn.axisgrid.FacetGrid at 0x278709ae910>"
      ]
     },
     "execution_count": 23,
     "metadata": {},
     "output_type": "execute_result"
    },
    {
     "data": {
      "image/png": "[encoded data removed]",
      "text/plain": [
       "<Figure size 569.25x500 with 1 Axes>"
      ]
     },
     "metadata": {},
     "output_type": "display_data"
    }
   ],
   "source": [
    "sns.catplot(data=sm_data,x='preg_experience',kind='count',hue='y_train')"
   ]
  },
  {
   "cell_type": "code",
   "execution_count": 24,
   "metadata": {},
   "outputs": [
    {
     "data": {
      "text/html": [
       "<div>\n",
       "<style scoped>\n",
       "    .dataframe tbody tr th:only-of-type {\n",
       "        vertical-align: middle;\n",
       "    }\n",
       "\n",
       "    .dataframe tbody tr th {\n",
       "        vertical-align: top;\n",
       "    }\n",
       "\n",
       "    .dataframe thead th {\n",
       "        text-align: right;\n",
       "    }\n",
       "</style>\n",
       "<table border=\"1\" class=\"dataframe\">\n",
       "  <thead>\n",
       "    <tr style=\"text-align: right;\">\n",
       "      <th></th>\n",
       "      <th>health_state</th>\n",
       "      <th>y_total</th>\n",
       "    </tr>\n",
       "  </thead>\n",
       "  <tbody>\n",
       "    <tr>\n",
       "      <th>health_state</th>\n",
       "      <td>1.000000</td>\n",
       "      <td>-0.342151</td>\n",
       "    </tr>\n",
       "    <tr>\n",
       "      <th>y_total</th>\n",
       "      <td>-0.342151</td>\n",
       "      <td>1.000000</td>\n",
       "    </tr>\n",
       "  </tbody>\n",
       "</table>\n",
       "</div>"
      ],
      "text/plain": [
       "              health_state   y_total\n",
       "health_state      1.000000 -0.342151\n",
       "y_total          -0.342151  1.000000"
      ]
     },
     "execution_count": 24,
     "metadata": {},
     "output_type": "execute_result"
    },
    {
     "data": {
      "image/png": "[encoded data removed]",
      "text/plain": [
       "<Figure size 1000x500 with 1 Axes>"
      ]
     },
     "metadata": {},
     "output_type": "display_data"
    }
   ],
   "source": [
    "sns.regplot(data=df,x='health_state',y='y_total')\n",
    "corr = df[['health_state','y_total']].corr(method='pearson')\n",
    "corr"
   ]
  },
  {
   "cell_type": "code",
   "execution_count": 25,
   "metadata": {},
   "outputs": [
    {
     "data": {
      "text/plain": [
       "<seaborn.axisgrid.FacetGrid at 0x2786ffbe110>"
      ]
     },
     "execution_count": 25,
     "metadata": {},
     "output_type": "execute_result"
    },
    {
     "data": {
      "image/png": "[encoded data removed]",
      "text/plain": [
       "<Figure size 569.25x500 with 1 Axes>"
      ]
     },
     "metadata": {},
     "output_type": "display_data"
    }
   ],
   "source": [
    "sns.catplot(data=df,x='disabled',kind='count',hue='y_train')"
   ]
  },
  {
   "cell_type": "code",
   "execution_count": 26,
   "metadata": {},
   "outputs": [
    {
     "data": {
      "text/plain": [
       "disabled\n",
       "abled       319\n",
       "disabled    318\n",
       "Name: count, dtype: int64"
      ]
     },
     "execution_count": 26,
     "metadata": {},
     "output_type": "execute_result"
    }
   ],
   "source": [
    "subset_city_downsampled = resample(df[df['disabled']=='abled'],\n",
    "                            replace=False,\n",
    "                            n_samples =319 ,\n",
    "                            random_state = 2020)\n",
    "able = pd.concat([df[df['disabled']=='disabled'],subset_city_downsampled])\n",
    "able['disabled'].value_counts()"
   ]
  },
  {
   "cell_type": "code",
   "execution_count": 27,
   "metadata": {},
   "outputs": [
    {
     "data": {
      "text/plain": [
       "<seaborn.axisgrid.FacetGrid at 0x2786ffafe90>"
      ]
     },
     "execution_count": 27,
     "metadata": {},
     "output_type": "execute_result"
    },
    {
     "data": {
      "image/png": "[encoded data removed]",
      "text/plain": [
       "<Figure size 569.25x500 with 1 Axes>"
      ]
     },
     "metadata": {},
     "output_type": "display_data"
    }
   ],
   "source": [
    "sns.catplot(data=able,x='disabled',kind='count',hue='y_train')"
   ]
  },
  {
   "cell_type": "code",
   "execution_count": 28,
   "metadata": {},
   "outputs": [
    {
     "data": {
      "text/plain": [
       "array(['nowork', 'work'], dtype=object)"
      ]
     },
     "execution_count": 28,
     "metadata": {},
     "output_type": "execute_result"
    }
   ],
   "source": [
    "df['work_state'].unique()"
   ]
  },
  {
   "cell_type": "code",
   "execution_count": 29,
   "metadata": {},
   "outputs": [
    {
     "data": {
      "text/plain": [
       "<seaborn.axisgrid.FacetGrid at 0x2787059fa10>"
      ]
     },
     "execution_count": 29,
     "metadata": {},
     "output_type": "execute_result"
    },
    {
     "data": {
      "image/png": "[encoded data removed]",
      "text/plain": [
       "<Figure size 569.25x500 with 1 Axes>"
      ]
     },
     "metadata": {},
     "output_type": "display_data"
    }
   ],
   "source": [
    "sns.catplot(data=df,x='work_state',kind='count',hue='y_train')"
   ]
  },
  {
   "cell_type": "code",
   "execution_count": 30,
   "metadata": {},
   "outputs": [
    {
     "data": {
      "text/plain": [
       "<seaborn.axisgrid.FacetGrid at 0x27870036910>"
      ]
     },
     "execution_count": 30,
     "metadata": {},
     "output_type": "execute_result"
    },
    {
     "data": {
      "image/png": "[encoded data removed]",
      "text/plain": [
       "<Figure size 569.25x500 with 1 Axes>"
      ]
     },
     "metadata": {},
     "output_type": "display_data"
    }
   ],
   "source": [
    "sns.catplot(data=df,x='region',kind='count',hue='y_train')"
   ]
  },
  {
   "cell_type": "code",
   "execution_count": 31,
   "metadata": {},
   "outputs": [
    {
     "data": {
      "text/plain": [
       "region\n",
       "country    696\n",
       "city       696\n",
       "Name: count, dtype: int64"
      ]
     },
     "execution_count": 31,
     "metadata": {},
     "output_type": "execute_result"
    }
   ],
   "source": [
    "\n",
    "subset_city_downsampled = resample(df[df['region']=='city'],\n",
    "                            replace=False,\n",
    "                            n_samples =696 ,\n",
    "                            random_state = 2020)\n",
    "city = pd.concat([df[df['region']=='country'],subset_city_downsampled])\n",
    "city['region'].value_counts()"
   ]
  },
  {
   "cell_type": "code",
   "execution_count": 32,
   "metadata": {},
   "outputs": [
    {
     "data": {
      "text/plain": [
       "<seaborn.axisgrid.FacetGrid at 0x2787081ef90>"
      ]
     },
     "execution_count": 32,
     "metadata": {},
     "output_type": "execute_result"
    },
    {
     "data": {
      "image/png": "[encoded data removed]",
      "text/plain": [
       "<Figure size 569.25x500 with 1 Axes>"
      ]
     },
     "metadata": {},
     "output_type": "display_data"
    }
   ],
   "source": [
    "sns.catplot(data=city,x='region',kind='count',hue='y_train')"
   ]
  },
  {
   "cell_type": "code",
   "execution_count": 33,
   "metadata": {},
   "outputs": [
    {
     "data": {
      "text/plain": [
       "<seaborn.axisgrid.FacetGrid at 0x2787079f410>"
      ]
     },
     "execution_count": 33,
     "metadata": {},
     "output_type": "execute_result"
    },
    {
     "data": {
      "image/png": "[encoded data removed]",
      "text/plain": [
       "<Figure size 569.25x500 with 1 Axes>"
      ]
     },
     "metadata": {},
     "output_type": "display_data"
    }
   ],
   "source": [
    "sns.catplot(data=df,x='gen',kind='count',hue='y_train')"
   ]
  },
  {
   "cell_type": "code",
   "execution_count": 34,
   "metadata": {},
   "outputs": [
    {
     "data": {
      "text/html": [
       "<div>\n",
       "<style scoped>\n",
       "    .dataframe tbody tr th:only-of-type {\n",
       "        vertical-align: middle;\n",
       "    }\n",
       "\n",
       "    .dataframe tbody tr th {\n",
       "        vertical-align: top;\n",
       "    }\n",
       "\n",
       "    .dataframe thead th {\n",
       "        text-align: right;\n",
       "    }\n",
       "</style>\n",
       "<table border=\"1\" class=\"dataframe\">\n",
       "  <thead>\n",
       "    <tr style=\"text-align: right;\">\n",
       "      <th></th>\n",
       "      <th>Unnamed: 0</th>\n",
       "      <th>gen</th>\n",
       "      <th>age</th>\n",
       "      <th>religion</th>\n",
       "      <th>edu</th>\n",
       "      <th>sm_year</th>\n",
       "      <th>sm_state</th>\n",
       "      <th>sm_day</th>\n",
       "      <th>dr_mean_year</th>\n",
       "      <th>dr_6cup</th>\n",
       "      <th>...</th>\n",
       "      <th>health_state</th>\n",
       "      <th>disabled</th>\n",
       "      <th>work_state</th>\n",
       "      <th>work_code</th>\n",
       "      <th>region</th>\n",
       "      <th>income</th>\n",
       "      <th>y_total</th>\n",
       "      <th>debt</th>\n",
       "      <th>y_train</th>\n",
       "      <th>age_range</th>\n",
       "    </tr>\n",
       "  </thead>\n",
       "  <tbody>\n",
       "    <tr>\n",
       "      <th>0</th>\n",
       "      <td>0</td>\n",
       "      <td>female</td>\n",
       "      <td>78</td>\n",
       "      <td>yes</td>\n",
       "      <td>중졸</td>\n",
       "      <td>NaN</td>\n",
       "      <td>no</td>\n",
       "      <td>NaN</td>\n",
       "      <td>전혀마시지않음</td>\n",
       "      <td>NaN</td>\n",
       "      <td>...</td>\n",
       "      <td>2</td>\n",
       "      <td>abled</td>\n",
       "      <td>nowork</td>\n",
       "      <td>NaN</td>\n",
       "      <td>city</td>\n",
       "      <td>405.0</td>\n",
       "      <td>20</td>\n",
       "      <td>10350.0</td>\n",
       "      <td>0</td>\n",
       "      <td>60세 이상</td>\n",
       "    </tr>\n",
       "    <tr>\n",
       "      <th>2</th>\n",
       "      <td>2</td>\n",
       "      <td>male</td>\n",
       "      <td>81</td>\n",
       "      <td>yes</td>\n",
       "      <td>대졸이상</td>\n",
       "      <td>NaN</td>\n",
       "      <td>no</td>\n",
       "      <td>NaN</td>\n",
       "      <td>전혀마시지않음</td>\n",
       "      <td>NaN</td>\n",
       "      <td>...</td>\n",
       "      <td>4</td>\n",
       "      <td>abled</td>\n",
       "      <td>work</td>\n",
       "      <td>762.0</td>\n",
       "      <td>city</td>\n",
       "      <td>2304.0</td>\n",
       "      <td>18</td>\n",
       "      <td>21220.0</td>\n",
       "      <td>0</td>\n",
       "      <td>60세 이상</td>\n",
       "    </tr>\n",
       "    <tr>\n",
       "      <th>8</th>\n",
       "      <td>8</td>\n",
       "      <td>female</td>\n",
       "      <td>53</td>\n",
       "      <td>yes</td>\n",
       "      <td>고졸</td>\n",
       "      <td>NaN</td>\n",
       "      <td>no</td>\n",
       "      <td>NaN</td>\n",
       "      <td>전혀마시지않음</td>\n",
       "      <td>NaN</td>\n",
       "      <td>...</td>\n",
       "      <td>2</td>\n",
       "      <td>abled</td>\n",
       "      <td>work</td>\n",
       "      <td>151.0</td>\n",
       "      <td>city</td>\n",
       "      <td>2290.8</td>\n",
       "      <td>21</td>\n",
       "      <td>1020.0</td>\n",
       "      <td>0</td>\n",
       "      <td>50~59세</td>\n",
       "    </tr>\n",
       "    <tr>\n",
       "      <th>9</th>\n",
       "      <td>9</td>\n",
       "      <td>female</td>\n",
       "      <td>31</td>\n",
       "      <td>no</td>\n",
       "      <td>중졸</td>\n",
       "      <td>NaN</td>\n",
       "      <td>no</td>\n",
       "      <td>NaN</td>\n",
       "      <td>전혀마시지않음</td>\n",
       "      <td>NaN</td>\n",
       "      <td>...</td>\n",
       "      <td>2</td>\n",
       "      <td>abled</td>\n",
       "      <td>nowork</td>\n",
       "      <td>NaN</td>\n",
       "      <td>city</td>\n",
       "      <td>2290.8</td>\n",
       "      <td>17</td>\n",
       "      <td>1020.0</td>\n",
       "      <td>0</td>\n",
       "      <td>30~39세</td>\n",
       "    </tr>\n",
       "    <tr>\n",
       "      <th>13</th>\n",
       "      <td>13</td>\n",
       "      <td>male</td>\n",
       "      <td>45</td>\n",
       "      <td>no</td>\n",
       "      <td>대졸이상</td>\n",
       "      <td>NaN</td>\n",
       "      <td>yes</td>\n",
       "      <td>14.0</td>\n",
       "      <td>월2~3회</td>\n",
       "      <td>연1회</td>\n",
       "      <td>...</td>\n",
       "      <td>4</td>\n",
       "      <td>abled</td>\n",
       "      <td>work</td>\n",
       "      <td>399.0</td>\n",
       "      <td>city</td>\n",
       "      <td>5958.0</td>\n",
       "      <td>20</td>\n",
       "      <td>12921.0</td>\n",
       "      <td>0</td>\n",
       "      <td>40~49세</td>\n",
       "    </tr>\n",
       "  </tbody>\n",
       "</table>\n",
       "<p>5 rows × 23 columns</p>\n",
       "</div>"
      ],
      "text/plain": [
       "    Unnamed: 0     gen  age religion   edu  sm_year sm_state  sm_day  \\\n",
       "0            0  female   78      yes    중졸      NaN       no     NaN   \n",
       "2            2    male   81      yes  대졸이상      NaN       no     NaN   \n",
       "8            8  female   53      yes    고졸      NaN       no     NaN   \n",
       "9            9  female   31       no    중졸      NaN       no     NaN   \n",
       "13          13    male   45       no  대졸이상      NaN      yes    14.0   \n",
       "\n",
       "   dr_mean_year dr_6cup  ... health_state disabled work_state  work_code  \\\n",
       "0       전혀마시지않음     NaN  ...            2    abled     nowork        NaN   \n",
       "2       전혀마시지않음     NaN  ...            4    abled       work      762.0   \n",
       "8       전혀마시지않음     NaN  ...            2    abled       work      151.0   \n",
       "9       전혀마시지않음     NaN  ...            2    abled     nowork        NaN   \n",
       "13        월2~3회     연1회  ...            4    abled       work      399.0   \n",
       "\n",
       "   region  income  y_total     debt  y_train  age_range  \n",
       "0    city   405.0       20  10350.0        0     60세 이상  \n",
       "2    city  2304.0       18  21220.0        0     60세 이상  \n",
       "8    city  2290.8       21   1020.0        0     50~59세  \n",
       "9    city  2290.8       17   1020.0        0     30~39세  \n",
       "13   city  5958.0       20  12921.0        0     40~49세  \n",
       "\n",
       "[5 rows x 23 columns]"
      ]
     },
     "execution_count": 34,
     "metadata": {},
     "output_type": "execute_result"
    }
   ],
   "source": [
    "df.head()"
   ]
  },
  {
   "cell_type": "code",
   "execution_count": 35,
   "metadata": {},
   "outputs": [
    {
     "data": {
      "text/plain": [
       "Index(['Unnamed: 0', 'gen', 'age', 'religion', 'edu', 'sm_year', 'sm_state',\n",
       "       'sm_day', 'dr_mean_year', 'dr_6cup', 'dr_hurt', 'dr_worry',\n",
       "       'preg_experience', 'health_state', 'disabled', 'work_state',\n",
       "       'work_code', 'region', 'income', 'y_total', 'debt', 'y_train',\n",
       "       'age_range'],\n",
       "      dtype='object')"
      ]
     },
     "execution_count": 35,
     "metadata": {},
     "output_type": "execute_result"
    }
   ],
   "source": [
    "df.columns"
   ]
  },
  {
   "cell_type": "code",
   "execution_count": 36,
   "metadata": {},
   "outputs": [
    {
     "data": {
      "text/plain": [
       "array(['60세 이상', '50~59세', '30~39세', '40~49세', '19~29세', 'nan'],\n",
       "      dtype=object)"
      ]
     },
     "execution_count": 36,
     "metadata": {},
     "output_type": "execute_result"
    }
   ],
   "source": [
    "df['age_range']= df['age_range'].astype('str')\n",
    "df['age_range'].unique()"
   ]
  },
  {
   "cell_type": "code",
   "execution_count": 37,
   "metadata": {},
   "outputs": [],
   "source": [
    "df['age_range'] = df['age_range'].fillna(0)\n",
    "df = df.loc[df['age_range']!=0,:]\n"
   ]
  },
  {
   "cell_type": "code",
   "execution_count": 38,
   "metadata": {},
   "outputs": [
    {
     "data": {
      "text/plain": [
       "Unnamed: 0            0\n",
       "gen                   0\n",
       "age                   0\n",
       "religion              0\n",
       "edu                   0\n",
       "sm_year            5031\n",
       "sm_state              0\n",
       "sm_day             4366\n",
       "dr_mean_year          0\n",
       "dr_6cup            2459\n",
       "dr_hurt            2459\n",
       "dr_worry           2459\n",
       "preg_experience       0\n",
       "health_state          0\n",
       "disabled              0\n",
       "work_state            0\n",
       "work_code          1613\n",
       "region                0\n",
       "income                0\n",
       "y_total               0\n",
       "debt                  0\n",
       "y_train               0\n",
       "age_range             0\n",
       "dtype: int64"
      ]
     },
     "execution_count": 38,
     "metadata": {},
     "output_type": "execute_result"
    }
   ],
   "source": [
    "df.isnull().sum()"
   ]
  },
  {
   "cell_type": "code",
   "execution_count": 39,
   "metadata": {},
   "outputs": [],
   "source": [
    "from statsmodels.formula.api import logit"
   ]
  },
  {
   "cell_type": "code",
   "execution_count": 40,
   "metadata": {},
   "outputs": [],
   "source": [
    "pd.set_option(\"display.max_rows\", None)"
   ]
  },
  {
   "cell_type": "code",
   "execution_count": 41,
   "metadata": {},
   "outputs": [],
   "source": [
    "df['log_income'] = np.log1p(df['income'])\n",
    "df['log_debt'] = np.log1p(df['debt'])\n"
   ]
  },
  {
   "cell_type": "code",
   "execution_count": 42,
   "metadata": {},
   "outputs": [
    {
     "data": {
      "text/plain": [
       "Index(['Unnamed: 0', 'gen', 'age', 'religion', 'edu', 'sm_year', 'sm_state',\n",
       "       'sm_day', 'dr_mean_year', 'dr_6cup', 'dr_hurt', 'dr_worry',\n",
       "       'preg_experience', 'health_state', 'disabled', 'work_state',\n",
       "       'work_code', 'region', 'income', 'y_total', 'debt', 'y_train',\n",
       "       'age_range', 'log_income', 'log_debt'],\n",
       "      dtype='object')"
      ]
     },
     "execution_count": 42,
     "metadata": {},
     "output_type": "execute_result"
    }
   ],
   "source": [
    "df.columns"
   ]
  },
  {
   "cell_type": "code",
   "execution_count": 43,
   "metadata": {},
   "outputs": [
    {
     "data": {
      "text/html": [
       "<div>\n",
       "<style scoped>\n",
       "    .dataframe tbody tr th:only-of-type {\n",
       "        vertical-align: middle;\n",
       "    }\n",
       "\n",
       "    .dataframe tbody tr th {\n",
       "        vertical-align: top;\n",
       "    }\n",
       "\n",
       "    .dataframe thead th {\n",
       "        text-align: right;\n",
       "    }\n",
       "</style>\n",
       "<table border=\"1\" class=\"dataframe\">\n",
       "  <thead>\n",
       "    <tr style=\"text-align: right;\">\n",
       "      <th></th>\n",
       "      <th>gen</th>\n",
       "      <th>edu</th>\n",
       "      <th>health_state</th>\n",
       "      <th>disabled</th>\n",
       "      <th>work_state</th>\n",
       "      <th>y_train</th>\n",
       "      <th>age_range</th>\n",
       "      <th>log_income</th>\n",
       "      <th>log_debt</th>\n",
       "    </tr>\n",
       "  </thead>\n",
       "  <tbody>\n",
       "    <tr>\n",
       "      <th>0</th>\n",
       "      <td>female</td>\n",
       "      <td>중졸</td>\n",
       "      <td>2</td>\n",
       "      <td>abled</td>\n",
       "      <td>nowork</td>\n",
       "      <td>0</td>\n",
       "      <td>60세 이상</td>\n",
       "      <td>6.006353</td>\n",
       "      <td>9.244838</td>\n",
       "    </tr>\n",
       "    <tr>\n",
       "      <th>2</th>\n",
       "      <td>male</td>\n",
       "      <td>대졸이상</td>\n",
       "      <td>4</td>\n",
       "      <td>abled</td>\n",
       "      <td>work</td>\n",
       "      <td>0</td>\n",
       "      <td>60세 이상</td>\n",
       "      <td>7.742836</td>\n",
       "      <td>9.962747</td>\n",
       "    </tr>\n",
       "    <tr>\n",
       "      <th>8</th>\n",
       "      <td>female</td>\n",
       "      <td>고졸</td>\n",
       "      <td>2</td>\n",
       "      <td>abled</td>\n",
       "      <td>work</td>\n",
       "      <td>0</td>\n",
       "      <td>50~59세</td>\n",
       "      <td>7.737093</td>\n",
       "      <td>6.928538</td>\n",
       "    </tr>\n",
       "    <tr>\n",
       "      <th>9</th>\n",
       "      <td>female</td>\n",
       "      <td>중졸</td>\n",
       "      <td>2</td>\n",
       "      <td>abled</td>\n",
       "      <td>nowork</td>\n",
       "      <td>0</td>\n",
       "      <td>30~39세</td>\n",
       "      <td>7.737093</td>\n",
       "      <td>6.928538</td>\n",
       "    </tr>\n",
       "    <tr>\n",
       "      <th>13</th>\n",
       "      <td>male</td>\n",
       "      <td>대졸이상</td>\n",
       "      <td>4</td>\n",
       "      <td>abled</td>\n",
       "      <td>work</td>\n",
       "      <td>0</td>\n",
       "      <td>40~49세</td>\n",
       "      <td>8.692658</td>\n",
       "      <td>9.466687</td>\n",
       "    </tr>\n",
       "  </tbody>\n",
       "</table>\n",
       "</div>"
      ],
      "text/plain": [
       "       gen   edu  health_state disabled work_state  y_train age_range  \\\n",
       "0   female    중졸             2    abled     nowork        0    60세 이상   \n",
       "2     male  대졸이상             4    abled       work        0    60세 이상   \n",
       "8   female    고졸             2    abled       work        0    50~59세   \n",
       "9   female    중졸             2    abled     nowork        0    30~39세   \n",
       "13    male  대졸이상             4    abled       work        0    40~49세   \n",
       "\n",
       "    log_income  log_debt  \n",
       "0     6.006353  9.244838  \n",
       "2     7.742836  9.962747  \n",
       "8     7.737093  6.928538  \n",
       "9     7.737093  6.928538  \n",
       "13    8.692658  9.466687  "
      ]
     },
     "execution_count": 43,
     "metadata": {},
     "output_type": "execute_result"
    }
   ],
   "source": [
    "df=df.loc[:,['gen','edu','health_state','disabled','work_state','y_train','age_range','log_income','log_debt']]\n",
    "df.head()"
   ]
  },
  {
   "cell_type": "code",
   "execution_count": 44,
   "metadata": {},
   "outputs": [
    {
     "data": {
      "text/plain": [
       "edu\n",
       "대졸이상    2686\n",
       "고졸      1690\n",
       "초졸이하     607\n",
       "중졸       431\n",
       "Name: count, dtype: int64"
      ]
     },
     "execution_count": 44,
     "metadata": {},
     "output_type": "execute_result"
    }
   ],
   "source": [
    "df['edu'].value_counts()"
   ]
  },
  {
   "cell_type": "code",
   "execution_count": 45,
   "metadata": {},
   "outputs": [],
   "source": [
    "df.loc[df['gen']=='male','gen']=1\n",
    "df.loc[df['gen']=='female','gen']=2\n",
    "df['gen'] = df['gen'].astype('category')\n",
    "\n",
    "df.loc[df['edu']=='초졸이하','edu']=1\n",
    "df.loc[df['edu']=='중졸','edu']=2\n",
    "df.loc[df['edu']=='고졸','edu']=3\n",
    "df.loc[df['edu']=='대졸이상','edu']=4\n",
    "df['edu'] = df['edu'].astype('category')\n",
    "\n",
    "df['health_state'] = df['health_state'].astype('category')\n",
    "\n",
    "df.loc[df['disabled']=='disabled','disabled']=1\n",
    "df.loc[df['disabled']=='abled','disabled']=2\n",
    "df['work_state']= df['disabled'].astype('category')\n",
    "\n",
    "df.loc[df['work_state']=='work','work_state']=1\n",
    "df.loc[df['work_state']=='nowork','work_state']=2\n",
    "df['work_state'] = df['work_state'].astype('category')\n",
    "\n",
    "\n",
    "\n",
    "\n",
    "\n"
   ]
  },
  {
   "cell_type": "code",
   "execution_count": 46,
   "metadata": {},
   "outputs": [
    {
     "name": "stdout",
     "output_type": "stream",
     "text": [
      "<class 'pandas.core.frame.DataFrame'>\n",
      "Index: 5414 entries, 0 to 13473\n",
      "Data columns (total 9 columns):\n",
      " #   Column        Non-Null Count  Dtype   \n",
      "---  ------        --------------  -----   \n",
      " 0   gen           5414 non-null   category\n",
      " 1   edu           5414 non-null   category\n",
      " 2   health_state  5414 non-null   category\n",
      " 3   disabled      5414 non-null   object  \n",
      " 4   work_state    5414 non-null   category\n",
      " 5   y_train       5414 non-null   int64   \n",
      " 6   age_range     5414 non-null   object  \n",
      " 7   log_income    5414 non-null   float64 \n",
      " 8   log_debt      5414 non-null   float64 \n",
      "dtypes: category(4), float64(2), int64(1), object(2)\n",
      "memory usage: 275.6+ KB\n"
     ]
    }
   ],
   "source": [
    "df.info()"
   ]
  },
  {
   "cell_type": "code",
   "execution_count": 47,
   "metadata": {},
   "outputs": [],
   "source": [
    "df['age_range'] = df['age_range'].astype('str')\n",
    "df.loc[df['age_range']=='19~29세','age_range']=1\n",
    "df.loc[df['age_range']=='30~39세','age_range']=2\n",
    "df.loc[df['age_range']=='40~49세','age_range']=3\n",
    "df.loc[df['age_range']=='50~59세','age_range']=4\n",
    "df.loc[df['age_range']=='60세 이상','age_range']=5\n",
    "df['age_range'] = df['age_range'].astype('category')"
   ]
  },
  {
   "cell_type": "code",
   "execution_count": 48,
   "metadata": {},
   "outputs": [
    {
     "name": "stdout",
     "output_type": "stream",
     "text": [
      "<class 'pandas.core.frame.DataFrame'>\n",
      "Index: 5414 entries, 0 to 13473\n",
      "Data columns (total 9 columns):\n",
      " #   Column        Non-Null Count  Dtype   \n",
      "---  ------        --------------  -----   \n",
      " 0   gen           5414 non-null   category\n",
      " 1   edu           5414 non-null   category\n",
      " 2   health_state  5414 non-null   category\n",
      " 3   disabled      5414 non-null   object  \n",
      " 4   work_state    5414 non-null   category\n",
      " 5   y_train       5414 non-null   int64   \n",
      " 6   age_range     5414 non-null   category\n",
      " 7   log_income    5414 non-null   float64 \n",
      " 8   log_debt      5414 non-null   float64 \n",
      "dtypes: category(5), float64(2), int64(1), object(1)\n",
      "memory usage: 238.8+ KB\n"
     ]
    }
   ],
   "source": [
    "df.info()"
   ]
  },
  {
   "cell_type": "code",
   "execution_count": 49,
   "metadata": {},
   "outputs": [
    {
     "data": {
      "text/plain": [
       "[5, 4, 2, 3, 1, 'nan']\n",
       "Categories (6, object): [1, 2, 3, 4, 5, 'nan']"
      ]
     },
     "execution_count": 49,
     "metadata": {},
     "output_type": "execute_result"
    }
   ],
   "source": [
    "df['age_range'].unique()"
   ]
  },
  {
   "cell_type": "code",
   "execution_count": 50,
   "metadata": {},
   "outputs": [],
   "source": [
    "df['age_range']=df['age_range'].astype(str)\n",
    "df= df.loc[df['age_range']!='nan',:]\n",
    "df['age_range']=df['age_range'].astype(\"category\")\n"
   ]
  },
  {
   "cell_type": "code",
   "execution_count": 51,
   "metadata": {},
   "outputs": [
    {
     "data": {
      "text/plain": [
       "['5', '4', '2', '3', '1']\n",
       "Categories (5, object): ['1', '2', '3', '4', '5']"
      ]
     },
     "execution_count": 51,
     "metadata": {},
     "output_type": "execute_result"
    }
   ],
   "source": [
    "df['age_range'].unique()"
   ]
  },
  {
   "cell_type": "code",
   "execution_count": 52,
   "metadata": {},
   "outputs": [
    {
     "data": {
      "text/plain": [
       "Index(['gen', 'edu', 'health_state', 'disabled', 'work_state', 'y_train',\n",
       "       'age_range', 'log_income', 'log_debt'],\n",
       "      dtype='object')"
      ]
     },
     "execution_count": 52,
     "metadata": {},
     "output_type": "execute_result"
    }
   ],
   "source": [
    "df.columns"
   ]
  },
  {
   "cell_type": "code",
   "execution_count": 53,
   "metadata": {},
   "outputs": [],
   "source": [
    "from sklearn.preprocessing import OneHotEncoder"
   ]
  },
  {
   "cell_type": "code",
   "execution_count": null,
   "metadata": {},
   "outputs": [],
   "source": []
  },
  {
   "cell_type": "code",
   "execution_count": 54,
   "metadata": {},
   "outputs": [
    {
     "data": {
      "text/html": [
       "<div>\n",
       "<style scoped>\n",
       "    .dataframe tbody tr th:only-of-type {\n",
       "        vertical-align: middle;\n",
       "    }\n",
       "\n",
       "    .dataframe tbody tr th {\n",
       "        vertical-align: top;\n",
       "    }\n",
       "\n",
       "    .dataframe thead th {\n",
       "        text-align: right;\n",
       "    }\n",
       "</style>\n",
       "<table border=\"1\" class=\"dataframe\">\n",
       "  <thead>\n",
       "    <tr style=\"text-align: right;\">\n",
       "      <th></th>\n",
       "      <th>y_train</th>\n",
       "      <th>log_income</th>\n",
       "      <th>log_debt</th>\n",
       "      <th>gen_2</th>\n",
       "      <th>edu_2</th>\n",
       "      <th>edu_3</th>\n",
       "      <th>edu_4</th>\n",
       "      <th>health_state_2</th>\n",
       "      <th>health_state_3</th>\n",
       "      <th>health_state_4</th>\n",
       "      <th>health_state_5</th>\n",
       "      <th>disabled_2</th>\n",
       "      <th>work_state_2</th>\n",
       "      <th>age_range_2</th>\n",
       "      <th>age_range_3</th>\n",
       "      <th>age_range_4</th>\n",
       "      <th>age_range_5</th>\n",
       "    </tr>\n",
       "  </thead>\n",
       "  <tbody>\n",
       "    <tr>\n",
       "      <th>0</th>\n",
       "      <td>0</td>\n",
       "      <td>6.006353</td>\n",
       "      <td>9.244838</td>\n",
       "      <td>1</td>\n",
       "      <td>1</td>\n",
       "      <td>0</td>\n",
       "      <td>0</td>\n",
       "      <td>1</td>\n",
       "      <td>0</td>\n",
       "      <td>0</td>\n",
       "      <td>0</td>\n",
       "      <td>1</td>\n",
       "      <td>1</td>\n",
       "      <td>0</td>\n",
       "      <td>0</td>\n",
       "      <td>0</td>\n",
       "      <td>1</td>\n",
       "    </tr>\n",
       "    <tr>\n",
       "      <th>2</th>\n",
       "      <td>0</td>\n",
       "      <td>7.742836</td>\n",
       "      <td>9.962747</td>\n",
       "      <td>0</td>\n",
       "      <td>0</td>\n",
       "      <td>0</td>\n",
       "      <td>1</td>\n",
       "      <td>0</td>\n",
       "      <td>0</td>\n",
       "      <td>1</td>\n",
       "      <td>0</td>\n",
       "      <td>1</td>\n",
       "      <td>1</td>\n",
       "      <td>0</td>\n",
       "      <td>0</td>\n",
       "      <td>0</td>\n",
       "      <td>1</td>\n",
       "    </tr>\n",
       "    <tr>\n",
       "      <th>8</th>\n",
       "      <td>0</td>\n",
       "      <td>7.737093</td>\n",
       "      <td>6.928538</td>\n",
       "      <td>1</td>\n",
       "      <td>0</td>\n",
       "      <td>1</td>\n",
       "      <td>0</td>\n",
       "      <td>1</td>\n",
       "      <td>0</td>\n",
       "      <td>0</td>\n",
       "      <td>0</td>\n",
       "      <td>1</td>\n",
       "      <td>1</td>\n",
       "      <td>0</td>\n",
       "      <td>0</td>\n",
       "      <td>1</td>\n",
       "      <td>0</td>\n",
       "    </tr>\n",
       "    <tr>\n",
       "      <th>9</th>\n",
       "      <td>0</td>\n",
       "      <td>7.737093</td>\n",
       "      <td>6.928538</td>\n",
       "      <td>1</td>\n",
       "      <td>1</td>\n",
       "      <td>0</td>\n",
       "      <td>0</td>\n",
       "      <td>1</td>\n",
       "      <td>0</td>\n",
       "      <td>0</td>\n",
       "      <td>0</td>\n",
       "      <td>1</td>\n",
       "      <td>1</td>\n",
       "      <td>1</td>\n",
       "      <td>0</td>\n",
       "      <td>0</td>\n",
       "      <td>0</td>\n",
       "    </tr>\n",
       "    <tr>\n",
       "      <th>13</th>\n",
       "      <td>0</td>\n",
       "      <td>8.692658</td>\n",
       "      <td>9.466687</td>\n",
       "      <td>0</td>\n",
       "      <td>0</td>\n",
       "      <td>0</td>\n",
       "      <td>1</td>\n",
       "      <td>0</td>\n",
       "      <td>0</td>\n",
       "      <td>1</td>\n",
       "      <td>0</td>\n",
       "      <td>1</td>\n",
       "      <td>1</td>\n",
       "      <td>0</td>\n",
       "      <td>1</td>\n",
       "      <td>0</td>\n",
       "      <td>0</td>\n",
       "    </tr>\n",
       "  </tbody>\n",
       "</table>\n",
       "</div>"
      ],
      "text/plain": [
       "    y_train  log_income  log_debt  gen_2  edu_2  edu_3  edu_4  health_state_2  \\\n",
       "0         0    6.006353  9.244838      1      1      0      0               1   \n",
       "2         0    7.742836  9.962747      0      0      0      1               0   \n",
       "8         0    7.737093  6.928538      1      0      1      0               1   \n",
       "9         0    7.737093  6.928538      1      1      0      0               1   \n",
       "13        0    8.692658  9.466687      0      0      0      1               0   \n",
       "\n",
       "    health_state_3  health_state_4  health_state_5  disabled_2  work_state_2  \\\n",
       "0                0               0               0           1             1   \n",
       "2                0               1               0           1             1   \n",
       "8                0               0               0           1             1   \n",
       "9                0               0               0           1             1   \n",
       "13               0               1               0           1             1   \n",
       "\n",
       "    age_range_2  age_range_3  age_range_4  age_range_5  \n",
       "0             0            0            0            1  \n",
       "2             0            0            0            1  \n",
       "8             0            0            1            0  \n",
       "9             1            0            0            0  \n",
       "13            0            1            0            0  "
      ]
     },
     "execution_count": 54,
     "metadata": {},
     "output_type": "execute_result"
    }
   ],
   "source": [
    "df = pd.get_dummies(df,drop_first=True,dtype='int')\n",
    "df.head()"
   ]
  },
  {
   "cell_type": "code",
   "execution_count": 55,
   "metadata": {},
   "outputs": [],
   "source": [
    "# df = df.drop(['age_range_nan'],axis=1)\n",
    "# df.columns"
   ]
  },
  {
   "cell_type": "code",
   "execution_count": 56,
   "metadata": {},
   "outputs": [
    {
     "data": {
      "text/html": [
       "<div>\n",
       "<style scoped>\n",
       "    .dataframe tbody tr th:only-of-type {\n",
       "        vertical-align: middle;\n",
       "    }\n",
       "\n",
       "    .dataframe tbody tr th {\n",
       "        vertical-align: top;\n",
       "    }\n",
       "\n",
       "    .dataframe thead th {\n",
       "        text-align: right;\n",
       "    }\n",
       "</style>\n",
       "<table border=\"1\" class=\"dataframe\">\n",
       "  <thead>\n",
       "    <tr style=\"text-align: right;\">\n",
       "      <th></th>\n",
       "      <th>y_train</th>\n",
       "      <th>log_income</th>\n",
       "      <th>log_debt</th>\n",
       "      <th>gen_2</th>\n",
       "      <th>edu_2</th>\n",
       "      <th>edu_3</th>\n",
       "      <th>edu_4</th>\n",
       "      <th>health_state_2</th>\n",
       "      <th>health_state_3</th>\n",
       "      <th>health_state_4</th>\n",
       "      <th>health_state_5</th>\n",
       "      <th>disabled_2</th>\n",
       "      <th>work_state_2</th>\n",
       "      <th>age_range_2</th>\n",
       "      <th>age_range_3</th>\n",
       "      <th>age_range_4</th>\n",
       "      <th>age_range_5</th>\n",
       "    </tr>\n",
       "  </thead>\n",
       "  <tbody>\n",
       "    <tr>\n",
       "      <th>0</th>\n",
       "      <td>0</td>\n",
       "      <td>6.006353</td>\n",
       "      <td>9.244838</td>\n",
       "      <td>1</td>\n",
       "      <td>1</td>\n",
       "      <td>0</td>\n",
       "      <td>0</td>\n",
       "      <td>1</td>\n",
       "      <td>0</td>\n",
       "      <td>0</td>\n",
       "      <td>0</td>\n",
       "      <td>1</td>\n",
       "      <td>1</td>\n",
       "      <td>0</td>\n",
       "      <td>0</td>\n",
       "      <td>0</td>\n",
       "      <td>1</td>\n",
       "    </tr>\n",
       "    <tr>\n",
       "      <th>2</th>\n",
       "      <td>0</td>\n",
       "      <td>7.742836</td>\n",
       "      <td>9.962747</td>\n",
       "      <td>0</td>\n",
       "      <td>0</td>\n",
       "      <td>0</td>\n",
       "      <td>1</td>\n",
       "      <td>0</td>\n",
       "      <td>0</td>\n",
       "      <td>1</td>\n",
       "      <td>0</td>\n",
       "      <td>1</td>\n",
       "      <td>1</td>\n",
       "      <td>0</td>\n",
       "      <td>0</td>\n",
       "      <td>0</td>\n",
       "      <td>1</td>\n",
       "    </tr>\n",
       "    <tr>\n",
       "      <th>8</th>\n",
       "      <td>0</td>\n",
       "      <td>7.737093</td>\n",
       "      <td>6.928538</td>\n",
       "      <td>1</td>\n",
       "      <td>0</td>\n",
       "      <td>1</td>\n",
       "      <td>0</td>\n",
       "      <td>1</td>\n",
       "      <td>0</td>\n",
       "      <td>0</td>\n",
       "      <td>0</td>\n",
       "      <td>1</td>\n",
       "      <td>1</td>\n",
       "      <td>0</td>\n",
       "      <td>0</td>\n",
       "      <td>1</td>\n",
       "      <td>0</td>\n",
       "    </tr>\n",
       "    <tr>\n",
       "      <th>9</th>\n",
       "      <td>0</td>\n",
       "      <td>7.737093</td>\n",
       "      <td>6.928538</td>\n",
       "      <td>1</td>\n",
       "      <td>1</td>\n",
       "      <td>0</td>\n",
       "      <td>0</td>\n",
       "      <td>1</td>\n",
       "      <td>0</td>\n",
       "      <td>0</td>\n",
       "      <td>0</td>\n",
       "      <td>1</td>\n",
       "      <td>1</td>\n",
       "      <td>1</td>\n",
       "      <td>0</td>\n",
       "      <td>0</td>\n",
       "      <td>0</td>\n",
       "    </tr>\n",
       "    <tr>\n",
       "      <th>13</th>\n",
       "      <td>0</td>\n",
       "      <td>8.692658</td>\n",
       "      <td>9.466687</td>\n",
       "      <td>0</td>\n",
       "      <td>0</td>\n",
       "      <td>0</td>\n",
       "      <td>1</td>\n",
       "      <td>0</td>\n",
       "      <td>0</td>\n",
       "      <td>1</td>\n",
       "      <td>0</td>\n",
       "      <td>1</td>\n",
       "      <td>1</td>\n",
       "      <td>0</td>\n",
       "      <td>1</td>\n",
       "      <td>0</td>\n",
       "      <td>0</td>\n",
       "    </tr>\n",
       "  </tbody>\n",
       "</table>\n",
       "</div>"
      ],
      "text/plain": [
       "    y_train  log_income  log_debt  gen_2  edu_2  edu_3  edu_4  health_state_2  \\\n",
       "0         0    6.006353  9.244838      1      1      0      0               1   \n",
       "2         0    7.742836  9.962747      0      0      0      1               0   \n",
       "8         0    7.737093  6.928538      1      0      1      0               1   \n",
       "9         0    7.737093  6.928538      1      1      0      0               1   \n",
       "13        0    8.692658  9.466687      0      0      0      1               0   \n",
       "\n",
       "    health_state_3  health_state_4  health_state_5  disabled_2  work_state_2  \\\n",
       "0                0               0               0           1             1   \n",
       "2                0               1               0           1             1   \n",
       "8                0               0               0           1             1   \n",
       "9                0               0               0           1             1   \n",
       "13               0               1               0           1             1   \n",
       "\n",
       "    age_range_2  age_range_3  age_range_4  age_range_5  \n",
       "0             0            0            0            1  \n",
       "2             0            0            0            1  \n",
       "8             0            0            1            0  \n",
       "9             1            0            0            0  \n",
       "13            0            1            0            0  "
      ]
     },
     "execution_count": 56,
     "metadata": {},
     "output_type": "execute_result"
    }
   ],
   "source": [
    "df.head()"
   ]
  },
  {
   "cell_type": "code",
   "execution_count": 57,
   "metadata": {},
   "outputs": [
    {
     "data": {
      "text/plain": [
       "['log_income',\n",
       " 'log_debt',\n",
       " 'gen_2',\n",
       " 'edu_2',\n",
       " 'edu_3',\n",
       " 'edu_4',\n",
       " 'health_state_2',\n",
       " 'health_state_3',\n",
       " 'health_state_4',\n",
       " 'health_state_5',\n",
       " 'disabled_2',\n",
       " 'work_state_2',\n",
       " 'age_range_2',\n",
       " 'age_range_3',\n",
       " 'age_range_4',\n",
       " 'age_range_5']"
      ]
     },
     "execution_count": 57,
     "metadata": {},
     "output_type": "execute_result"
    }
   ],
   "source": [
    "cnames = list(df.columns)\n",
    "cnames = cnames[1:]\n",
    "cnames"
   ]
  },
  {
   "cell_type": "code",
   "execution_count": 58,
   "metadata": {},
   "outputs": [
    {
     "name": "stdout",
     "output_type": "stream",
     "text": [
      "Optimization terminated successfully.\n",
      "         Current function value: 0.271255\n",
      "         Iterations 7\n",
      "                           Logit Regression Results                           \n",
      "==============================================================================\n",
      "Dep. Variable:                y_train   No. Observations:                 5405\n",
      "Model:                          Logit   Df Residuals:                     5389\n",
      "Method:                           MLE   Df Model:                           15\n",
      "Date:                Fri, 11 Aug 2023   Pseudo R-squ.:                  0.1366\n",
      "Time:                        17:37:24   Log-Likelihood:                -1466.1\n",
      "converged:                       True   LL-Null:                       -1698.1\n",
      "Covariance Type:            nonrobust   LLR p-value:                 2.330e-89\n",
      "==================================================================================\n",
      "                     coef    std err          z      P>|z|      [0.025      0.975]\n",
      "----------------------------------------------------------------------------------\n",
      "Intercept          4.4321      0.660      6.712      0.000       3.138       5.726\n",
      "df[cnames][0]     -0.4829      0.069     -6.976      0.000      -0.619      -0.347\n",
      "df[cnames][1]     -0.0475      0.033     -1.418      0.156      -0.113       0.018\n",
      "df[cnames][2]      0.6123      0.107      5.745      0.000       0.403       0.821\n",
      "df[cnames][3]     -0.0045      0.180     -0.025      0.980      -0.357       0.348\n",
      "df[cnames][4]      0.0553      0.162      0.340      0.734      -0.263       0.374\n",
      "df[cnames][5]     -0.1863      0.191     -0.978      0.328      -0.560       0.187\n",
      "df[cnames][6]     -0.7149      0.282     -2.533      0.011      -1.268      -0.162\n",
      "df[cnames][7]     -1.5303      0.288     -5.310      0.000      -2.095      -0.965\n",
      "df[cnames][8]     -2.2854      0.292     -7.830      0.000      -2.858      -1.713\n",
      "df[cnames][9]     -2.2277      0.346     -6.433      0.000      -2.906      -1.549\n",
      "df[cnames][10]    -0.1845   4.05e+06  -4.56e-08      1.000   -7.94e+06    7.94e+06\n",
      "df[cnames][11]    -0.1845   4.05e+06  -4.56e-08      1.000   -7.94e+06    7.94e+06\n",
      "df[cnames][12]    -0.3212      0.213     -1.509      0.131      -0.738       0.096\n",
      "df[cnames][13]    -0.5761      0.200     -2.879      0.004      -0.968      -0.184\n",
      "df[cnames][14]    -0.5653      0.204     -2.775      0.006      -0.965      -0.166\n",
      "df[cnames][15]    -0.5363      0.208     -2.578      0.010      -0.944      -0.129\n",
      "==================================================================================\n"
     ]
    }
   ],
   "source": [
    "model = logit('y_train ~df[cnames]',data = df)\n",
    "fit = model.fit()\n",
    "print(fit.summary())"
   ]
  },
  {
   "cell_type": "code",
   "execution_count": 62,
   "metadata": {},
   "outputs": [
    {
     "data": {
      "text/plain": [
       "['log_income',\n",
       " 'log_debt',\n",
       " 'gen_2',\n",
       " 'edu_2',\n",
       " 'edu_3',\n",
       " 'edu_4',\n",
       " 'health_state_2',\n",
       " 'health_state_3',\n",
       " 'health_state_4',\n",
       " 'health_state_5',\n",
       " 'disabled_2',\n",
       " 'work_state_2',\n",
       " 'age_range_2',\n",
       " 'age_range_3',\n",
       " 'age_range_4',\n",
       " 'age_range_5']"
      ]
     },
     "execution_count": 62,
     "metadata": {},
     "output_type": "execute_result"
    }
   ],
   "source": [
    "cnames"
   ]
  },
  {
   "cell_type": "code",
   "execution_count": 60,
   "metadata": {},
   "outputs": [],
   "source": [
    "df[cnames][1] -> log_debt\n",
    "df[cnames][3]  -> edu_2\n",
    "df[cnames][4]  -> edu_3\n",
    "df[cnames][5] -> edu_4\n",
    "df[cnames][10]  -> disabled_2\n",
    "df[cnames][11]  -> work_state_2\n",
    "df[cnames][12]  -> age_range_2\n"
   ]
  },
  {
   "cell_type": "code",
   "execution_count": 63,
   "metadata": {},
   "outputs": [
    {
     "data": {
      "text/html": [
       "<div>\n",
       "<style scoped>\n",
       "    .dataframe tbody tr th:only-of-type {\n",
       "        vertical-align: middle;\n",
       "    }\n",
       "\n",
       "    .dataframe tbody tr th {\n",
       "        vertical-align: top;\n",
       "    }\n",
       "\n",
       "    .dataframe thead th {\n",
       "        text-align: right;\n",
       "    }\n",
       "</style>\n",
       "<table border=\"1\" class=\"dataframe\">\n",
       "  <thead>\n",
       "    <tr style=\"text-align: right;\">\n",
       "      <th></th>\n",
       "      <th>y_train</th>\n",
       "      <th>log_income</th>\n",
       "      <th>gen_2</th>\n",
       "      <th>health_state_2</th>\n",
       "      <th>health_state_3</th>\n",
       "      <th>health_state_4</th>\n",
       "      <th>health_state_5</th>\n",
       "      <th>age_range_3</th>\n",
       "      <th>age_range_4</th>\n",
       "      <th>age_range_5</th>\n",
       "    </tr>\n",
       "  </thead>\n",
       "  <tbody>\n",
       "    <tr>\n",
       "      <th>0</th>\n",
       "      <td>0</td>\n",
       "      <td>6.006353</td>\n",
       "      <td>1</td>\n",
       "      <td>1</td>\n",
       "      <td>0</td>\n",
       "      <td>0</td>\n",
       "      <td>0</td>\n",
       "      <td>0</td>\n",
       "      <td>0</td>\n",
       "      <td>1</td>\n",
       "    </tr>\n",
       "    <tr>\n",
       "      <th>2</th>\n",
       "      <td>0</td>\n",
       "      <td>7.742836</td>\n",
       "      <td>0</td>\n",
       "      <td>0</td>\n",
       "      <td>0</td>\n",
       "      <td>1</td>\n",
       "      <td>0</td>\n",
       "      <td>0</td>\n",
       "      <td>0</td>\n",
       "      <td>1</td>\n",
       "    </tr>\n",
       "    <tr>\n",
       "      <th>8</th>\n",
       "      <td>0</td>\n",
       "      <td>7.737093</td>\n",
       "      <td>1</td>\n",
       "      <td>1</td>\n",
       "      <td>0</td>\n",
       "      <td>0</td>\n",
       "      <td>0</td>\n",
       "      <td>0</td>\n",
       "      <td>1</td>\n",
       "      <td>0</td>\n",
       "    </tr>\n",
       "    <tr>\n",
       "      <th>9</th>\n",
       "      <td>0</td>\n",
       "      <td>7.737093</td>\n",
       "      <td>1</td>\n",
       "      <td>1</td>\n",
       "      <td>0</td>\n",
       "      <td>0</td>\n",
       "      <td>0</td>\n",
       "      <td>0</td>\n",
       "      <td>0</td>\n",
       "      <td>0</td>\n",
       "    </tr>\n",
       "    <tr>\n",
       "      <th>13</th>\n",
       "      <td>0</td>\n",
       "      <td>8.692658</td>\n",
       "      <td>0</td>\n",
       "      <td>0</td>\n",
       "      <td>0</td>\n",
       "      <td>1</td>\n",
       "      <td>0</td>\n",
       "      <td>1</td>\n",
       "      <td>0</td>\n",
       "      <td>0</td>\n",
       "    </tr>\n",
       "  </tbody>\n",
       "</table>\n",
       "</div>"
      ],
      "text/plain": [
       "    y_train  log_income  gen_2  health_state_2  health_state_3  \\\n",
       "0         0    6.006353      1               1               0   \n",
       "2         0    7.742836      0               0               0   \n",
       "8         0    7.737093      1               1               0   \n",
       "9         0    7.737093      1               1               0   \n",
       "13        0    8.692658      0               0               0   \n",
       "\n",
       "    health_state_4  health_state_5  age_range_3  age_range_4  age_range_5  \n",
       "0                0               0            0            0            1  \n",
       "2                1               0            0            0            1  \n",
       "8                0               0            0            1            0  \n",
       "9                0               0            0            0            0  \n",
       "13               1               0            1            0            0  "
      ]
     },
     "execution_count": 63,
     "metadata": {},
     "output_type": "execute_result"
    }
   ],
   "source": [
    "df.drop(['log_debt','edu_2','edu_3','edu_4','disabled_2','work_state_2','age_range_2'],axis=1,inplace=True)\n",
    "df.head()\n"
   ]
  },
  {
   "cell_type": "code",
   "execution_count": 64,
   "metadata": {},
   "outputs": [
    {
     "data": {
      "text/plain": [
       "['y_train',\n",
       " 'log_income',\n",
       " 'gen_2',\n",
       " 'health_state_2',\n",
       " 'health_state_3',\n",
       " 'health_state_4',\n",
       " 'health_state_5',\n",
       " 'age_range_3',\n",
       " 'age_range_4',\n",
       " 'age_range_5']"
      ]
     },
     "execution_count": 64,
     "metadata": {},
     "output_type": "execute_result"
    }
   ],
   "source": [
    "cnames2= list(df.columns)\n",
    "cnames2"
   ]
  },
  {
   "cell_type": "code",
   "execution_count": 67,
   "metadata": {},
   "outputs": [
    {
     "data": {
      "text/html": [
       "<div>\n",
       "<style scoped>\n",
       "    .dataframe tbody tr th:only-of-type {\n",
       "        vertical-align: middle;\n",
       "    }\n",
       "\n",
       "    .dataframe tbody tr th {\n",
       "        vertical-align: top;\n",
       "    }\n",
       "\n",
       "    .dataframe thead th {\n",
       "        text-align: right;\n",
       "    }\n",
       "</style>\n",
       "<table border=\"1\" class=\"dataframe\">\n",
       "  <thead>\n",
       "    <tr style=\"text-align: right;\">\n",
       "      <th></th>\n",
       "      <th>y_train</th>\n",
       "      <th>log_income</th>\n",
       "      <th>gen_2</th>\n",
       "      <th>health_state_2</th>\n",
       "      <th>health_state_3</th>\n",
       "      <th>health_state_4</th>\n",
       "      <th>health_state_5</th>\n",
       "      <th>age_range_3</th>\n",
       "      <th>age_range_4</th>\n",
       "      <th>age_range_5</th>\n",
       "    </tr>\n",
       "  </thead>\n",
       "  <tbody>\n",
       "    <tr>\n",
       "      <th>0</th>\n",
       "      <td>0</td>\n",
       "      <td>6.006353</td>\n",
       "      <td>1</td>\n",
       "      <td>1</td>\n",
       "      <td>0</td>\n",
       "      <td>0</td>\n",
       "      <td>0</td>\n",
       "      <td>0</td>\n",
       "      <td>0</td>\n",
       "      <td>1</td>\n",
       "    </tr>\n",
       "    <tr>\n",
       "      <th>2</th>\n",
       "      <td>0</td>\n",
       "      <td>7.742836</td>\n",
       "      <td>0</td>\n",
       "      <td>0</td>\n",
       "      <td>0</td>\n",
       "      <td>1</td>\n",
       "      <td>0</td>\n",
       "      <td>0</td>\n",
       "      <td>0</td>\n",
       "      <td>1</td>\n",
       "    </tr>\n",
       "    <tr>\n",
       "      <th>8</th>\n",
       "      <td>0</td>\n",
       "      <td>7.737093</td>\n",
       "      <td>1</td>\n",
       "      <td>1</td>\n",
       "      <td>0</td>\n",
       "      <td>0</td>\n",
       "      <td>0</td>\n",
       "      <td>0</td>\n",
       "      <td>1</td>\n",
       "      <td>0</td>\n",
       "    </tr>\n",
       "    <tr>\n",
       "      <th>9</th>\n",
       "      <td>0</td>\n",
       "      <td>7.737093</td>\n",
       "      <td>1</td>\n",
       "      <td>1</td>\n",
       "      <td>0</td>\n",
       "      <td>0</td>\n",
       "      <td>0</td>\n",
       "      <td>0</td>\n",
       "      <td>0</td>\n",
       "      <td>0</td>\n",
       "    </tr>\n",
       "    <tr>\n",
       "      <th>13</th>\n",
       "      <td>0</td>\n",
       "      <td>8.692658</td>\n",
       "      <td>0</td>\n",
       "      <td>0</td>\n",
       "      <td>0</td>\n",
       "      <td>1</td>\n",
       "      <td>0</td>\n",
       "      <td>1</td>\n",
       "      <td>0</td>\n",
       "      <td>0</td>\n",
       "    </tr>\n",
       "  </tbody>\n",
       "</table>\n",
       "</div>"
      ],
      "text/plain": [
       "    y_train  log_income  gen_2  health_state_2  health_state_3  \\\n",
       "0         0    6.006353      1               1               0   \n",
       "2         0    7.742836      0               0               0   \n",
       "8         0    7.737093      1               1               0   \n",
       "9         0    7.737093      1               1               0   \n",
       "13        0    8.692658      0               0               0   \n",
       "\n",
       "    health_state_4  health_state_5  age_range_3  age_range_4  age_range_5  \n",
       "0                0               0            0            0            1  \n",
       "2                1               0            0            0            1  \n",
       "8                0               0            0            1            0  \n",
       "9                0               0            0            0            0  \n",
       "13               1               0            1            0            0  "
      ]
     },
     "execution_count": 67,
     "metadata": {},
     "output_type": "execute_result"
    }
   ],
   "source": [
    "df.head()"
   ]
  },
  {
   "cell_type": "code",
   "execution_count": 69,
   "metadata": {},
   "outputs": [
    {
     "name": "stdout",
     "output_type": "stream",
     "text": [
      "Optimization terminated successfully.\n",
      "         Current function value: 0.272503\n",
      "         Iterations 7\n",
      "                           Logit Regression Results                           \n",
      "==============================================================================\n",
      "Dep. Variable:                y_train   No. Observations:                 5405\n",
      "Model:                          Logit   Df Residuals:                     5395\n",
      "Method:                           MLE   Df Model:                            9\n",
      "Date:                Fri, 11 Aug 2023   Pseudo R-squ.:                  0.1326\n",
      "Time:                        17:44:48   Log-Likelihood:                -1472.9\n",
      "converged:                       True   LL-Null:                       -1698.1\n",
      "Covariance Type:            nonrobust   LLR p-value:                 2.275e-91\n",
      "==================================================================================\n",
      "                     coef    std err          z      P>|z|      [0.025      0.975]\n",
      "----------------------------------------------------------------------------------\n",
      "Intercept          3.7707      0.624      6.039      0.000       2.547       4.995\n",
      "log_income        -0.5177      0.068     -7.663      0.000      -0.650      -0.385\n",
      "gen_2              0.5929      0.104      5.698      0.000       0.389       0.797\n",
      "health_state_2    -0.7492      0.280     -2.673      0.008      -1.298      -0.200\n",
      "health_state_3    -1.6106      0.285     -5.658      0.000      -2.168      -1.053\n",
      "health_state_4    -2.3870      0.287     -8.304      0.000      -2.950      -1.824\n",
      "health_state_5    -2.3292      0.342     -6.812      0.000      -2.999      -1.659\n",
      "age_range_3       -0.3733      0.171     -2.189      0.029      -0.708      -0.039\n",
      "age_range_4       -0.2804      0.166     -1.688      0.091      -0.606       0.045\n",
      "age_range_5       -0.2073      0.150     -1.378      0.168      -0.502       0.087\n",
      "==================================================================================\n"
     ]
    }
   ],
   "source": [
    "model2 = logit('y_train ~ log_income+gen_2+health_state_2+health_state_3+health_state_4+health_state_5+age_range_3+age_range_4+age_range_5',data = df)\n",
    "fit2 = model2.fit()\n",
    "print(fit2.summary())"
   ]
  },
  {
   "cell_type": "code",
   "execution_count": 70,
   "metadata": {},
   "outputs": [
    {
     "name": "stdout",
     "output_type": "stream",
     "text": [
      "Optimization terminated successfully.\n",
      "         Current function value: 0.272791\n",
      "         Iterations 7\n",
      "                           Logit Regression Results                           \n",
      "==============================================================================\n",
      "Dep. Variable:                y_train   No. Observations:                 5405\n",
      "Model:                          Logit   Df Residuals:                     5397\n",
      "Method:                           MLE   Df Model:                            7\n",
      "Date:                Fri, 11 Aug 2023   Pseudo R-squ.:                  0.1317\n",
      "Time:                        17:45:27   Log-Likelihood:                -1474.4\n",
      "converged:                       True   LL-Null:                       -1698.1\n",
      "Covariance Type:            nonrobust   LLR p-value:                 1.636e-92\n",
      "==================================================================================\n",
      "                     coef    std err          z      P>|z|      [0.025      0.975]\n",
      "----------------------------------------------------------------------------------\n",
      "Intercept          3.4797      0.575      6.054      0.000       2.353       4.606\n",
      "log_income        -0.5073      0.066     -7.736      0.000      -0.636      -0.379\n",
      "gen_2              0.5968      0.104      5.739      0.000       0.393       0.801\n",
      "health_state_2    -0.7439      0.280     -2.659      0.008      -1.292      -0.196\n",
      "health_state_3    -1.5964      0.284     -5.619      0.000      -2.153      -1.040\n",
      "health_state_4    -2.3286      0.283     -8.230      0.000      -2.883      -1.774\n",
      "health_state_5    -2.2186      0.333     -6.660      0.000      -2.871      -1.566\n",
      "age_range_3       -0.2232      0.147     -1.518      0.129      -0.511       0.065\n",
      "==================================================================================\n"
     ]
    }
   ],
   "source": [
    "model2 = logit('y_train ~ log_income+gen_2+health_state_2+health_state_3+health_state_4+health_state_5+age_range_3',data = df)\n",
    "fit2 = model2.fit()\n",
    "print(fit2.summary())"
   ]
  },
  {
   "cell_type": "code",
   "execution_count": 71,
   "metadata": {},
   "outputs": [
    {
     "name": "stdout",
     "output_type": "stream",
     "text": [
      "Optimization terminated successfully.\n",
      "         Current function value: 0.273012\n",
      "         Iterations 7\n",
      "                           Logit Regression Results                           \n",
      "==============================================================================\n",
      "Dep. Variable:                y_train   No. Observations:                 5405\n",
      "Model:                          Logit   Df Residuals:                     5398\n",
      "Method:                           MLE   Df Model:                            6\n",
      "Date:                Fri, 11 Aug 2023   Pseudo R-squ.:                  0.1310\n",
      "Time:                        17:45:45   Log-Likelihood:                -1475.6\n",
      "converged:                       True   LL-Null:                       -1698.1\n",
      "Covariance Type:            nonrobust   LLR p-value:                 5.926e-93\n",
      "==================================================================================\n",
      "                     coef    std err          z      P>|z|      [0.025      0.975]\n",
      "----------------------------------------------------------------------------------\n",
      "Intercept          3.5761      0.573      6.245      0.000       2.454       4.698\n",
      "log_income        -0.5206      0.065     -7.987      0.000      -0.648      -0.393\n",
      "gen_2              0.5971      0.104      5.743      0.000       0.393       0.801\n",
      "health_state_2    -0.7495      0.280     -2.680      0.007      -1.298      -0.201\n",
      "health_state_3    -1.6086      0.284     -5.664      0.000      -2.165      -1.052\n",
      "health_state_4    -2.3615      0.282     -8.368      0.000      -2.915      -1.808\n",
      "health_state_5    -2.2620      0.332     -6.813      0.000      -2.913      -1.611\n",
      "==================================================================================\n"
     ]
    }
   ],
   "source": [
    "model2 = logit('y_train ~ log_income+gen_2+health_state_2+health_state_3+health_state_4+health_state_5',data = df)\n",
    "fit2 = model2.fit()\n",
    "print(fit2.summary())"
   ]
  },
  {
   "cell_type": "code",
   "execution_count": null,
   "metadata": {},
   "outputs": [],
   "source": []
  }
 ],
 "metadata": {
  "kernelspec": {
   "display_name": "Python 3",
   "language": "python",
   "name": "python3"
  },
  "language_info": {
   "codemirror_mode": {
    "name": "ipython",
    "version": 3
   },
   "file_extension": ".py",
   "mimetype": "text/x-python",
   "name": "python",
   "nbconvert_exporter": "python",
   "pygments_lexer": "ipython3",
   "version": "3.11.3"
  },
  "orig_nbformat": 4
 },
 "nbformat": 4,
 "nbformat_minor": 2
}
