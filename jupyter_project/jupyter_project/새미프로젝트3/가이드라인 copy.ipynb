{
 "cells": [
  {
   "cell_type": "code",
   "execution_count": 6,
   "metadata": {},
   "outputs": [],
   "source": [
    "import pandas as pd\n",
    "import numpy as np\n",
    "import matplotlib.pyplot as plt\n",
    "import seaborn as sns\n",
    "import sys\n",
    "import os\n",
    "import scipy.stats as stats\n",
    "import statsmodels.api as sm\n",
    "from sklearn.linear_model import LinearRegression\n",
    "import statsmodels.api as sm\n",
    "from statsmodels.formula.api import ols\n",
    "from statsmodels.stats.outliers_influence import variance_inflation_factor\n",
    "from pandas import DataFrame\n",
    "import random\n",
    "import pandas as pd\n",
    "import numpy as np"
   ]
  },
  {
   "cell_type": "code",
   "execution_count": 7,
   "metadata": {},
   "outputs": [],
   "source": [
    "import numpy as np\n",
    "from pandas import DataFrame, MultiIndex, concat, DatetimeIndex, Series\n",
    "from math import sqrt\n",
    "from scipy.stats import t, pearsonr, spearmanr\n",
    "from sklearn.impute import SimpleImputer\n",
    "from scipy.stats import shapiro, normaltest, ks_2samp, bartlett, fligner, levene, chi2_contingency\n",
    "from statsmodels.formula.api import ols\n",
    "from statsmodels.stats.outliers_influence import variance_inflation_factor\n",
    "from sklearn.preprocessing import StandardScaler\n",
    "from pca import pca\n",
    "from statsmodels.formula.api import logit\n",
    "from sklearn.metrics import confusion_matrix, roc_curve, roc_auc_score, accuracy_score, recall_score, precision_score, f1_score\n",
    "\n",
    "from matplotlib import pyplot as plt\n",
    "import seaborn as sb\n",
    "import sys\n",
    "\n",
    "from statsmodels.graphics.tsaplots import plot_acf, plot_pacf\n",
    "from statsmodels.tsa.stattools import adfuller\n",
    "from statsmodels.tsa.seasonal import seasonal_decompose\n",
    "from tabulate import tabulate"
   ]
  },
  {
   "cell_type": "code",
   "execution_count": 3,
   "metadata": {},
   "outputs": [],
   "source": [
    "plt.rcParams[\"font.family\"] = 'AppleGothic' if sys.platform == 'darwin' else 'Malgun Gothic'\n",
    "plt.rcParams[\"font.size\"] = 12\n",
    "plt.rcParams[\"figure.figsize\"] = (10, 5)\n",
    "plt.rcParams[\"axes.unicode_minus\"] = False"
   ]
  },
  {
   "cell_type": "code",
   "execution_count": 4,
   "metadata": {},
   "outputs": [
    {
     "data": {
      "text/html": [
       "<div>\n",
       "<style scoped>\n",
       "    .dataframe tbody tr th:only-of-type {\n",
       "        vertical-align: middle;\n",
       "    }\n",
       "\n",
       "    .dataframe tbody tr th {\n",
       "        vertical-align: top;\n",
       "    }\n",
       "\n",
       "    .dataframe thead th {\n",
       "        text-align: right;\n",
       "    }\n",
       "</style>\n",
       "<table border=\"1\" class=\"dataframe\">\n",
       "  <thead>\n",
       "    <tr style=\"text-align: right;\">\n",
       "      <th></th>\n",
       "      <th>Unnamed: 0</th>\n",
       "      <th>gen</th>\n",
       "      <th>age</th>\n",
       "      <th>religion</th>\n",
       "      <th>edu</th>\n",
       "      <th>sm_year</th>\n",
       "      <th>sm_state</th>\n",
       "      <th>sm_day</th>\n",
       "      <th>dr_mean_year</th>\n",
       "      <th>dr_6cup</th>\n",
       "      <th>...</th>\n",
       "      <th>preg_experience</th>\n",
       "      <th>health_state</th>\n",
       "      <th>disabled</th>\n",
       "      <th>work_state</th>\n",
       "      <th>work_code</th>\n",
       "      <th>region</th>\n",
       "      <th>income</th>\n",
       "      <th>y_total</th>\n",
       "      <th>debt</th>\n",
       "      <th>y_train</th>\n",
       "    </tr>\n",
       "  </thead>\n",
       "  <tbody>\n",
       "    <tr>\n",
       "      <th>0</th>\n",
       "      <td>0</td>\n",
       "      <td>female</td>\n",
       "      <td>78</td>\n",
       "      <td>yes</td>\n",
       "      <td>중졸</td>\n",
       "      <td>NaN</td>\n",
       "      <td>no</td>\n",
       "      <td>NaN</td>\n",
       "      <td>전혀마시지않음</td>\n",
       "      <td>NaN</td>\n",
       "      <td>...</td>\n",
       "      <td>없다</td>\n",
       "      <td>2</td>\n",
       "      <td>abled</td>\n",
       "      <td>nowork</td>\n",
       "      <td>NaN</td>\n",
       "      <td>city</td>\n",
       "      <td>405.0</td>\n",
       "      <td>20</td>\n",
       "      <td>10350.0</td>\n",
       "      <td>0</td>\n",
       "    </tr>\n",
       "    <tr>\n",
       "      <th>1</th>\n",
       "      <td>1</td>\n",
       "      <td>male</td>\n",
       "      <td>75</td>\n",
       "      <td>no</td>\n",
       "      <td>초졸이하</td>\n",
       "      <td>NaN</td>\n",
       "      <td>no</td>\n",
       "      <td>NaN</td>\n",
       "      <td>전혀마시지않음</td>\n",
       "      <td>NaN</td>\n",
       "      <td>...</td>\n",
       "      <td>남성</td>\n",
       "      <td>1</td>\n",
       "      <td>abled</td>\n",
       "      <td>work</td>\n",
       "      <td>942.0</td>\n",
       "      <td>city</td>\n",
       "      <td>2788.0</td>\n",
       "      <td>29</td>\n",
       "      <td>0.0</td>\n",
       "      <td>1</td>\n",
       "    </tr>\n",
       "    <tr>\n",
       "      <th>2</th>\n",
       "      <td>2</td>\n",
       "      <td>male</td>\n",
       "      <td>81</td>\n",
       "      <td>yes</td>\n",
       "      <td>대졸이상</td>\n",
       "      <td>NaN</td>\n",
       "      <td>no</td>\n",
       "      <td>NaN</td>\n",
       "      <td>전혀마시지않음</td>\n",
       "      <td>NaN</td>\n",
       "      <td>...</td>\n",
       "      <td>남성</td>\n",
       "      <td>4</td>\n",
       "      <td>abled</td>\n",
       "      <td>work</td>\n",
       "      <td>762.0</td>\n",
       "      <td>city</td>\n",
       "      <td>2304.0</td>\n",
       "      <td>18</td>\n",
       "      <td>21220.0</td>\n",
       "      <td>0</td>\n",
       "    </tr>\n",
       "    <tr>\n",
       "      <th>3</th>\n",
       "      <td>3</td>\n",
       "      <td>male</td>\n",
       "      <td>61</td>\n",
       "      <td>yes</td>\n",
       "      <td>대졸이상</td>\n",
       "      <td>NaN</td>\n",
       "      <td>no</td>\n",
       "      <td>NaN</td>\n",
       "      <td>전혀마시지않음</td>\n",
       "      <td>NaN</td>\n",
       "      <td>...</td>\n",
       "      <td>남성</td>\n",
       "      <td>4</td>\n",
       "      <td>abled</td>\n",
       "      <td>work</td>\n",
       "      <td>855.0</td>\n",
       "      <td>city</td>\n",
       "      <td>5231.0</td>\n",
       "      <td>20</td>\n",
       "      <td>0.0</td>\n",
       "      <td>0</td>\n",
       "    </tr>\n",
       "    <tr>\n",
       "      <th>4</th>\n",
       "      <td>4</td>\n",
       "      <td>female</td>\n",
       "      <td>60</td>\n",
       "      <td>yes</td>\n",
       "      <td>고졸</td>\n",
       "      <td>NaN</td>\n",
       "      <td>no</td>\n",
       "      <td>NaN</td>\n",
       "      <td>전혀마시지않음</td>\n",
       "      <td>NaN</td>\n",
       "      <td>...</td>\n",
       "      <td>없다</td>\n",
       "      <td>4</td>\n",
       "      <td>abled</td>\n",
       "      <td>work</td>\n",
       "      <td>399.0</td>\n",
       "      <td>city</td>\n",
       "      <td>5231.0</td>\n",
       "      <td>21</td>\n",
       "      <td>0.0</td>\n",
       "      <td>0</td>\n",
       "    </tr>\n",
       "  </tbody>\n",
       "</table>\n",
       "<p>5 rows × 22 columns</p>\n",
       "</div>"
      ],
      "text/plain": [
       "   Unnamed: 0     gen  age religion   edu  sm_year sm_state  sm_day  \\\n",
       "0           0  female   78      yes    중졸      NaN       no     NaN   \n",
       "1           1    male   75       no  초졸이하      NaN       no     NaN   \n",
       "2           2    male   81      yes  대졸이상      NaN       no     NaN   \n",
       "3           3    male   61      yes  대졸이상      NaN       no     NaN   \n",
       "4           4  female   60      yes    고졸      NaN       no     NaN   \n",
       "\n",
       "  dr_mean_year dr_6cup  ... preg_experience health_state disabled  work_state  \\\n",
       "0      전혀마시지않음     NaN  ...              없다            2    abled      nowork   \n",
       "1      전혀마시지않음     NaN  ...              남성            1    abled        work   \n",
       "2      전혀마시지않음     NaN  ...              남성            4    abled        work   \n",
       "3      전혀마시지않음     NaN  ...              남성            4    abled        work   \n",
       "4      전혀마시지않음     NaN  ...              없다            4    abled        work   \n",
       "\n",
       "  work_code region  income y_total     debt  y_train  \n",
       "0       NaN   city   405.0      20  10350.0        0  \n",
       "1     942.0   city  2788.0      29      0.0        1  \n",
       "2     762.0   city  2304.0      18  21220.0        0  \n",
       "3     855.0   city  5231.0      20      0.0        0  \n",
       "4     399.0   city  5231.0      21      0.0        0  \n",
       "\n",
       "[5 rows x 22 columns]"
      ]
     },
     "execution_count": 4,
     "metadata": {},
     "output_type": "execute_result"
    }
   ],
   "source": [
    "df = pd.read_excel(\"빚추가마지막.xlsx\")\n",
    "df.head()"
   ]
  },
  {
   "cell_type": "markdown",
   "metadata": {},
   "source": [
    "### 맨 먼저 해야하는 건 다른 변수 들 중 소득 및 빚에 따른 우울감 차이를 볼거기 떄문에 소득과 빚이 있는 사람들로 기준을 잡아서 데이터를 전처리 및 분석할 것임"
   ]
  },
  {
   "cell_type": "code",
   "execution_count": 5,
   "metadata": {},
   "outputs": [
    {
     "name": "stdout",
     "output_type": "stream",
     "text": [
      "<class 'pandas.core.frame.DataFrame'>\n",
      "RangeIndex: 13474 entries, 0 to 13473\n",
      "Data columns (total 22 columns):\n",
      " #   Column           Non-Null Count  Dtype  \n",
      "---  ------           --------------  -----  \n",
      " 0   Unnamed: 0       13474 non-null  int64  \n",
      " 1   gen              13474 non-null  object \n",
      " 2   age              13474 non-null  int64  \n",
      " 3   religion         13474 non-null  object \n",
      " 4   edu              13474 non-null  object \n",
      " 5   sm_year          1119 non-null   float64\n",
      " 6   sm_state         13474 non-null  object \n",
      " 7   sm_day           2036 non-null   float64\n",
      " 8   dr_mean_year     13474 non-null  object \n",
      " 9   dr_6cup          5711 non-null   object \n",
      " 10  dr_hurt          5711 non-null   object \n",
      " 11  dr_worry         5711 non-null   object \n",
      " 12  preg_experience  13474 non-null  object \n",
      " 13  health_state     13474 non-null  int64  \n",
      " 14  disabled         13474 non-null  object \n",
      " 15  work_state       13474 non-null  object \n",
      " 16  work_code        8058 non-null   float64\n",
      " 17  region           13474 non-null  object \n",
      " 18  income           13474 non-null  float64\n",
      " 19  y_total          13474 non-null  int64  \n",
      " 20  debt             13474 non-null  float64\n",
      " 21  y_train          13474 non-null  int64  \n",
      "dtypes: float64(5), int64(5), object(12)\n",
      "memory usage: 2.3+ MB\n"
     ]
    }
   ],
   "source": [
    "df.info()"
   ]
  },
  {
   "cell_type": "code",
   "execution_count": 6,
   "metadata": {},
   "outputs": [],
   "source": [
    "df= df.loc[(df['income']>0)&(df['debt']>0),:]\n",
    "df = df.iloc[:,1:]"
   ]
  },
  {
   "cell_type": "code",
   "execution_count": 7,
   "metadata": {},
   "outputs": [
    {
     "data": {
      "text/html": [
       "<div>\n",
       "<style scoped>\n",
       "    .dataframe tbody tr th:only-of-type {\n",
       "        vertical-align: middle;\n",
       "    }\n",
       "\n",
       "    .dataframe tbody tr th {\n",
       "        vertical-align: top;\n",
       "    }\n",
       "\n",
       "    .dataframe thead th {\n",
       "        text-align: right;\n",
       "    }\n",
       "</style>\n",
       "<table border=\"1\" class=\"dataframe\">\n",
       "  <thead>\n",
       "    <tr style=\"text-align: right;\">\n",
       "      <th></th>\n",
       "      <th>gen</th>\n",
       "      <th>age</th>\n",
       "      <th>religion</th>\n",
       "      <th>edu</th>\n",
       "      <th>sm_year</th>\n",
       "      <th>sm_state</th>\n",
       "      <th>sm_day</th>\n",
       "      <th>dr_mean_year</th>\n",
       "      <th>dr_6cup</th>\n",
       "      <th>dr_hurt</th>\n",
       "      <th>...</th>\n",
       "      <th>preg_experience</th>\n",
       "      <th>health_state</th>\n",
       "      <th>disabled</th>\n",
       "      <th>work_state</th>\n",
       "      <th>work_code</th>\n",
       "      <th>region</th>\n",
       "      <th>income</th>\n",
       "      <th>y_total</th>\n",
       "      <th>debt</th>\n",
       "      <th>y_train</th>\n",
       "    </tr>\n",
       "  </thead>\n",
       "  <tbody>\n",
       "    <tr>\n",
       "      <th>0</th>\n",
       "      <td>female</td>\n",
       "      <td>78</td>\n",
       "      <td>yes</td>\n",
       "      <td>중졸</td>\n",
       "      <td>NaN</td>\n",
       "      <td>no</td>\n",
       "      <td>NaN</td>\n",
       "      <td>전혀마시지않음</td>\n",
       "      <td>NaN</td>\n",
       "      <td>NaN</td>\n",
       "      <td>...</td>\n",
       "      <td>없다</td>\n",
       "      <td>2</td>\n",
       "      <td>abled</td>\n",
       "      <td>nowork</td>\n",
       "      <td>NaN</td>\n",
       "      <td>city</td>\n",
       "      <td>405.0</td>\n",
       "      <td>20</td>\n",
       "      <td>10350.0</td>\n",
       "      <td>0</td>\n",
       "    </tr>\n",
       "    <tr>\n",
       "      <th>2</th>\n",
       "      <td>male</td>\n",
       "      <td>81</td>\n",
       "      <td>yes</td>\n",
       "      <td>대졸이상</td>\n",
       "      <td>NaN</td>\n",
       "      <td>no</td>\n",
       "      <td>NaN</td>\n",
       "      <td>전혀마시지않음</td>\n",
       "      <td>NaN</td>\n",
       "      <td>NaN</td>\n",
       "      <td>...</td>\n",
       "      <td>남성</td>\n",
       "      <td>4</td>\n",
       "      <td>abled</td>\n",
       "      <td>work</td>\n",
       "      <td>762.0</td>\n",
       "      <td>city</td>\n",
       "      <td>2304.0</td>\n",
       "      <td>18</td>\n",
       "      <td>21220.0</td>\n",
       "      <td>0</td>\n",
       "    </tr>\n",
       "    <tr>\n",
       "      <th>8</th>\n",
       "      <td>female</td>\n",
       "      <td>53</td>\n",
       "      <td>yes</td>\n",
       "      <td>고졸</td>\n",
       "      <td>NaN</td>\n",
       "      <td>no</td>\n",
       "      <td>NaN</td>\n",
       "      <td>전혀마시지않음</td>\n",
       "      <td>NaN</td>\n",
       "      <td>NaN</td>\n",
       "      <td>...</td>\n",
       "      <td>없다</td>\n",
       "      <td>2</td>\n",
       "      <td>abled</td>\n",
       "      <td>work</td>\n",
       "      <td>151.0</td>\n",
       "      <td>city</td>\n",
       "      <td>2290.8</td>\n",
       "      <td>21</td>\n",
       "      <td>1020.0</td>\n",
       "      <td>0</td>\n",
       "    </tr>\n",
       "    <tr>\n",
       "      <th>9</th>\n",
       "      <td>female</td>\n",
       "      <td>31</td>\n",
       "      <td>no</td>\n",
       "      <td>중졸</td>\n",
       "      <td>NaN</td>\n",
       "      <td>no</td>\n",
       "      <td>NaN</td>\n",
       "      <td>전혀마시지않음</td>\n",
       "      <td>NaN</td>\n",
       "      <td>NaN</td>\n",
       "      <td>...</td>\n",
       "      <td>없다</td>\n",
       "      <td>2</td>\n",
       "      <td>abled</td>\n",
       "      <td>nowork</td>\n",
       "      <td>NaN</td>\n",
       "      <td>city</td>\n",
       "      <td>2290.8</td>\n",
       "      <td>17</td>\n",
       "      <td>1020.0</td>\n",
       "      <td>0</td>\n",
       "    </tr>\n",
       "    <tr>\n",
       "      <th>13</th>\n",
       "      <td>male</td>\n",
       "      <td>45</td>\n",
       "      <td>no</td>\n",
       "      <td>대졸이상</td>\n",
       "      <td>NaN</td>\n",
       "      <td>yes</td>\n",
       "      <td>14.0</td>\n",
       "      <td>월2~3회</td>\n",
       "      <td>연1회</td>\n",
       "      <td>전혀</td>\n",
       "      <td>...</td>\n",
       "      <td>남성</td>\n",
       "      <td>4</td>\n",
       "      <td>abled</td>\n",
       "      <td>work</td>\n",
       "      <td>399.0</td>\n",
       "      <td>city</td>\n",
       "      <td>5958.0</td>\n",
       "      <td>20</td>\n",
       "      <td>12921.0</td>\n",
       "      <td>0</td>\n",
       "    </tr>\n",
       "    <tr>\n",
       "      <th>...</th>\n",
       "      <td>...</td>\n",
       "      <td>...</td>\n",
       "      <td>...</td>\n",
       "      <td>...</td>\n",
       "      <td>...</td>\n",
       "      <td>...</td>\n",
       "      <td>...</td>\n",
       "      <td>...</td>\n",
       "      <td>...</td>\n",
       "      <td>...</td>\n",
       "      <td>...</td>\n",
       "      <td>...</td>\n",
       "      <td>...</td>\n",
       "      <td>...</td>\n",
       "      <td>...</td>\n",
       "      <td>...</td>\n",
       "      <td>...</td>\n",
       "      <td>...</td>\n",
       "      <td>...</td>\n",
       "      <td>...</td>\n",
       "      <td>...</td>\n",
       "    </tr>\n",
       "    <tr>\n",
       "      <th>13469</th>\n",
       "      <td>male</td>\n",
       "      <td>47</td>\n",
       "      <td>no</td>\n",
       "      <td>대졸이상</td>\n",
       "      <td>25.0</td>\n",
       "      <td>yes</td>\n",
       "      <td>10.0</td>\n",
       "      <td>주2~3회</td>\n",
       "      <td>주1회</td>\n",
       "      <td>전혀</td>\n",
       "      <td>...</td>\n",
       "      <td>남성</td>\n",
       "      <td>4</td>\n",
       "      <td>abled</td>\n",
       "      <td>work</td>\n",
       "      <td>151.0</td>\n",
       "      <td>city</td>\n",
       "      <td>8548.0</td>\n",
       "      <td>17</td>\n",
       "      <td>26014.0</td>\n",
       "      <td>0</td>\n",
       "    </tr>\n",
       "    <tr>\n",
       "      <th>13470</th>\n",
       "      <td>female</td>\n",
       "      <td>46</td>\n",
       "      <td>no</td>\n",
       "      <td>대졸이상</td>\n",
       "      <td>NaN</td>\n",
       "      <td>no</td>\n",
       "      <td>NaN</td>\n",
       "      <td>주2~3회</td>\n",
       "      <td>연1회</td>\n",
       "      <td>전혀</td>\n",
       "      <td>...</td>\n",
       "      <td>없다</td>\n",
       "      <td>4</td>\n",
       "      <td>abled</td>\n",
       "      <td>nowork</td>\n",
       "      <td>NaN</td>\n",
       "      <td>city</td>\n",
       "      <td>8548.0</td>\n",
       "      <td>17</td>\n",
       "      <td>26014.0</td>\n",
       "      <td>0</td>\n",
       "    </tr>\n",
       "    <tr>\n",
       "      <th>13471</th>\n",
       "      <td>male</td>\n",
       "      <td>48</td>\n",
       "      <td>no</td>\n",
       "      <td>대졸이상</td>\n",
       "      <td>25.0</td>\n",
       "      <td>yes</td>\n",
       "      <td>7.0</td>\n",
       "      <td>전혀마시지않음</td>\n",
       "      <td>NaN</td>\n",
       "      <td>NaN</td>\n",
       "      <td>...</td>\n",
       "      <td>남성</td>\n",
       "      <td>4</td>\n",
       "      <td>abled</td>\n",
       "      <td>work</td>\n",
       "      <td>222.0</td>\n",
       "      <td>city</td>\n",
       "      <td>8452.0</td>\n",
       "      <td>17</td>\n",
       "      <td>12360.0</td>\n",
       "      <td>0</td>\n",
       "    </tr>\n",
       "    <tr>\n",
       "      <th>13472</th>\n",
       "      <td>male</td>\n",
       "      <td>59</td>\n",
       "      <td>yes</td>\n",
       "      <td>대졸이상</td>\n",
       "      <td>32.0</td>\n",
       "      <td>no</td>\n",
       "      <td>NaN</td>\n",
       "      <td>전혀마시지않음</td>\n",
       "      <td>NaN</td>\n",
       "      <td>NaN</td>\n",
       "      <td>...</td>\n",
       "      <td>남성</td>\n",
       "      <td>4</td>\n",
       "      <td>abled</td>\n",
       "      <td>work</td>\n",
       "      <td>248.0</td>\n",
       "      <td>city</td>\n",
       "      <td>7094.0</td>\n",
       "      <td>18</td>\n",
       "      <td>1902.0</td>\n",
       "      <td>0</td>\n",
       "    </tr>\n",
       "    <tr>\n",
       "      <th>13473</th>\n",
       "      <td>female</td>\n",
       "      <td>59</td>\n",
       "      <td>yes</td>\n",
       "      <td>대졸이상</td>\n",
       "      <td>NaN</td>\n",
       "      <td>no</td>\n",
       "      <td>NaN</td>\n",
       "      <td>전혀마시지않음</td>\n",
       "      <td>NaN</td>\n",
       "      <td>NaN</td>\n",
       "      <td>...</td>\n",
       "      <td>없다</td>\n",
       "      <td>4</td>\n",
       "      <td>abled</td>\n",
       "      <td>nowork</td>\n",
       "      <td>NaN</td>\n",
       "      <td>city</td>\n",
       "      <td>7094.0</td>\n",
       "      <td>17</td>\n",
       "      <td>1902.0</td>\n",
       "      <td>0</td>\n",
       "    </tr>\n",
       "  </tbody>\n",
       "</table>\n",
       "<p>5414 rows × 21 columns</p>\n",
       "</div>"
      ],
      "text/plain": [
       "          gen  age religion   edu  sm_year sm_state  sm_day dr_mean_year  \\\n",
       "0      female   78      yes    중졸      NaN       no     NaN      전혀마시지않음   \n",
       "2        male   81      yes  대졸이상      NaN       no     NaN      전혀마시지않음   \n",
       "8      female   53      yes    고졸      NaN       no     NaN      전혀마시지않음   \n",
       "9      female   31       no    중졸      NaN       no     NaN      전혀마시지않음   \n",
       "13       male   45       no  대졸이상      NaN      yes    14.0        월2~3회   \n",
       "...       ...  ...      ...   ...      ...      ...     ...          ...   \n",
       "13469    male   47       no  대졸이상     25.0      yes    10.0        주2~3회   \n",
       "13470  female   46       no  대졸이상      NaN       no     NaN        주2~3회   \n",
       "13471    male   48       no  대졸이상     25.0      yes     7.0      전혀마시지않음   \n",
       "13472    male   59      yes  대졸이상     32.0       no     NaN      전혀마시지않음   \n",
       "13473  female   59      yes  대졸이상      NaN       no     NaN      전혀마시지않음   \n",
       "\n",
       "      dr_6cup dr_hurt  ... preg_experience health_state  disabled work_state  \\\n",
       "0         NaN     NaN  ...              없다            2     abled     nowork   \n",
       "2         NaN     NaN  ...              남성            4     abled       work   \n",
       "8         NaN     NaN  ...              없다            2     abled       work   \n",
       "9         NaN     NaN  ...              없다            2     abled     nowork   \n",
       "13        연1회      전혀  ...              남성            4     abled       work   \n",
       "...       ...     ...  ...             ...          ...       ...        ...   \n",
       "13469     주1회      전혀  ...              남성            4     abled       work   \n",
       "13470     연1회      전혀  ...              없다            4     abled     nowork   \n",
       "13471     NaN     NaN  ...              남성            4     abled       work   \n",
       "13472     NaN     NaN  ...              남성            4     abled       work   \n",
       "13473     NaN     NaN  ...              없다            4     abled     nowork   \n",
       "\n",
       "      work_code  region  income  y_total     debt  y_train  \n",
       "0           NaN    city   405.0       20  10350.0        0  \n",
       "2         762.0    city  2304.0       18  21220.0        0  \n",
       "8         151.0    city  2290.8       21   1020.0        0  \n",
       "9           NaN    city  2290.8       17   1020.0        0  \n",
       "13        399.0    city  5958.0       20  12921.0        0  \n",
       "...         ...     ...     ...      ...      ...      ...  \n",
       "13469     151.0    city  8548.0       17  26014.0        0  \n",
       "13470       NaN    city  8548.0       17  26014.0        0  \n",
       "13471     222.0    city  8452.0       17  12360.0        0  \n",
       "13472     248.0    city  7094.0       18   1902.0        0  \n",
       "13473       NaN    city  7094.0       17   1902.0        0  \n",
       "\n",
       "[5414 rows x 21 columns]"
      ]
     },
     "execution_count": 7,
     "metadata": {},
     "output_type": "execute_result"
    }
   ],
   "source": [
    "df"
   ]
  },
  {
   "cell_type": "markdown",
   "metadata": {},
   "source": [
    "## 데이터 확인 \n",
    "### 연속형 변수들의 데이터 확인 및 전처리"
   ]
  },
  {
   "cell_type": "code",
   "execution_count": 8,
   "metadata": {},
   "outputs": [
    {
     "data": {
      "text/html": [
       "<div>\n",
       "<style scoped>\n",
       "    .dataframe tbody tr th:only-of-type {\n",
       "        vertical-align: middle;\n",
       "    }\n",
       "\n",
       "    .dataframe tbody tr th {\n",
       "        vertical-align: top;\n",
       "    }\n",
       "\n",
       "    .dataframe thead th {\n",
       "        text-align: right;\n",
       "    }\n",
       "</style>\n",
       "<table border=\"1\" class=\"dataframe\">\n",
       "  <thead>\n",
       "    <tr style=\"text-align: right;\">\n",
       "      <th></th>\n",
       "      <th>age</th>\n",
       "      <th>sm_year</th>\n",
       "      <th>sm_day</th>\n",
       "      <th>health_state</th>\n",
       "      <th>work_code</th>\n",
       "      <th>income</th>\n",
       "      <th>y_total</th>\n",
       "      <th>debt</th>\n",
       "      <th>y_train</th>\n",
       "    </tr>\n",
       "  </thead>\n",
       "  <tbody>\n",
       "    <tr>\n",
       "      <th>count</th>\n",
       "      <td>5414.000000</td>\n",
       "      <td>383.000000</td>\n",
       "      <td>1048.000000</td>\n",
       "      <td>5414.000000</td>\n",
       "      <td>3801.000000</td>\n",
       "      <td>5414.000000</td>\n",
       "      <td>5414.000000</td>\n",
       "      <td>5414.000000</td>\n",
       "      <td>5414.000000</td>\n",
       "    </tr>\n",
       "    <tr>\n",
       "      <th>mean</th>\n",
       "      <td>51.013668</td>\n",
       "      <td>24.856397</td>\n",
       "      <td>14.953244</td>\n",
       "      <td>3.648134</td>\n",
       "      <td>546.257564</td>\n",
       "      <td>6628.044847</td>\n",
       "      <td>18.580901</td>\n",
       "      <td>10158.879405</td>\n",
       "      <td>0.095308</td>\n",
       "    </tr>\n",
       "    <tr>\n",
       "      <th>std</th>\n",
       "      <td>16.726448</td>\n",
       "      <td>14.922584</td>\n",
       "      <td>7.538168</td>\n",
       "      <td>0.861421</td>\n",
       "      <td>270.564329</td>\n",
       "      <td>3995.165853</td>\n",
       "      <td>2.982555</td>\n",
       "      <td>13604.478757</td>\n",
       "      <td>0.293668</td>\n",
       "    </tr>\n",
       "    <tr>\n",
       "      <th>min</th>\n",
       "      <td>17.000000</td>\n",
       "      <td>0.000000</td>\n",
       "      <td>1.000000</td>\n",
       "      <td>1.000000</td>\n",
       "      <td>111.000000</td>\n",
       "      <td>1.000000</td>\n",
       "      <td>11.000000</td>\n",
       "      <td>3.000000</td>\n",
       "      <td>0.000000</td>\n",
       "    </tr>\n",
       "    <tr>\n",
       "      <th>25%</th>\n",
       "      <td>39.000000</td>\n",
       "      <td>11.500000</td>\n",
       "      <td>10.000000</td>\n",
       "      <td>3.000000</td>\n",
       "      <td>312.000000</td>\n",
       "      <td>3851.500000</td>\n",
       "      <td>17.000000</td>\n",
       "      <td>2096.000000</td>\n",
       "      <td>0.000000</td>\n",
       "    </tr>\n",
       "    <tr>\n",
       "      <th>50%</th>\n",
       "      <td>50.000000</td>\n",
       "      <td>25.000000</td>\n",
       "      <td>15.000000</td>\n",
       "      <td>4.000000</td>\n",
       "      <td>510.000000</td>\n",
       "      <td>6113.500000</td>\n",
       "      <td>17.000000</td>\n",
       "      <td>6200.000000</td>\n",
       "      <td>0.000000</td>\n",
       "    </tr>\n",
       "    <tr>\n",
       "      <th>75%</th>\n",
       "      <td>63.000000</td>\n",
       "      <td>35.000000</td>\n",
       "      <td>20.000000</td>\n",
       "      <td>4.000000</td>\n",
       "      <td>842.000000</td>\n",
       "      <td>8556.000000</td>\n",
       "      <td>19.000000</td>\n",
       "      <td>13000.000000</td>\n",
       "      <td>0.000000</td>\n",
       "    </tr>\n",
       "    <tr>\n",
       "      <th>max</th>\n",
       "      <td>101.000000</td>\n",
       "      <td>68.000000</td>\n",
       "      <td>50.000000</td>\n",
       "      <td>5.000000</td>\n",
       "      <td>1009.000000</td>\n",
       "      <td>65676.000000</td>\n",
       "      <td>38.000000</td>\n",
       "      <td>256400.000000</td>\n",
       "      <td>1.000000</td>\n",
       "    </tr>\n",
       "  </tbody>\n",
       "</table>\n",
       "</div>"
      ],
      "text/plain": [
       "               age     sm_year       sm_day  health_state    work_code  \\\n",
       "count  5414.000000  383.000000  1048.000000   5414.000000  3801.000000   \n",
       "mean     51.013668   24.856397    14.953244      3.648134   546.257564   \n",
       "std      16.726448   14.922584     7.538168      0.861421   270.564329   \n",
       "min      17.000000    0.000000     1.000000      1.000000   111.000000   \n",
       "25%      39.000000   11.500000    10.000000      3.000000   312.000000   \n",
       "50%      50.000000   25.000000    15.000000      4.000000   510.000000   \n",
       "75%      63.000000   35.000000    20.000000      4.000000   842.000000   \n",
       "max     101.000000   68.000000    50.000000      5.000000  1009.000000   \n",
       "\n",
       "             income      y_total           debt      y_train  \n",
       "count   5414.000000  5414.000000    5414.000000  5414.000000  \n",
       "mean    6628.044847    18.580901   10158.879405     0.095308  \n",
       "std     3995.165853     2.982555   13604.478757     0.293668  \n",
       "min        1.000000    11.000000       3.000000     0.000000  \n",
       "25%     3851.500000    17.000000    2096.000000     0.000000  \n",
       "50%     6113.500000    17.000000    6200.000000     0.000000  \n",
       "75%     8556.000000    19.000000   13000.000000     0.000000  \n",
       "max    65676.000000    38.000000  256400.000000     1.000000  "
      ]
     },
     "execution_count": 8,
     "metadata": {},
     "output_type": "execute_result"
    }
   ],
   "source": [
    "df.describe()"
   ]
  },
  {
   "cell_type": "code",
   "execution_count": 9,
   "metadata": {},
   "outputs": [
    {
     "data": {
      "text/plain": [
       "<Axes: xlabel='sm_day', ylabel='y_total'>"
      ]
     },
     "execution_count": 9,
     "metadata": {},
     "output_type": "execute_result"
    },
    {
     "data": {
      "image/png": "[encoded data removed]",
      "text/plain": [
       "<Figure size 1000x500 with 1 Axes>"
      ]
     },
     "metadata": {},
     "output_type": "display_data"
    }
   ],
   "source": [
    "sns.regplot(data=df,x='sm_day',y='y_total')"
   ]
  },
  {
   "cell_type": "code",
   "execution_count": 10,
   "metadata": {},
   "outputs": [
    {
     "data": {
      "text/plain": [
       "<Axes: xlabel='sm_year', ylabel='y_total'>"
      ]
     },
     "execution_count": 10,
     "metadata": {},
     "output_type": "execute_result"
    },
    {
     "data": {
      "image/png": "[encoded data removed]",
      "text/plain": [
       "<Figure size 1000x500 with 1 Axes>"
      ]
     },
     "metadata": {},
     "output_type": "display_data"
    }
   ],
   "source": [
    "sns.regplot(data=df,x='sm_year',y='y_total')"
   ]
  },
  {
   "cell_type": "code",
   "execution_count": 11,
   "metadata": {},
   "outputs": [
    {
     "data": {
      "text/plain": [
       "<Axes: xlabel='income', ylabel='y_total'>"
      ]
     },
     "execution_count": 11,
     "metadata": {},
     "output_type": "execute_result"
    },
    {
     "data": {
      "image/png": "[encoded data removed]",
      "text/plain": [
       "<Figure size 1000x500 with 1 Axes>"
      ]
     },
     "metadata": {},
     "output_type": "display_data"
    }
   ],
   "source": [
    "sns.regplot(data=df,x='income',y='y_total')"
   ]
  },
  {
   "cell_type": "code",
   "execution_count": 12,
   "metadata": {},
   "outputs": [
    {
     "data": {
      "text/plain": [
       "<Axes: xlabel='debt', ylabel='y_total'>"
      ]
     },
     "execution_count": 12,
     "metadata": {},
     "output_type": "execute_result"
    },
    {
     "data": {
      "image/png": "[encoded data removed]",
      "text/plain": [
       "<Figure size 1000x500 with 1 Axes>"
      ]
     },
     "metadata": {},
     "output_type": "display_data"
    }
   ],
   "source": [
    "sns.regplot(data=df,x='debt',y='y_total')"
   ]
  },
  {
   "cell_type": "code",
   "execution_count": 13,
   "metadata": {},
   "outputs": [],
   "source": [
    "## 시각화를 진행 한 결과, income이랑 debt가 상관성이 있어보여서 상관분석 진행함."
   ]
  },
  {
   "cell_type": "code",
   "execution_count": 14,
   "metadata": {},
   "outputs": [
    {
     "data": {
      "text/html": [
       "<div>\n",
       "<style scoped>\n",
       "    .dataframe tbody tr th:only-of-type {\n",
       "        vertical-align: middle;\n",
       "    }\n",
       "\n",
       "    .dataframe tbody tr th {\n",
       "        vertical-align: top;\n",
       "    }\n",
       "\n",
       "    .dataframe thead th {\n",
       "        text-align: right;\n",
       "    }\n",
       "</style>\n",
       "<table border=\"1\" class=\"dataframe\">\n",
       "  <thead>\n",
       "    <tr style=\"text-align: right;\">\n",
       "      <th></th>\n",
       "      <th>income</th>\n",
       "      <th>debt</th>\n",
       "      <th>y_total</th>\n",
       "    </tr>\n",
       "  </thead>\n",
       "  <tbody>\n",
       "    <tr>\n",
       "      <th>income</th>\n",
       "      <td>1.000000</td>\n",
       "      <td>0.300693</td>\n",
       "      <td>-0.222360</td>\n",
       "    </tr>\n",
       "    <tr>\n",
       "      <th>debt</th>\n",
       "      <td>0.300693</td>\n",
       "      <td>1.000000</td>\n",
       "      <td>-0.098187</td>\n",
       "    </tr>\n",
       "    <tr>\n",
       "      <th>y_total</th>\n",
       "      <td>-0.222360</td>\n",
       "      <td>-0.098187</td>\n",
       "      <td>1.000000</td>\n",
       "    </tr>\n",
       "  </tbody>\n",
       "</table>\n",
       "</div>"
      ],
      "text/plain": [
       "           income      debt   y_total\n",
       "income   1.000000  0.300693 -0.222360\n",
       "debt     0.300693  1.000000 -0.098187\n",
       "y_total -0.222360 -0.098187  1.000000"
      ]
     },
     "execution_count": 14,
     "metadata": {},
     "output_type": "execute_result"
    }
   ],
   "source": [
    "corr  = df[['income', 'debt' ,'y_total']].corr()\n",
    "corr"
   ]
  },
  {
   "cell_type": "code",
   "execution_count": 15,
   "metadata": {},
   "outputs": [],
   "source": [
    "## 근데 income과 debt의 단위는 같지만 기초통계량을 확인해 본 결과 스케일 차이가 나는거 같아서 로그변환 진행"
   ]
  },
  {
   "cell_type": "code",
   "execution_count": 16,
   "metadata": {},
   "outputs": [
    {
     "data": {
      "text/html": [
       "<div>\n",
       "<style scoped>\n",
       "    .dataframe tbody tr th:only-of-type {\n",
       "        vertical-align: middle;\n",
       "    }\n",
       "\n",
       "    .dataframe tbody tr th {\n",
       "        vertical-align: top;\n",
       "    }\n",
       "\n",
       "    .dataframe thead th {\n",
       "        text-align: right;\n",
       "    }\n",
       "</style>\n",
       "<table border=\"1\" class=\"dataframe\">\n",
       "  <thead>\n",
       "    <tr style=\"text-align: right;\">\n",
       "      <th></th>\n",
       "      <th>gen</th>\n",
       "      <th>age</th>\n",
       "      <th>religion</th>\n",
       "      <th>edu</th>\n",
       "      <th>sm_year</th>\n",
       "      <th>sm_state</th>\n",
       "      <th>sm_day</th>\n",
       "      <th>dr_mean_year</th>\n",
       "      <th>dr_6cup</th>\n",
       "      <th>dr_hurt</th>\n",
       "      <th>...</th>\n",
       "      <th>preg_experience</th>\n",
       "      <th>health_state</th>\n",
       "      <th>disabled</th>\n",
       "      <th>work_state</th>\n",
       "      <th>work_code</th>\n",
       "      <th>region</th>\n",
       "      <th>income</th>\n",
       "      <th>y_total</th>\n",
       "      <th>debt</th>\n",
       "      <th>y_train</th>\n",
       "    </tr>\n",
       "  </thead>\n",
       "  <tbody>\n",
       "    <tr>\n",
       "      <th>0</th>\n",
       "      <td>female</td>\n",
       "      <td>78</td>\n",
       "      <td>yes</td>\n",
       "      <td>중졸</td>\n",
       "      <td>NaN</td>\n",
       "      <td>no</td>\n",
       "      <td>NaN</td>\n",
       "      <td>전혀마시지않음</td>\n",
       "      <td>NaN</td>\n",
       "      <td>NaN</td>\n",
       "      <td>...</td>\n",
       "      <td>없다</td>\n",
       "      <td>2</td>\n",
       "      <td>abled</td>\n",
       "      <td>nowork</td>\n",
       "      <td>NaN</td>\n",
       "      <td>city</td>\n",
       "      <td>6.006353</td>\n",
       "      <td>20</td>\n",
       "      <td>9.244838</td>\n",
       "      <td>0</td>\n",
       "    </tr>\n",
       "    <tr>\n",
       "      <th>2</th>\n",
       "      <td>male</td>\n",
       "      <td>81</td>\n",
       "      <td>yes</td>\n",
       "      <td>대졸이상</td>\n",
       "      <td>NaN</td>\n",
       "      <td>no</td>\n",
       "      <td>NaN</td>\n",
       "      <td>전혀마시지않음</td>\n",
       "      <td>NaN</td>\n",
       "      <td>NaN</td>\n",
       "      <td>...</td>\n",
       "      <td>남성</td>\n",
       "      <td>4</td>\n",
       "      <td>abled</td>\n",
       "      <td>work</td>\n",
       "      <td>762.0</td>\n",
       "      <td>city</td>\n",
       "      <td>7.742836</td>\n",
       "      <td>18</td>\n",
       "      <td>9.962747</td>\n",
       "      <td>0</td>\n",
       "    </tr>\n",
       "    <tr>\n",
       "      <th>8</th>\n",
       "      <td>female</td>\n",
       "      <td>53</td>\n",
       "      <td>yes</td>\n",
       "      <td>고졸</td>\n",
       "      <td>NaN</td>\n",
       "      <td>no</td>\n",
       "      <td>NaN</td>\n",
       "      <td>전혀마시지않음</td>\n",
       "      <td>NaN</td>\n",
       "      <td>NaN</td>\n",
       "      <td>...</td>\n",
       "      <td>없다</td>\n",
       "      <td>2</td>\n",
       "      <td>abled</td>\n",
       "      <td>work</td>\n",
       "      <td>151.0</td>\n",
       "      <td>city</td>\n",
       "      <td>7.737093</td>\n",
       "      <td>21</td>\n",
       "      <td>6.928538</td>\n",
       "      <td>0</td>\n",
       "    </tr>\n",
       "    <tr>\n",
       "      <th>9</th>\n",
       "      <td>female</td>\n",
       "      <td>31</td>\n",
       "      <td>no</td>\n",
       "      <td>중졸</td>\n",
       "      <td>NaN</td>\n",
       "      <td>no</td>\n",
       "      <td>NaN</td>\n",
       "      <td>전혀마시지않음</td>\n",
       "      <td>NaN</td>\n",
       "      <td>NaN</td>\n",
       "      <td>...</td>\n",
       "      <td>없다</td>\n",
       "      <td>2</td>\n",
       "      <td>abled</td>\n",
       "      <td>nowork</td>\n",
       "      <td>NaN</td>\n",
       "      <td>city</td>\n",
       "      <td>7.737093</td>\n",
       "      <td>17</td>\n",
       "      <td>6.928538</td>\n",
       "      <td>0</td>\n",
       "    </tr>\n",
       "    <tr>\n",
       "      <th>13</th>\n",
       "      <td>male</td>\n",
       "      <td>45</td>\n",
       "      <td>no</td>\n",
       "      <td>대졸이상</td>\n",
       "      <td>NaN</td>\n",
       "      <td>yes</td>\n",
       "      <td>14.0</td>\n",
       "      <td>월2~3회</td>\n",
       "      <td>연1회</td>\n",
       "      <td>전혀</td>\n",
       "      <td>...</td>\n",
       "      <td>남성</td>\n",
       "      <td>4</td>\n",
       "      <td>abled</td>\n",
       "      <td>work</td>\n",
       "      <td>399.0</td>\n",
       "      <td>city</td>\n",
       "      <td>8.692658</td>\n",
       "      <td>20</td>\n",
       "      <td>9.466687</td>\n",
       "      <td>0</td>\n",
       "    </tr>\n",
       "  </tbody>\n",
       "</table>\n",
       "<p>5 rows × 21 columns</p>\n",
       "</div>"
      ],
      "text/plain": [
       "       gen  age religion   edu  sm_year sm_state  sm_day dr_mean_year dr_6cup  \\\n",
       "0   female   78      yes    중졸      NaN       no     NaN      전혀마시지않음     NaN   \n",
       "2     male   81      yes  대졸이상      NaN       no     NaN      전혀마시지않음     NaN   \n",
       "8   female   53      yes    고졸      NaN       no     NaN      전혀마시지않음     NaN   \n",
       "9   female   31       no    중졸      NaN       no     NaN      전혀마시지않음     NaN   \n",
       "13    male   45       no  대졸이상      NaN      yes    14.0        월2~3회     연1회   \n",
       "\n",
       "   dr_hurt  ... preg_experience health_state  disabled work_state work_code  \\\n",
       "0      NaN  ...              없다            2     abled     nowork       NaN   \n",
       "2      NaN  ...              남성            4     abled       work     762.0   \n",
       "8      NaN  ...              없다            2     abled       work     151.0   \n",
       "9      NaN  ...              없다            2     abled     nowork       NaN   \n",
       "13      전혀  ...              남성            4     abled       work     399.0   \n",
       "\n",
       "    region    income  y_total      debt  y_train  \n",
       "0     city  6.006353       20  9.244838        0  \n",
       "2     city  7.742836       18  9.962747        0  \n",
       "8     city  7.737093       21  6.928538        0  \n",
       "9     city  7.737093       17  6.928538        0  \n",
       "13    city  8.692658       20  9.466687        0  \n",
       "\n",
       "[5 rows x 21 columns]"
      ]
     },
     "execution_count": 16,
     "metadata": {},
     "output_type": "execute_result"
    }
   ],
   "source": [
    "df['income'] = np.log1p(df['income'])\n",
    "df['debt'] = np.log1p(df['debt'])\n",
    "\n",
    "df.head()"
   ]
  },
  {
   "cell_type": "markdown",
   "metadata": {},
   "source": [
    "#### 연속형 변수의 데이터 분포 확인"
   ]
  },
  {
   "cell_type": "code",
   "execution_count": 17,
   "metadata": {},
   "outputs": [
    {
     "data": {
      "image/png": "[encoded data removed]",
      "text/plain": [
       "<Figure size 1000x500 with 1 Axes>"
      ]
     },
     "metadata": {},
     "output_type": "display_data"
    }
   ],
   "source": [
    "plt.hist(df['income'], color = 'green', alpha = 0.4, bins = 500)\n",
    "plt.show()"
   ]
  },
  {
   "cell_type": "code",
   "execution_count": 18,
   "metadata": {},
   "outputs": [
    {
     "data": {
      "image/png": "[encoded data removed]",
      "text/plain": [
       "<Figure size 1000x500 with 1 Axes>"
      ]
     },
     "metadata": {},
     "output_type": "display_data"
    }
   ],
   "source": [
    "plt.hist(df['debt'], color = 'green', alpha = 0.4, bins = 400)\n",
    "plt.show()"
   ]
  },
  {
   "cell_type": "markdown",
   "metadata": {},
   "source": [
    "## 명목형 변수의 데이터 확인 및 전처리"
   ]
  },
  {
   "cell_type": "markdown",
   "metadata": {},
   "source": [
    "### 나이변수의 범주화 - > 파생변수 추가"
   ]
  },
  {
   "cell_type": "code",
   "execution_count": 19,
   "metadata": {},
   "outputs": [
    {
     "data": {
      "text/html": [
       "<div>\n",
       "<style scoped>\n",
       "    .dataframe tbody tr th:only-of-type {\n",
       "        vertical-align: middle;\n",
       "    }\n",
       "\n",
       "    .dataframe tbody tr th {\n",
       "        vertical-align: top;\n",
       "    }\n",
       "\n",
       "    .dataframe thead th {\n",
       "        text-align: right;\n",
       "    }\n",
       "</style>\n",
       "<table border=\"1\" class=\"dataframe\">\n",
       "  <thead>\n",
       "    <tr style=\"text-align: right;\">\n",
       "      <th></th>\n",
       "      <th>gen</th>\n",
       "      <th>age</th>\n",
       "      <th>religion</th>\n",
       "      <th>edu</th>\n",
       "      <th>sm_year</th>\n",
       "      <th>sm_state</th>\n",
       "      <th>sm_day</th>\n",
       "      <th>dr_mean_year</th>\n",
       "      <th>dr_6cup</th>\n",
       "      <th>dr_hurt</th>\n",
       "      <th>...</th>\n",
       "      <th>health_state</th>\n",
       "      <th>disabled</th>\n",
       "      <th>work_state</th>\n",
       "      <th>work_code</th>\n",
       "      <th>region</th>\n",
       "      <th>income</th>\n",
       "      <th>y_total</th>\n",
       "      <th>debt</th>\n",
       "      <th>y_train</th>\n",
       "      <th>age_range</th>\n",
       "    </tr>\n",
       "  </thead>\n",
       "  <tbody>\n",
       "    <tr>\n",
       "      <th>0</th>\n",
       "      <td>female</td>\n",
       "      <td>78</td>\n",
       "      <td>yes</td>\n",
       "      <td>중졸</td>\n",
       "      <td>NaN</td>\n",
       "      <td>no</td>\n",
       "      <td>NaN</td>\n",
       "      <td>전혀마시지않음</td>\n",
       "      <td>NaN</td>\n",
       "      <td>NaN</td>\n",
       "      <td>...</td>\n",
       "      <td>2</td>\n",
       "      <td>abled</td>\n",
       "      <td>nowork</td>\n",
       "      <td>NaN</td>\n",
       "      <td>city</td>\n",
       "      <td>6.006353</td>\n",
       "      <td>20</td>\n",
       "      <td>9.244838</td>\n",
       "      <td>0</td>\n",
       "      <td>60세 이상</td>\n",
       "    </tr>\n",
       "    <tr>\n",
       "      <th>2</th>\n",
       "      <td>male</td>\n",
       "      <td>81</td>\n",
       "      <td>yes</td>\n",
       "      <td>대졸이상</td>\n",
       "      <td>NaN</td>\n",
       "      <td>no</td>\n",
       "      <td>NaN</td>\n",
       "      <td>전혀마시지않음</td>\n",
       "      <td>NaN</td>\n",
       "      <td>NaN</td>\n",
       "      <td>...</td>\n",
       "      <td>4</td>\n",
       "      <td>abled</td>\n",
       "      <td>work</td>\n",
       "      <td>762.0</td>\n",
       "      <td>city</td>\n",
       "      <td>7.742836</td>\n",
       "      <td>18</td>\n",
       "      <td>9.962747</td>\n",
       "      <td>0</td>\n",
       "      <td>60세 이상</td>\n",
       "    </tr>\n",
       "    <tr>\n",
       "      <th>8</th>\n",
       "      <td>female</td>\n",
       "      <td>53</td>\n",
       "      <td>yes</td>\n",
       "      <td>고졸</td>\n",
       "      <td>NaN</td>\n",
       "      <td>no</td>\n",
       "      <td>NaN</td>\n",
       "      <td>전혀마시지않음</td>\n",
       "      <td>NaN</td>\n",
       "      <td>NaN</td>\n",
       "      <td>...</td>\n",
       "      <td>2</td>\n",
       "      <td>abled</td>\n",
       "      <td>work</td>\n",
       "      <td>151.0</td>\n",
       "      <td>city</td>\n",
       "      <td>7.737093</td>\n",
       "      <td>21</td>\n",
       "      <td>6.928538</td>\n",
       "      <td>0</td>\n",
       "      <td>50~59세</td>\n",
       "    </tr>\n",
       "    <tr>\n",
       "      <th>9</th>\n",
       "      <td>female</td>\n",
       "      <td>31</td>\n",
       "      <td>no</td>\n",
       "      <td>중졸</td>\n",
       "      <td>NaN</td>\n",
       "      <td>no</td>\n",
       "      <td>NaN</td>\n",
       "      <td>전혀마시지않음</td>\n",
       "      <td>NaN</td>\n",
       "      <td>NaN</td>\n",
       "      <td>...</td>\n",
       "      <td>2</td>\n",
       "      <td>abled</td>\n",
       "      <td>nowork</td>\n",
       "      <td>NaN</td>\n",
       "      <td>city</td>\n",
       "      <td>7.737093</td>\n",
       "      <td>17</td>\n",
       "      <td>6.928538</td>\n",
       "      <td>0</td>\n",
       "      <td>30~39세</td>\n",
       "    </tr>\n",
       "    <tr>\n",
       "      <th>13</th>\n",
       "      <td>male</td>\n",
       "      <td>45</td>\n",
       "      <td>no</td>\n",
       "      <td>대졸이상</td>\n",
       "      <td>NaN</td>\n",
       "      <td>yes</td>\n",
       "      <td>14.0</td>\n",
       "      <td>월2~3회</td>\n",
       "      <td>연1회</td>\n",
       "      <td>전혀</td>\n",
       "      <td>...</td>\n",
       "      <td>4</td>\n",
       "      <td>abled</td>\n",
       "      <td>work</td>\n",
       "      <td>399.0</td>\n",
       "      <td>city</td>\n",
       "      <td>8.692658</td>\n",
       "      <td>20</td>\n",
       "      <td>9.466687</td>\n",
       "      <td>0</td>\n",
       "      <td>40~49세</td>\n",
       "    </tr>\n",
       "  </tbody>\n",
       "</table>\n",
       "<p>5 rows × 22 columns</p>\n",
       "</div>"
      ],
      "text/plain": [
       "       gen  age religion   edu  sm_year sm_state  sm_day dr_mean_year dr_6cup  \\\n",
       "0   female   78      yes    중졸      NaN       no     NaN      전혀마시지않음     NaN   \n",
       "2     male   81      yes  대졸이상      NaN       no     NaN      전혀마시지않음     NaN   \n",
       "8   female   53      yes    고졸      NaN       no     NaN      전혀마시지않음     NaN   \n",
       "9   female   31       no    중졸      NaN       no     NaN      전혀마시지않음     NaN   \n",
       "13    male   45       no  대졸이상      NaN      yes    14.0        월2~3회     연1회   \n",
       "\n",
       "   dr_hurt  ... health_state disabled  work_state work_code region    income  \\\n",
       "0      NaN  ...            2    abled      nowork       NaN   city  6.006353   \n",
       "2      NaN  ...            4    abled        work     762.0   city  7.742836   \n",
       "8      NaN  ...            2    abled        work     151.0   city  7.737093   \n",
       "9      NaN  ...            2    abled      nowork       NaN   city  7.737093   \n",
       "13      전혀  ...            4    abled        work     399.0   city  8.692658   \n",
       "\n",
       "   y_total      debt  y_train  age_range  \n",
       "0       20  9.244838        0     60세 이상  \n",
       "2       18  9.962747        0     60세 이상  \n",
       "8       21  6.928538        0     50~59세  \n",
       "9       17  6.928538        0     30~39세  \n",
       "13      20  9.466687        0     40~49세  \n",
       "\n",
       "[5 rows x 22 columns]"
      ]
     },
     "execution_count": 19,
     "metadata": {},
     "output_type": "execute_result"
    }
   ],
   "source": [
    "bins = [20,29,39,49,59,99]\n",
    "labels = ['19~29세','30~39세','40~49세','50~59세','60세 이상']\n",
    "\n",
    "cuts = pd.cut(df['age'],bins,labels=labels)\n",
    "df['age_range'] = cuts\n",
    "df.head()"
   ]
  },
  {
   "cell_type": "code",
   "execution_count": 20,
   "metadata": {},
   "outputs": [
    {
     "data": {
      "text/html": [
       "<div>\n",
       "<style scoped>\n",
       "    .dataframe tbody tr th:only-of-type {\n",
       "        vertical-align: middle;\n",
       "    }\n",
       "\n",
       "    .dataframe tbody tr th {\n",
       "        vertical-align: top;\n",
       "    }\n",
       "\n",
       "    .dataframe thead th {\n",
       "        text-align: right;\n",
       "    }\n",
       "</style>\n",
       "<table border=\"1\" class=\"dataframe\">\n",
       "  <thead>\n",
       "    <tr style=\"text-align: right;\">\n",
       "      <th></th>\n",
       "      <th>gen</th>\n",
       "      <th>religion</th>\n",
       "      <th>edu</th>\n",
       "      <th>sm_year</th>\n",
       "      <th>sm_state</th>\n",
       "      <th>sm_day</th>\n",
       "      <th>dr_mean_year</th>\n",
       "      <th>dr_6cup</th>\n",
       "      <th>dr_hurt</th>\n",
       "      <th>dr_worry</th>\n",
       "      <th>...</th>\n",
       "      <th>health_state</th>\n",
       "      <th>disabled</th>\n",
       "      <th>work_state</th>\n",
       "      <th>work_code</th>\n",
       "      <th>region</th>\n",
       "      <th>income</th>\n",
       "      <th>y_total</th>\n",
       "      <th>debt</th>\n",
       "      <th>y_train</th>\n",
       "      <th>age_range</th>\n",
       "    </tr>\n",
       "  </thead>\n",
       "  <tbody>\n",
       "    <tr>\n",
       "      <th>0</th>\n",
       "      <td>female</td>\n",
       "      <td>yes</td>\n",
       "      <td>중졸</td>\n",
       "      <td>NaN</td>\n",
       "      <td>no</td>\n",
       "      <td>NaN</td>\n",
       "      <td>전혀마시지않음</td>\n",
       "      <td>NaN</td>\n",
       "      <td>NaN</td>\n",
       "      <td>NaN</td>\n",
       "      <td>...</td>\n",
       "      <td>2</td>\n",
       "      <td>abled</td>\n",
       "      <td>nowork</td>\n",
       "      <td>NaN</td>\n",
       "      <td>city</td>\n",
       "      <td>6.006353</td>\n",
       "      <td>20</td>\n",
       "      <td>9.244838</td>\n",
       "      <td>0</td>\n",
       "      <td>60세 이상</td>\n",
       "    </tr>\n",
       "    <tr>\n",
       "      <th>2</th>\n",
       "      <td>male</td>\n",
       "      <td>yes</td>\n",
       "      <td>대졸이상</td>\n",
       "      <td>NaN</td>\n",
       "      <td>no</td>\n",
       "      <td>NaN</td>\n",
       "      <td>전혀마시지않음</td>\n",
       "      <td>NaN</td>\n",
       "      <td>NaN</td>\n",
       "      <td>NaN</td>\n",
       "      <td>...</td>\n",
       "      <td>4</td>\n",
       "      <td>abled</td>\n",
       "      <td>work</td>\n",
       "      <td>762.0</td>\n",
       "      <td>city</td>\n",
       "      <td>7.742836</td>\n",
       "      <td>18</td>\n",
       "      <td>9.962747</td>\n",
       "      <td>0</td>\n",
       "      <td>60세 이상</td>\n",
       "    </tr>\n",
       "    <tr>\n",
       "      <th>8</th>\n",
       "      <td>female</td>\n",
       "      <td>yes</td>\n",
       "      <td>고졸</td>\n",
       "      <td>NaN</td>\n",
       "      <td>no</td>\n",
       "      <td>NaN</td>\n",
       "      <td>전혀마시지않음</td>\n",
       "      <td>NaN</td>\n",
       "      <td>NaN</td>\n",
       "      <td>NaN</td>\n",
       "      <td>...</td>\n",
       "      <td>2</td>\n",
       "      <td>abled</td>\n",
       "      <td>work</td>\n",
       "      <td>151.0</td>\n",
       "      <td>city</td>\n",
       "      <td>7.737093</td>\n",
       "      <td>21</td>\n",
       "      <td>6.928538</td>\n",
       "      <td>0</td>\n",
       "      <td>50~59세</td>\n",
       "    </tr>\n",
       "    <tr>\n",
       "      <th>9</th>\n",
       "      <td>female</td>\n",
       "      <td>no</td>\n",
       "      <td>중졸</td>\n",
       "      <td>NaN</td>\n",
       "      <td>no</td>\n",
       "      <td>NaN</td>\n",
       "      <td>전혀마시지않음</td>\n",
       "      <td>NaN</td>\n",
       "      <td>NaN</td>\n",
       "      <td>NaN</td>\n",
       "      <td>...</td>\n",
       "      <td>2</td>\n",
       "      <td>abled</td>\n",
       "      <td>nowork</td>\n",
       "      <td>NaN</td>\n",
       "      <td>city</td>\n",
       "      <td>7.737093</td>\n",
       "      <td>17</td>\n",
       "      <td>6.928538</td>\n",
       "      <td>0</td>\n",
       "      <td>30~39세</td>\n",
       "    </tr>\n",
       "    <tr>\n",
       "      <th>13</th>\n",
       "      <td>male</td>\n",
       "      <td>no</td>\n",
       "      <td>대졸이상</td>\n",
       "      <td>NaN</td>\n",
       "      <td>yes</td>\n",
       "      <td>14.0</td>\n",
       "      <td>월2~3회</td>\n",
       "      <td>연1회</td>\n",
       "      <td>전혀</td>\n",
       "      <td>전혀</td>\n",
       "      <td>...</td>\n",
       "      <td>4</td>\n",
       "      <td>abled</td>\n",
       "      <td>work</td>\n",
       "      <td>399.0</td>\n",
       "      <td>city</td>\n",
       "      <td>8.692658</td>\n",
       "      <td>20</td>\n",
       "      <td>9.466687</td>\n",
       "      <td>0</td>\n",
       "      <td>40~49세</td>\n",
       "    </tr>\n",
       "  </tbody>\n",
       "</table>\n",
       "<p>5 rows × 21 columns</p>\n",
       "</div>"
      ],
      "text/plain": [
       "       gen religion   edu  sm_year sm_state  sm_day dr_mean_year dr_6cup  \\\n",
       "0   female      yes    중졸      NaN       no     NaN      전혀마시지않음     NaN   \n",
       "2     male      yes  대졸이상      NaN       no     NaN      전혀마시지않음     NaN   \n",
       "8   female      yes    고졸      NaN       no     NaN      전혀마시지않음     NaN   \n",
       "9   female       no    중졸      NaN       no     NaN      전혀마시지않음     NaN   \n",
       "13    male       no  대졸이상      NaN      yes    14.0        월2~3회     연1회   \n",
       "\n",
       "   dr_hurt dr_worry  ... health_state  disabled work_state work_code  region  \\\n",
       "0      NaN      NaN  ...            2     abled     nowork       NaN    city   \n",
       "2      NaN      NaN  ...            4     abled       work     762.0    city   \n",
       "8      NaN      NaN  ...            2     abled       work     151.0    city   \n",
       "9      NaN      NaN  ...            2     abled     nowork       NaN    city   \n",
       "13      전혀       전혀  ...            4     abled       work     399.0    city   \n",
       "\n",
       "      income  y_total      debt  y_train  age_range  \n",
       "0   6.006353       20  9.244838        0     60세 이상  \n",
       "2   7.742836       18  9.962747        0     60세 이상  \n",
       "8   7.737093       21  6.928538        0     50~59세  \n",
       "9   7.737093       17  6.928538        0     30~39세  \n",
       "13  8.692658       20  9.466687        0     40~49세  \n",
       "\n",
       "[5 rows x 21 columns]"
      ]
     },
     "execution_count": 20,
     "metadata": {},
     "output_type": "execute_result"
    }
   ],
   "source": [
    "df.drop('age',axis=1,inplace=True)\n",
    "df.head()"
   ]
  },
  {
   "cell_type": "code",
   "execution_count": 21,
   "metadata": {},
   "outputs": [
    {
     "data": {
      "text/plain": [
       "Index(['gen', 'religion', 'edu', 'sm_year', 'sm_state', 'sm_day',\n",
       "       'dr_mean_year', 'dr_6cup', 'dr_hurt', 'dr_worry', 'preg_experience',\n",
       "       'health_state', 'disabled', 'work_state', 'work_code', 'region',\n",
       "       'income', 'y_total', 'debt', 'y_train', 'age_range'],\n",
       "      dtype='object')"
      ]
     },
     "execution_count": 21,
     "metadata": {},
     "output_type": "execute_result"
    }
   ],
   "source": [
    "df.columns"
   ]
  },
  {
   "cell_type": "code",
   "execution_count": 22,
   "metadata": {},
   "outputs": [],
   "source": [
    "## 명목형 변수 \n",
    "## gen religion edu sm_state dr_mean_year dr_6cup dr_hurt dr_worry preg_experience health_state disabled work_state income age_range\n"
   ]
  },
  {
   "cell_type": "markdown",
   "metadata": {},
   "source": [
    "## 명목형 변수의 빈도수 확인"
   ]
  },
  {
   "cell_type": "code",
   "execution_count": 23,
   "metadata": {},
   "outputs": [],
   "source": [
    "cnames = ['gen' ,'religion' ,'edu' ,'sm_state' ,'dr_mean_year','dr_6cup' ,'dr_hurt' ,'dr_worry' ,'preg_experience', 'health_state','disabled', 'work_state','age_range']"
   ]
  },
  {
   "cell_type": "code",
   "execution_count": 24,
   "metadata": {},
   "outputs": [
    {
     "data": {
      "text/plain": [
       "gen\n",
       "female    2887\n",
       "male      2527\n",
       "Name: count, dtype: int64"
      ]
     },
     "execution_count": 24,
     "metadata": {},
     "output_type": "execute_result"
    }
   ],
   "source": [
    "df['gen'].value_counts()"
   ]
  },
  {
   "cell_type": "code",
   "execution_count": 25,
   "metadata": {},
   "outputs": [
    {
     "data": {
      "text/plain": [
       "religion\n",
       "no     3015\n",
       "yes    2399\n",
       "Name: count, dtype: int64"
      ]
     },
     "execution_count": 25,
     "metadata": {},
     "output_type": "execute_result"
    }
   ],
   "source": [
    "df['religion'].value_counts()"
   ]
  },
  {
   "cell_type": "code",
   "execution_count": 26,
   "metadata": {},
   "outputs": [
    {
     "data": {
      "text/plain": [
       "edu\n",
       "대졸이상    2686\n",
       "고졸      1690\n",
       "초졸이하     607\n",
       "중졸       431\n",
       "Name: count, dtype: int64"
      ]
     },
     "execution_count": 26,
     "metadata": {},
     "output_type": "execute_result"
    }
   ],
   "source": [
    "df['edu'].value_counts()"
   ]
  },
  {
   "cell_type": "code",
   "execution_count": 27,
   "metadata": {},
   "outputs": [
    {
     "data": {
      "text/plain": [
       "sm_state\n",
       "no     4366\n",
       "yes    1048\n",
       "Name: count, dtype: int64"
      ]
     },
     "execution_count": 27,
     "metadata": {},
     "output_type": "execute_result"
    }
   ],
   "source": [
    "df['sm_state'].value_counts()"
   ]
  },
  {
   "cell_type": "code",
   "execution_count": 28,
   "metadata": {},
   "outputs": [
    {
     "data": {
      "text/plain": [
       "dr_mean_year\n",
       "전혀마시지않음    2459\n",
       "월2~3회      1127\n",
       "주2~3회       807\n",
       "월1회         662\n",
       "주4회이상       359\n",
       "Name: count, dtype: int64"
      ]
     },
     "execution_count": 28,
     "metadata": {},
     "output_type": "execute_result"
    }
   ],
   "source": [
    "df['dr_mean_year'].value_counts()"
   ]
  },
  {
   "cell_type": "code",
   "execution_count": 29,
   "metadata": {},
   "outputs": [
    {
     "data": {
      "text/plain": [
       "dr_6cup\n",
       "전혀     1052\n",
       "월1회     607\n",
       "주1회     568\n",
       "연1회     546\n",
       "매일      182\n",
       "Name: count, dtype: int64"
      ]
     },
     "execution_count": 29,
     "metadata": {},
     "output_type": "execute_result"
    }
   ],
   "source": [
    "df['dr_6cup'].value_counts()"
   ]
  },
  {
   "cell_type": "code",
   "execution_count": 30,
   "metadata": {},
   "outputs": [
    {
     "data": {
      "text/plain": [
       "dr_hurt\n",
       "전혀      2881\n",
       "과거존재      61\n",
       "최근존재      13\n",
       "Name: count, dtype: int64"
      ]
     },
     "execution_count": 30,
     "metadata": {},
     "output_type": "execute_result"
    }
   ],
   "source": [
    "df['dr_hurt'].value_counts()"
   ]
  },
  {
   "cell_type": "code",
   "execution_count": 31,
   "metadata": {},
   "outputs": [
    {
     "data": {
      "text/plain": [
       "dr_worry\n",
       "전혀      2650\n",
       "최근존재     214\n",
       "과거존재      91\n",
       "Name: count, dtype: int64"
      ]
     },
     "execution_count": 31,
     "metadata": {},
     "output_type": "execute_result"
    }
   ],
   "source": [
    "df['dr_worry'].value_counts()"
   ]
  },
  {
   "cell_type": "code",
   "execution_count": 32,
   "metadata": {},
   "outputs": [
    {
     "data": {
      "text/plain": [
       "preg_experience\n",
       "없다    2830\n",
       "남성    2527\n",
       "있다      57\n",
       "Name: count, dtype: int64"
      ]
     },
     "execution_count": 32,
     "metadata": {},
     "output_type": "execute_result"
    }
   ],
   "source": [
    "df['preg_experience'].value_counts()\n"
   ]
  },
  {
   "cell_type": "code",
   "execution_count": 33,
   "metadata": {},
   "outputs": [
    {
     "data": {
      "text/plain": [
       "health_state\n",
       "4    3150\n",
       "3     995\n",
       "2     645\n",
       "5     563\n",
       "1      61\n",
       "Name: count, dtype: int64"
      ]
     },
     "execution_count": 33,
     "metadata": {},
     "output_type": "execute_result"
    }
   ],
   "source": [
    "df['health_state'].value_counts()\n"
   ]
  },
  {
   "cell_type": "code",
   "execution_count": 34,
   "metadata": {},
   "outputs": [
    {
     "data": {
      "text/plain": [
       "disabled\n",
       "abled       5096\n",
       "disabled     318\n",
       "Name: count, dtype: int64"
      ]
     },
     "execution_count": 34,
     "metadata": {},
     "output_type": "execute_result"
    }
   ],
   "source": [
    "df['disabled'].value_counts()\n"
   ]
  },
  {
   "cell_type": "code",
   "execution_count": 35,
   "metadata": {},
   "outputs": [
    {
     "data": {
      "text/plain": [
       "work_state\n",
       "work      3801\n",
       "nowork    1613\n",
       "Name: count, dtype: int64"
      ]
     },
     "execution_count": 35,
     "metadata": {},
     "output_type": "execute_result"
    }
   ],
   "source": [
    "df['work_state'].value_counts()\n"
   ]
  },
  {
   "cell_type": "code",
   "execution_count": 36,
   "metadata": {},
   "outputs": [
    {
     "data": {
      "text/plain": [
       "age_range\n",
       "60세 이상    1729\n",
       "40~49세    1176\n",
       "50~59세    1086\n",
       "30~39세     758\n",
       "19~29세     656\n",
       "Name: count, dtype: int64"
      ]
     },
     "execution_count": 36,
     "metadata": {},
     "output_type": "execute_result"
    }
   ],
   "source": [
    "df['age_range'].value_counts()\n"
   ]
  },
  {
   "cell_type": "code",
   "execution_count": 37,
   "metadata": {},
   "outputs": [
    {
     "data": {
      "text/plain": [
       "['gen',\n",
       " 'religion',\n",
       " 'edu',\n",
       " 'sm_state',\n",
       " 'dr_mean_year',\n",
       " 'dr_6cup',\n",
       " 'dr_hurt',\n",
       " 'dr_worry',\n",
       " 'preg_experience',\n",
       " 'health_state',\n",
       " 'disabled',\n",
       " 'work_state',\n",
       " 'age_range']"
      ]
     },
     "execution_count": 37,
     "metadata": {},
     "output_type": "execute_result"
    }
   ],
   "source": [
    "cnames"
   ]
  },
  {
   "cell_type": "markdown",
   "metadata": {},
   "source": [
    "## 데이터의 분포 확인  :  명목형 변수들의 y_train에 따른 차이 확인"
   ]
  },
  {
   "cell_type": "markdown",
   "metadata": {},
   "source": [
    "### 전체적인 경향성은 나이가 많아질수록 우울감이 높게 나타난다. 특히 노년층의 우울감은 굉장히 높다"
   ]
  },
  {
   "cell_type": "code",
   "execution_count": null,
   "metadata": {},
   "outputs": [],
   "source": []
  },
  {
   "cell_type": "code",
   "execution_count": 38,
   "metadata": {},
   "outputs": [
    {
     "data": {
      "text/plain": [
       "<seaborn.axisgrid.FacetGrid at 0x2075ea5c490>"
      ]
     },
     "execution_count": 38,
     "metadata": {},
     "output_type": "execute_result"
    },
    {
     "data": {
      "image/png": "[encoded data removed]",
      "text/plain": [
       "<Figure size 569.125x500 with 1 Axes>"
      ]
     },
     "metadata": {},
     "output_type": "display_data"
    }
   ],
   "source": [
    "sns.catplot(data=df.loc[df['y_train']==1],x='age_range',kind='count',hue='y_train')"
   ]
  },
  {
   "cell_type": "markdown",
   "metadata": {},
   "source": [
    "종교에 따른 우울감 경험여부는 차이가 없는것으로 보임"
   ]
  },
  {
   "cell_type": "code",
   "execution_count": 39,
   "metadata": {},
   "outputs": [
    {
     "data": {
      "text/plain": [
       "<seaborn.axisgrid.FacetGrid at 0x2075d79c210>"
      ]
     },
     "execution_count": 39,
     "metadata": {},
     "output_type": "execute_result"
    },
    {
     "data": {
      "image/png": "[encoded data removed]",
      "text/plain": [
       "<Figure size 569.25x500 with 1 Axes>"
      ]
     },
     "metadata": {},
     "output_type": "display_data"
    }
   ],
   "source": [
    "sns.catplot(data=df,x='religion',kind='count',hue='y_train')"
   ]
  },
  {
   "cell_type": "markdown",
   "metadata": {},
   "source": [
    "교육수준에 따른 우울감 경험여부의 비율은 초졸인 사람들이 가장높았음."
   ]
  },
  {
   "cell_type": "code",
   "execution_count": 40,
   "metadata": {},
   "outputs": [
    {
     "data": {
      "image/png": "[encoded data removed]",
      "text/plain": [
       "<Figure size 569.25x500 with 1 Axes>"
      ]
     },
     "metadata": {},
     "output_type": "display_data"
    }
   ],
   "source": [
    "sns.catplot(data=df,x='edu',kind='count',hue='y_train')\n",
    "plt.show()\n",
    "plt.close()"
   ]
  },
  {
   "cell_type": "markdown",
   "metadata": {},
   "source": [
    "흡연여부는 애매함. -> 다운샘플링 진행"
   ]
  },
  {
   "cell_type": "code",
   "execution_count": 41,
   "metadata": {},
   "outputs": [
    {
     "data": {
      "text/plain": [
       "<seaborn.axisgrid.FacetGrid at 0x2075eb9c150>"
      ]
     },
     "execution_count": 41,
     "metadata": {},
     "output_type": "execute_result"
    },
    {
     "data": {
      "image/png": "[encoded data removed]",
      "text/plain": [
       "<Figure size 569.25x500 with 1 Axes>"
      ]
     },
     "metadata": {},
     "output_type": "display_data"
    }
   ],
   "source": [
    "sns.catplot(data=df,x='sm_state',kind='count',hue='y_train')"
   ]
  },
  {
   "cell_type": "code",
   "execution_count": 42,
   "metadata": {},
   "outputs": [],
   "source": [
    "from sklearn.utils import resample\n",
    "\n",
    "subset_city_downsampled = resample(df[df['sm_state']=='no'],\n",
    "                            replace=False,\n",
    "                            n_samples =1048 ,\n",
    "                            random_state = 2020)\n",
    "                            \n"
   ]
  },
  {
   "cell_type": "code",
   "execution_count": 43,
   "metadata": {},
   "outputs": [
    {
     "data": {
      "text/plain": [
       "Index(['gen', 'religion', 'edu', 'sm_year', 'sm_state', 'sm_day',\n",
       "       'dr_mean_year', 'dr_6cup', 'dr_hurt', 'dr_worry', 'preg_experience',\n",
       "       'health_state', 'disabled', 'work_state', 'work_code', 'region',\n",
       "       'income', 'y_total', 'debt', 'y_train', 'age_range'],\n",
       "      dtype='object')"
      ]
     },
     "execution_count": 43,
     "metadata": {},
     "output_type": "execute_result"
    }
   ],
   "source": [
    "df.columns"
   ]
  },
  {
   "cell_type": "markdown",
   "metadata": {},
   "source": [
    "### 흡연 기간에 따른 우울감 점수 차이 없음\n"
   ]
  },
  {
   "cell_type": "code",
   "execution_count": null,
   "metadata": {},
   "outputs": [],
   "source": []
  },
  {
   "cell_type": "code",
   "execution_count": 44,
   "metadata": {},
   "outputs": [
    {
     "data": {
      "text/html": [
       "<div>\n",
       "<style scoped>\n",
       "    .dataframe tbody tr th:only-of-type {\n",
       "        vertical-align: middle;\n",
       "    }\n",
       "\n",
       "    .dataframe tbody tr th {\n",
       "        vertical-align: top;\n",
       "    }\n",
       "\n",
       "    .dataframe thead th {\n",
       "        text-align: right;\n",
       "    }\n",
       "</style>\n",
       "<table border=\"1\" class=\"dataframe\">\n",
       "  <thead>\n",
       "    <tr style=\"text-align: right;\">\n",
       "      <th></th>\n",
       "      <th>gen</th>\n",
       "      <th>religion</th>\n",
       "      <th>edu</th>\n",
       "      <th>sm_year</th>\n",
       "      <th>sm_state</th>\n",
       "      <th>sm_day</th>\n",
       "      <th>dr_mean_year</th>\n",
       "      <th>dr_6cup</th>\n",
       "      <th>dr_hurt</th>\n",
       "      <th>dr_worry</th>\n",
       "      <th>...</th>\n",
       "      <th>health_state</th>\n",
       "      <th>disabled</th>\n",
       "      <th>work_state</th>\n",
       "      <th>work_code</th>\n",
       "      <th>region</th>\n",
       "      <th>income</th>\n",
       "      <th>y_total</th>\n",
       "      <th>debt</th>\n",
       "      <th>y_train</th>\n",
       "      <th>age_range</th>\n",
       "    </tr>\n",
       "  </thead>\n",
       "  <tbody>\n",
       "    <tr>\n",
       "      <th>0</th>\n",
       "      <td>female</td>\n",
       "      <td>yes</td>\n",
       "      <td>중졸</td>\n",
       "      <td>NaN</td>\n",
       "      <td>no</td>\n",
       "      <td>NaN</td>\n",
       "      <td>전혀마시지않음</td>\n",
       "      <td>NaN</td>\n",
       "      <td>NaN</td>\n",
       "      <td>NaN</td>\n",
       "      <td>...</td>\n",
       "      <td>2</td>\n",
       "      <td>abled</td>\n",
       "      <td>nowork</td>\n",
       "      <td>NaN</td>\n",
       "      <td>city</td>\n",
       "      <td>6.006353</td>\n",
       "      <td>20</td>\n",
       "      <td>9.244838</td>\n",
       "      <td>0</td>\n",
       "      <td>60세 이상</td>\n",
       "    </tr>\n",
       "    <tr>\n",
       "      <th>2</th>\n",
       "      <td>male</td>\n",
       "      <td>yes</td>\n",
       "      <td>대졸이상</td>\n",
       "      <td>NaN</td>\n",
       "      <td>no</td>\n",
       "      <td>NaN</td>\n",
       "      <td>전혀마시지않음</td>\n",
       "      <td>NaN</td>\n",
       "      <td>NaN</td>\n",
       "      <td>NaN</td>\n",
       "      <td>...</td>\n",
       "      <td>4</td>\n",
       "      <td>abled</td>\n",
       "      <td>work</td>\n",
       "      <td>762.0</td>\n",
       "      <td>city</td>\n",
       "      <td>7.742836</td>\n",
       "      <td>18</td>\n",
       "      <td>9.962747</td>\n",
       "      <td>0</td>\n",
       "      <td>60세 이상</td>\n",
       "    </tr>\n",
       "    <tr>\n",
       "      <th>8</th>\n",
       "      <td>female</td>\n",
       "      <td>yes</td>\n",
       "      <td>고졸</td>\n",
       "      <td>NaN</td>\n",
       "      <td>no</td>\n",
       "      <td>NaN</td>\n",
       "      <td>전혀마시지않음</td>\n",
       "      <td>NaN</td>\n",
       "      <td>NaN</td>\n",
       "      <td>NaN</td>\n",
       "      <td>...</td>\n",
       "      <td>2</td>\n",
       "      <td>abled</td>\n",
       "      <td>work</td>\n",
       "      <td>151.0</td>\n",
       "      <td>city</td>\n",
       "      <td>7.737093</td>\n",
       "      <td>21</td>\n",
       "      <td>6.928538</td>\n",
       "      <td>0</td>\n",
       "      <td>50~59세</td>\n",
       "    </tr>\n",
       "    <tr>\n",
       "      <th>9</th>\n",
       "      <td>female</td>\n",
       "      <td>no</td>\n",
       "      <td>중졸</td>\n",
       "      <td>NaN</td>\n",
       "      <td>no</td>\n",
       "      <td>NaN</td>\n",
       "      <td>전혀마시지않음</td>\n",
       "      <td>NaN</td>\n",
       "      <td>NaN</td>\n",
       "      <td>NaN</td>\n",
       "      <td>...</td>\n",
       "      <td>2</td>\n",
       "      <td>abled</td>\n",
       "      <td>nowork</td>\n",
       "      <td>NaN</td>\n",
       "      <td>city</td>\n",
       "      <td>7.737093</td>\n",
       "      <td>17</td>\n",
       "      <td>6.928538</td>\n",
       "      <td>0</td>\n",
       "      <td>30~39세</td>\n",
       "    </tr>\n",
       "    <tr>\n",
       "      <th>13</th>\n",
       "      <td>male</td>\n",
       "      <td>no</td>\n",
       "      <td>대졸이상</td>\n",
       "      <td>NaN</td>\n",
       "      <td>yes</td>\n",
       "      <td>14.0</td>\n",
       "      <td>월2~3회</td>\n",
       "      <td>연1회</td>\n",
       "      <td>전혀</td>\n",
       "      <td>전혀</td>\n",
       "      <td>...</td>\n",
       "      <td>4</td>\n",
       "      <td>abled</td>\n",
       "      <td>work</td>\n",
       "      <td>399.0</td>\n",
       "      <td>city</td>\n",
       "      <td>8.692658</td>\n",
       "      <td>20</td>\n",
       "      <td>9.466687</td>\n",
       "      <td>0</td>\n",
       "      <td>40~49세</td>\n",
       "    </tr>\n",
       "  </tbody>\n",
       "</table>\n",
       "<p>5 rows × 21 columns</p>\n",
       "</div>"
      ],
      "text/plain": [
       "       gen religion   edu  sm_year sm_state  sm_day dr_mean_year dr_6cup  \\\n",
       "0   female      yes    중졸      NaN       no     NaN      전혀마시지않음     NaN   \n",
       "2     male      yes  대졸이상      NaN       no     NaN      전혀마시지않음     NaN   \n",
       "8   female      yes    고졸      NaN       no     NaN      전혀마시지않음     NaN   \n",
       "9   female       no    중졸      NaN       no     NaN      전혀마시지않음     NaN   \n",
       "13    male       no  대졸이상      NaN      yes    14.0        월2~3회     연1회   \n",
       "\n",
       "   dr_hurt dr_worry  ... health_state  disabled work_state work_code  region  \\\n",
       "0      NaN      NaN  ...            2     abled     nowork       NaN    city   \n",
       "2      NaN      NaN  ...            4     abled       work     762.0    city   \n",
       "8      NaN      NaN  ...            2     abled       work     151.0    city   \n",
       "9      NaN      NaN  ...            2     abled     nowork       NaN    city   \n",
       "13      전혀       전혀  ...            4     abled       work     399.0    city   \n",
       "\n",
       "      income  y_total      debt  y_train  age_range  \n",
       "0   6.006353       20  9.244838        0     60세 이상  \n",
       "2   7.742836       18  9.962747        0     60세 이상  \n",
       "8   7.737093       21  6.928538        0     50~59세  \n",
       "9   7.737093       17  6.928538        0     30~39세  \n",
       "13  8.692658       20  9.466687        0     40~49세  \n",
       "\n",
       "[5 rows x 21 columns]"
      ]
     },
     "execution_count": 44,
     "metadata": {},
     "output_type": "execute_result"
    }
   ],
   "source": [
    "df.head()"
   ]
  },
  {
   "cell_type": "code",
   "execution_count": 45,
   "metadata": {},
   "outputs": [
    {
     "data": {
      "text/plain": [
       "sm_state\n",
       "yes    1048\n",
       "no     1048\n",
       "Name: count, dtype: int64"
      ]
     },
     "execution_count": 45,
     "metadata": {},
     "output_type": "execute_result"
    }
   ],
   "source": [
    "sm_data = pd.concat([df[df['sm_state']=='yes'],subset_city_downsampled])\n",
    "sm_data['sm_state'].value_counts()"
   ]
  },
  {
   "cell_type": "markdown",
   "metadata": {},
   "source": [
    "별차이 없음>\n"
   ]
  },
  {
   "cell_type": "code",
   "execution_count": 46,
   "metadata": {},
   "outputs": [
    {
     "data": {
      "text/plain": [
       "<seaborn.axisgrid.FacetGrid at 0x20760e4c390>"
      ]
     },
     "execution_count": 46,
     "metadata": {},
     "output_type": "execute_result"
    },
    {
     "data": {
      "image/png": "[encoded data removed]",
      "text/plain": [
       "<Figure size 569.25x500 with 1 Axes>"
      ]
     },
     "metadata": {},
     "output_type": "display_data"
    }
   ],
   "source": [
    "sns.catplot(data=sm_data,x='sm_state',kind='count',hue='y_train')"
   ]
  },
  {
   "cell_type": "markdown",
   "metadata": {},
   "source": [
    "연평균 음주량도 별 차이 없어보임."
   ]
  },
  {
   "cell_type": "code",
   "execution_count": 47,
   "metadata": {},
   "outputs": [
    {
     "data": {
      "text/plain": [
       "<seaborn.axisgrid.FacetGrid at 0x20760dbaf90>"
      ]
     },
     "execution_count": 47,
     "metadata": {},
     "output_type": "execute_result"
    },
    {
     "data": {
      "image/png": "[encoded data removed]",
      "text/plain": [
       "<Figure size 569.25x500 with 1 Axes>"
      ]
     },
     "metadata": {},
     "output_type": "display_data"
    }
   ],
   "source": [
    "sns.catplot(data=df,x='dr_mean_year',kind='count',hue='y_train')"
   ]
  },
  {
   "cell_type": "code",
   "execution_count": 48,
   "metadata": {},
   "outputs": [
    {
     "data": {
      "text/plain": [
       "0"
      ]
     },
     "execution_count": 48,
     "metadata": {},
     "output_type": "execute_result"
    }
   ],
   "source": [
    "over_dr = df.loc[df['dr_6cup'].notnull(),:]\n",
    "\n",
    "over_dr['dr_6cup'].isnull().sum()"
   ]
  },
  {
   "cell_type": "markdown",
   "metadata": {},
   "source": [
    "술을 한번마실때 6잔 이상 마시는 사람들이 우울감을 느끼는가에 대한 가설은 의미 x"
   ]
  },
  {
   "cell_type": "code",
   "execution_count": 49,
   "metadata": {},
   "outputs": [
    {
     "data": {
      "text/plain": [
       "<seaborn.axisgrid.FacetGrid at 0x20760f4d710>"
      ]
     },
     "execution_count": 49,
     "metadata": {},
     "output_type": "execute_result"
    },
    {
     "data": {
      "image/png": "[encoded data removed]",
      "text/plain": [
       "<Figure size 569.125x500 with 1 Axes>"
      ]
     },
     "metadata": {},
     "output_type": "display_data"
    }
   ],
   "source": [
    "sns.catplot(data=over_dr.loc[over_dr['y_train']==1],x='dr_6cup',kind='count',hue='y_train')"
   ]
  },
  {
   "cell_type": "markdown",
   "metadata": {},
   "source": [
    "임신경험 여부는 별 차이 없음"
   ]
  },
  {
   "cell_type": "code",
   "execution_count": 50,
   "metadata": {},
   "outputs": [
    {
     "data": {
      "text/plain": [
       "<seaborn.axisgrid.FacetGrid at 0x20760edad50>"
      ]
     },
     "execution_count": 50,
     "metadata": {},
     "output_type": "execute_result"
    },
    {
     "data": {
      "image/png": "[encoded data removed]",
      "text/plain": [
       "<Figure size 569.25x500 with 1 Axes>"
      ]
     },
     "metadata": {},
     "output_type": "display_data"
    }
   ],
   "source": [
    "woman = df.loc[df['preg_experience']!='남성']\n",
    "sns.catplot(data=woman,x='preg_experience',kind='count',hue='y_train')"
   ]
  },
  {
   "cell_type": "code",
   "execution_count": 51,
   "metadata": {},
   "outputs": [],
   "source": [
    "\n",
    "subset_city_downsampled = resample(woman[woman['preg_experience']=='없다'],\n",
    "                            replace=False,\n",
    "                            n_samples =57 ,\n",
    "                            random_state = 2020)"
   ]
  },
  {
   "cell_type": "code",
   "execution_count": 52,
   "metadata": {},
   "outputs": [
    {
     "data": {
      "text/plain": [
       "preg_experience\n",
       "있다    57\n",
       "없다    57\n",
       "Name: count, dtype: int64"
      ]
     },
     "execution_count": 52,
     "metadata": {},
     "output_type": "execute_result"
    }
   ],
   "source": [
    "sm_data = pd.concat([woman[woman['preg_experience']=='있다'],subset_city_downsampled])\n",
    "sm_data['preg_experience'].value_counts()"
   ]
  },
  {
   "cell_type": "code",
   "execution_count": 53,
   "metadata": {},
   "outputs": [
    {
     "data": {
      "text/plain": [
       "<seaborn.axisgrid.FacetGrid at 0x207625be150>"
      ]
     },
     "execution_count": 53,
     "metadata": {},
     "output_type": "execute_result"
    },
    {
     "data": {
      "image/png": "[encoded data removed]",
      "text/plain": [
       "<Figure size 569.25x500 with 1 Axes>"
      ]
     },
     "metadata": {},
     "output_type": "display_data"
    }
   ],
   "source": [
    "sns.catplot(data=sm_data,x='preg_experience',kind='count',hue='y_train')"
   ]
  },
  {
   "cell_type": "markdown",
   "metadata": {},
   "source": [
    "건강 만족도가 높아지면 우울감을 경험하는 경우가 적다."
   ]
  },
  {
   "cell_type": "code",
   "execution_count": 54,
   "metadata": {},
   "outputs": [
    {
     "data": {
      "text/html": [
       "<div>\n",
       "<style scoped>\n",
       "    .dataframe tbody tr th:only-of-type {\n",
       "        vertical-align: middle;\n",
       "    }\n",
       "\n",
       "    .dataframe tbody tr th {\n",
       "        vertical-align: top;\n",
       "    }\n",
       "\n",
       "    .dataframe thead th {\n",
       "        text-align: right;\n",
       "    }\n",
       "</style>\n",
       "<table border=\"1\" class=\"dataframe\">\n",
       "  <thead>\n",
       "    <tr style=\"text-align: right;\">\n",
       "      <th></th>\n",
       "      <th>health_state</th>\n",
       "      <th>y_total</th>\n",
       "    </tr>\n",
       "  </thead>\n",
       "  <tbody>\n",
       "    <tr>\n",
       "      <th>health_state</th>\n",
       "      <td>1.000000</td>\n",
       "      <td>-0.342151</td>\n",
       "    </tr>\n",
       "    <tr>\n",
       "      <th>y_total</th>\n",
       "      <td>-0.342151</td>\n",
       "      <td>1.000000</td>\n",
       "    </tr>\n",
       "  </tbody>\n",
       "</table>\n",
       "</div>"
      ],
      "text/plain": [
       "              health_state   y_total\n",
       "health_state      1.000000 -0.342151\n",
       "y_total          -0.342151  1.000000"
      ]
     },
     "execution_count": 54,
     "metadata": {},
     "output_type": "execute_result"
    },
    {
     "data": {
      "image/png": "[encoded data removed]",
      "text/plain": [
       "<Figure size 1000x500 with 1 Axes>"
      ]
     },
     "metadata": {},
     "output_type": "display_data"
    }
   ],
   "source": [
    "sns.regplot(data=df,x='health_state',y='y_total')\n",
    "corr = df[['health_state','y_total']].corr(method='pearson')\n",
    "corr"
   ]
  },
  {
   "cell_type": "markdown",
   "metadata": {},
   "source": [
    "장애여부는 데이터의 크기 차이가 심해서 비교하기 애매함 -> 다운샘플링"
   ]
  },
  {
   "cell_type": "code",
   "execution_count": 55,
   "metadata": {},
   "outputs": [
    {
     "data": {
      "text/plain": [
       "<seaborn.axisgrid.FacetGrid at 0x2075eb99690>"
      ]
     },
     "execution_count": 55,
     "metadata": {},
     "output_type": "execute_result"
    },
    {
     "data": {
      "image/png": "[encoded data removed]",
      "text/plain": [
       "<Figure size 569.25x500 with 1 Axes>"
      ]
     },
     "metadata": {},
     "output_type": "display_data"
    }
   ],
   "source": [
    "sns.catplot(data=df,x='disabled',kind='count',hue='y_train')"
   ]
  },
  {
   "cell_type": "code",
   "execution_count": 56,
   "metadata": {},
   "outputs": [
    {
     "data": {
      "text/plain": [
       "disabled\n",
       "abled       319\n",
       "disabled    318\n",
       "Name: count, dtype: int64"
      ]
     },
     "execution_count": 56,
     "metadata": {},
     "output_type": "execute_result"
    }
   ],
   "source": [
    "subset_city_downsampled = resample(df[df['disabled']=='abled'],\n",
    "                            replace=False,\n",
    "                            n_samples =319 ,\n",
    "                            random_state = 2020)\n",
    "able = pd.concat([df[df['disabled']=='disabled'],subset_city_downsampled])\n",
    "able['disabled'].value_counts()"
   ]
  },
  {
   "cell_type": "markdown",
   "metadata": {},
   "source": [
    "차이 있음"
   ]
  },
  {
   "cell_type": "code",
   "execution_count": 57,
   "metadata": {},
   "outputs": [
    {
     "data": {
      "text/plain": [
       "<seaborn.axisgrid.FacetGrid at 0x2075ebc38d0>"
      ]
     },
     "execution_count": 57,
     "metadata": {},
     "output_type": "execute_result"
    },
    {
     "data": {
      "image/png": "[encoded data removed]",
      "text/plain": [
       "<Figure size 569.25x500 with 1 Axes>"
      ]
     },
     "metadata": {},
     "output_type": "display_data"
    }
   ],
   "source": [
    "sns.catplot(data=able,x='disabled',kind='count',hue='y_train')"
   ]
  },
  {
   "cell_type": "code",
   "execution_count": 58,
   "metadata": {},
   "outputs": [
    {
     "data": {
      "text/plain": [
       "array(['nowork', 'work'], dtype=object)"
      ]
     },
     "execution_count": 58,
     "metadata": {},
     "output_type": "execute_result"
    }
   ],
   "source": [
    "df['work_state'].unique()"
   ]
  },
  {
   "cell_type": "markdown",
   "metadata": {},
   "source": [
    "노동여부에 따라 차이 많이 남"
   ]
  },
  {
   "cell_type": "code",
   "execution_count": 59,
   "metadata": {},
   "outputs": [
    {
     "data": {
      "text/plain": [
       "<seaborn.axisgrid.FacetGrid at 0x2075da33d50>"
      ]
     },
     "execution_count": 59,
     "metadata": {},
     "output_type": "execute_result"
    },
    {
     "data": {
      "image/png": "[encoded data removed]",
      "text/plain": [
       "<Figure size 569.25x500 with 1 Axes>"
      ]
     },
     "metadata": {},
     "output_type": "display_data"
    }
   ],
   "source": [
    "sns.catplot(data=df,x='work_state',kind='count',hue='y_train')"
   ]
  },
  {
   "cell_type": "markdown",
   "metadata": {},
   "source": [
    "사는 지역에 따라 우울감 경험의차이는 없ㅇ므"
   ]
  },
  {
   "cell_type": "code",
   "execution_count": 60,
   "metadata": {},
   "outputs": [
    {
     "data": {
      "text/plain": [
       "<seaborn.axisgrid.FacetGrid at 0x2075d953d50>"
      ]
     },
     "execution_count": 60,
     "metadata": {},
     "output_type": "execute_result"
    },
    {
     "data": {
      "image/png": "[encoded data removed]",
      "text/plain": [
       "<Figure size 569.25x500 with 1 Axes>"
      ]
     },
     "metadata": {},
     "output_type": "display_data"
    }
   ],
   "source": [
    "sns.catplot(data=df,x='region',kind='count',hue='y_train')"
   ]
  },
  {
   "cell_type": "code",
   "execution_count": 61,
   "metadata": {},
   "outputs": [
    {
     "data": {
      "text/plain": [
       "region\n",
       "country    696\n",
       "city       696\n",
       "Name: count, dtype: int64"
      ]
     },
     "execution_count": 61,
     "metadata": {},
     "output_type": "execute_result"
    }
   ],
   "source": [
    "\n",
    "subset_city_downsampled = resample(df[df['region']=='city'],\n",
    "                            replace=False,\n",
    "                            n_samples =696 ,\n",
    "                            random_state = 2020)\n",
    "city = pd.concat([df[df['region']=='country'],subset_city_downsampled])\n",
    "city['region'].value_counts()"
   ]
  },
  {
   "cell_type": "code",
   "execution_count": 62,
   "metadata": {},
   "outputs": [
    {
     "data": {
      "text/plain": [
       "<seaborn.axisgrid.FacetGrid at 0x2075e56b590>"
      ]
     },
     "execution_count": 62,
     "metadata": {},
     "output_type": "execute_result"
    },
    {
     "data": {
      "image/png": "[encoded data removed]",
      "text/plain": [
       "<Figure size 569.25x500 with 1 Axes>"
      ]
     },
     "metadata": {},
     "output_type": "display_data"
    }
   ],
   "source": [
    "sns.catplot(data=city,x='region',kind='count',hue='y_train')"
   ]
  },
  {
   "cell_type": "markdown",
   "metadata": {},
   "source": [
    "성별에 따른 차이 잇음"
   ]
  },
  {
   "cell_type": "code",
   "execution_count": 63,
   "metadata": {},
   "outputs": [
    {
     "data": {
      "text/plain": [
       "<seaborn.axisgrid.FacetGrid at 0x2075d9d38d0>"
      ]
     },
     "execution_count": 63,
     "metadata": {},
     "output_type": "execute_result"
    },
    {
     "data": {
      "image/png": "[encoded data removed]",
      "text/plain": [
       "<Figure size 569.25x500 with 1 Axes>"
      ]
     },
     "metadata": {},
     "output_type": "display_data"
    }
   ],
   "source": [
    "sns.catplot(data=df,x='gen',kind='count',hue='y_train')"
   ]
  },
  {
   "cell_type": "code",
   "execution_count": 64,
   "metadata": {},
   "outputs": [
    {
     "data": {
      "text/html": [
       "<div>\n",
       "<style scoped>\n",
       "    .dataframe tbody tr th:only-of-type {\n",
       "        vertical-align: middle;\n",
       "    }\n",
       "\n",
       "    .dataframe tbody tr th {\n",
       "        vertical-align: top;\n",
       "    }\n",
       "\n",
       "    .dataframe thead th {\n",
       "        text-align: right;\n",
       "    }\n",
       "</style>\n",
       "<table border=\"1\" class=\"dataframe\">\n",
       "  <thead>\n",
       "    <tr style=\"text-align: right;\">\n",
       "      <th></th>\n",
       "      <th>gen</th>\n",
       "      <th>religion</th>\n",
       "      <th>edu</th>\n",
       "      <th>sm_year</th>\n",
       "      <th>sm_state</th>\n",
       "      <th>sm_day</th>\n",
       "      <th>dr_mean_year</th>\n",
       "      <th>dr_6cup</th>\n",
       "      <th>dr_hurt</th>\n",
       "      <th>dr_worry</th>\n",
       "      <th>...</th>\n",
       "      <th>health_state</th>\n",
       "      <th>disabled</th>\n",
       "      <th>work_state</th>\n",
       "      <th>work_code</th>\n",
       "      <th>region</th>\n",
       "      <th>income</th>\n",
       "      <th>y_total</th>\n",
       "      <th>debt</th>\n",
       "      <th>y_train</th>\n",
       "      <th>age_range</th>\n",
       "    </tr>\n",
       "  </thead>\n",
       "  <tbody>\n",
       "    <tr>\n",
       "      <th>0</th>\n",
       "      <td>female</td>\n",
       "      <td>yes</td>\n",
       "      <td>중졸</td>\n",
       "      <td>NaN</td>\n",
       "      <td>no</td>\n",
       "      <td>NaN</td>\n",
       "      <td>전혀마시지않음</td>\n",
       "      <td>NaN</td>\n",
       "      <td>NaN</td>\n",
       "      <td>NaN</td>\n",
       "      <td>...</td>\n",
       "      <td>2</td>\n",
       "      <td>abled</td>\n",
       "      <td>nowork</td>\n",
       "      <td>NaN</td>\n",
       "      <td>city</td>\n",
       "      <td>6.006353</td>\n",
       "      <td>20</td>\n",
       "      <td>9.244838</td>\n",
       "      <td>0</td>\n",
       "      <td>60세 이상</td>\n",
       "    </tr>\n",
       "    <tr>\n",
       "      <th>2</th>\n",
       "      <td>male</td>\n",
       "      <td>yes</td>\n",
       "      <td>대졸이상</td>\n",
       "      <td>NaN</td>\n",
       "      <td>no</td>\n",
       "      <td>NaN</td>\n",
       "      <td>전혀마시지않음</td>\n",
       "      <td>NaN</td>\n",
       "      <td>NaN</td>\n",
       "      <td>NaN</td>\n",
       "      <td>...</td>\n",
       "      <td>4</td>\n",
       "      <td>abled</td>\n",
       "      <td>work</td>\n",
       "      <td>762.0</td>\n",
       "      <td>city</td>\n",
       "      <td>7.742836</td>\n",
       "      <td>18</td>\n",
       "      <td>9.962747</td>\n",
       "      <td>0</td>\n",
       "      <td>60세 이상</td>\n",
       "    </tr>\n",
       "    <tr>\n",
       "      <th>8</th>\n",
       "      <td>female</td>\n",
       "      <td>yes</td>\n",
       "      <td>고졸</td>\n",
       "      <td>NaN</td>\n",
       "      <td>no</td>\n",
       "      <td>NaN</td>\n",
       "      <td>전혀마시지않음</td>\n",
       "      <td>NaN</td>\n",
       "      <td>NaN</td>\n",
       "      <td>NaN</td>\n",
       "      <td>...</td>\n",
       "      <td>2</td>\n",
       "      <td>abled</td>\n",
       "      <td>work</td>\n",
       "      <td>151.0</td>\n",
       "      <td>city</td>\n",
       "      <td>7.737093</td>\n",
       "      <td>21</td>\n",
       "      <td>6.928538</td>\n",
       "      <td>0</td>\n",
       "      <td>50~59세</td>\n",
       "    </tr>\n",
       "    <tr>\n",
       "      <th>9</th>\n",
       "      <td>female</td>\n",
       "      <td>no</td>\n",
       "      <td>중졸</td>\n",
       "      <td>NaN</td>\n",
       "      <td>no</td>\n",
       "      <td>NaN</td>\n",
       "      <td>전혀마시지않음</td>\n",
       "      <td>NaN</td>\n",
       "      <td>NaN</td>\n",
       "      <td>NaN</td>\n",
       "      <td>...</td>\n",
       "      <td>2</td>\n",
       "      <td>abled</td>\n",
       "      <td>nowork</td>\n",
       "      <td>NaN</td>\n",
       "      <td>city</td>\n",
       "      <td>7.737093</td>\n",
       "      <td>17</td>\n",
       "      <td>6.928538</td>\n",
       "      <td>0</td>\n",
       "      <td>30~39세</td>\n",
       "    </tr>\n",
       "    <tr>\n",
       "      <th>13</th>\n",
       "      <td>male</td>\n",
       "      <td>no</td>\n",
       "      <td>대졸이상</td>\n",
       "      <td>NaN</td>\n",
       "      <td>yes</td>\n",
       "      <td>14.0</td>\n",
       "      <td>월2~3회</td>\n",
       "      <td>연1회</td>\n",
       "      <td>전혀</td>\n",
       "      <td>전혀</td>\n",
       "      <td>...</td>\n",
       "      <td>4</td>\n",
       "      <td>abled</td>\n",
       "      <td>work</td>\n",
       "      <td>399.0</td>\n",
       "      <td>city</td>\n",
       "      <td>8.692658</td>\n",
       "      <td>20</td>\n",
       "      <td>9.466687</td>\n",
       "      <td>0</td>\n",
       "      <td>40~49세</td>\n",
       "    </tr>\n",
       "  </tbody>\n",
       "</table>\n",
       "<p>5 rows × 21 columns</p>\n",
       "</div>"
      ],
      "text/plain": [
       "       gen religion   edu  sm_year sm_state  sm_day dr_mean_year dr_6cup  \\\n",
       "0   female      yes    중졸      NaN       no     NaN      전혀마시지않음     NaN   \n",
       "2     male      yes  대졸이상      NaN       no     NaN      전혀마시지않음     NaN   \n",
       "8   female      yes    고졸      NaN       no     NaN      전혀마시지않음     NaN   \n",
       "9   female       no    중졸      NaN       no     NaN      전혀마시지않음     NaN   \n",
       "13    male       no  대졸이상      NaN      yes    14.0        월2~3회     연1회   \n",
       "\n",
       "   dr_hurt dr_worry  ... health_state  disabled work_state work_code  region  \\\n",
       "0      NaN      NaN  ...            2     abled     nowork       NaN    city   \n",
       "2      NaN      NaN  ...            4     abled       work     762.0    city   \n",
       "8      NaN      NaN  ...            2     abled       work     151.0    city   \n",
       "9      NaN      NaN  ...            2     abled     nowork       NaN    city   \n",
       "13      전혀       전혀  ...            4     abled       work     399.0    city   \n",
       "\n",
       "      income  y_total      debt  y_train  age_range  \n",
       "0   6.006353       20  9.244838        0     60세 이상  \n",
       "2   7.742836       18  9.962747        0     60세 이상  \n",
       "8   7.737093       21  6.928538        0     50~59세  \n",
       "9   7.737093       17  6.928538        0     30~39세  \n",
       "13  8.692658       20  9.466687        0     40~49세  \n",
       "\n",
       "[5 rows x 21 columns]"
      ]
     },
     "execution_count": 64,
     "metadata": {},
     "output_type": "execute_result"
    }
   ],
   "source": [
    "df.head()"
   ]
  },
  {
   "cell_type": "code",
   "execution_count": 65,
   "metadata": {},
   "outputs": [
    {
     "data": {
      "text/plain": [
       "Index(['gen', 'religion', 'edu', 'sm_year', 'sm_state', 'sm_day',\n",
       "       'dr_mean_year', 'dr_6cup', 'dr_hurt', 'dr_worry', 'preg_experience',\n",
       "       'health_state', 'disabled', 'work_state', 'work_code', 'region',\n",
       "       'income', 'y_total', 'debt', 'y_train', 'age_range'],\n",
       "      dtype='object')"
      ]
     },
     "execution_count": 65,
     "metadata": {},
     "output_type": "execute_result"
    }
   ],
   "source": [
    "df.columns"
   ]
  },
  {
   "cell_type": "markdown",
   "metadata": {},
   "source": [
    "## 변수 골라내기 "
   ]
  },
  {
   "cell_type": "code",
   "execution_count": 66,
   "metadata": {},
   "outputs": [
    {
     "data": {
      "text/html": [
       "<div>\n",
       "<style scoped>\n",
       "    .dataframe tbody tr th:only-of-type {\n",
       "        vertical-align: middle;\n",
       "    }\n",
       "\n",
       "    .dataframe tbody tr th {\n",
       "        vertical-align: top;\n",
       "    }\n",
       "\n",
       "    .dataframe thead th {\n",
       "        text-align: right;\n",
       "    }\n",
       "</style>\n",
       "<table border=\"1\" class=\"dataframe\">\n",
       "  <thead>\n",
       "    <tr style=\"text-align: right;\">\n",
       "      <th></th>\n",
       "      <th>gen</th>\n",
       "      <th>edu</th>\n",
       "      <th>health_state</th>\n",
       "      <th>disabled</th>\n",
       "      <th>work_state</th>\n",
       "      <th>income</th>\n",
       "      <th>y_total</th>\n",
       "      <th>debt</th>\n",
       "      <th>y_train</th>\n",
       "      <th>age_range</th>\n",
       "    </tr>\n",
       "  </thead>\n",
       "  <tbody>\n",
       "    <tr>\n",
       "      <th>0</th>\n",
       "      <td>female</td>\n",
       "      <td>중졸</td>\n",
       "      <td>2</td>\n",
       "      <td>abled</td>\n",
       "      <td>nowork</td>\n",
       "      <td>6.006353</td>\n",
       "      <td>20</td>\n",
       "      <td>9.244838</td>\n",
       "      <td>0</td>\n",
       "      <td>60세 이상</td>\n",
       "    </tr>\n",
       "    <tr>\n",
       "      <th>2</th>\n",
       "      <td>male</td>\n",
       "      <td>대졸이상</td>\n",
       "      <td>4</td>\n",
       "      <td>abled</td>\n",
       "      <td>work</td>\n",
       "      <td>7.742836</td>\n",
       "      <td>18</td>\n",
       "      <td>9.962747</td>\n",
       "      <td>0</td>\n",
       "      <td>60세 이상</td>\n",
       "    </tr>\n",
       "    <tr>\n",
       "      <th>8</th>\n",
       "      <td>female</td>\n",
       "      <td>고졸</td>\n",
       "      <td>2</td>\n",
       "      <td>abled</td>\n",
       "      <td>work</td>\n",
       "      <td>7.737093</td>\n",
       "      <td>21</td>\n",
       "      <td>6.928538</td>\n",
       "      <td>0</td>\n",
       "      <td>50~59세</td>\n",
       "    </tr>\n",
       "    <tr>\n",
       "      <th>9</th>\n",
       "      <td>female</td>\n",
       "      <td>중졸</td>\n",
       "      <td>2</td>\n",
       "      <td>abled</td>\n",
       "      <td>nowork</td>\n",
       "      <td>7.737093</td>\n",
       "      <td>17</td>\n",
       "      <td>6.928538</td>\n",
       "      <td>0</td>\n",
       "      <td>30~39세</td>\n",
       "    </tr>\n",
       "    <tr>\n",
       "      <th>13</th>\n",
       "      <td>male</td>\n",
       "      <td>대졸이상</td>\n",
       "      <td>4</td>\n",
       "      <td>abled</td>\n",
       "      <td>work</td>\n",
       "      <td>8.692658</td>\n",
       "      <td>20</td>\n",
       "      <td>9.466687</td>\n",
       "      <td>0</td>\n",
       "      <td>40~49세</td>\n",
       "    </tr>\n",
       "  </tbody>\n",
       "</table>\n",
       "</div>"
      ],
      "text/plain": [
       "       gen   edu  health_state disabled work_state    income  y_total  \\\n",
       "0   female    중졸             2    abled     nowork  6.006353       20   \n",
       "2     male  대졸이상             4    abled       work  7.742836       18   \n",
       "8   female    고졸             2    abled       work  7.737093       21   \n",
       "9   female    중졸             2    abled     nowork  7.737093       17   \n",
       "13    male  대졸이상             4    abled       work  8.692658       20   \n",
       "\n",
       "        debt  y_train age_range  \n",
       "0   9.244838        0    60세 이상  \n",
       "2   9.962747        0    60세 이상  \n",
       "8   6.928538        0    50~59세  \n",
       "9   6.928538        0    30~39세  \n",
       "13  9.466687        0    40~49세  "
      ]
     },
     "execution_count": 66,
     "metadata": {},
     "output_type": "execute_result"
    }
   ],
   "source": [
    "df = df.loc[:,['gen','edu','health_state','disabled','work_state','income','y_total','debt','y_train','age_range']]\n",
    "df.head()"
   ]
  },
  {
   "cell_type": "markdown",
   "metadata": {},
   "source": [
    "## 변수들의 카테고리화 과정"
   ]
  },
  {
   "cell_type": "code",
   "execution_count": 67,
   "metadata": {},
   "outputs": [
    {
     "data": {
      "text/plain": [
       "array(['60세 이상', '50~59세', '30~39세', '40~49세', '19~29세', 'nan'],\n",
       "      dtype=object)"
      ]
     },
     "execution_count": 67,
     "metadata": {},
     "output_type": "execute_result"
    }
   ],
   "source": [
    "df['age_range']= df['age_range'].astype('str')\n",
    "df['age_range'].unique()"
   ]
  },
  {
   "cell_type": "code",
   "execution_count": 68,
   "metadata": {},
   "outputs": [],
   "source": [
    "df['age_range'] = df['age_range'].fillna(0)\n",
    "df = df.loc[df['age_range']!=0,:]"
   ]
  },
  {
   "cell_type": "code",
   "execution_count": 69,
   "metadata": {},
   "outputs": [
    {
     "data": {
      "text/html": [
       "<div>\n",
       "<style scoped>\n",
       "    .dataframe tbody tr th:only-of-type {\n",
       "        vertical-align: middle;\n",
       "    }\n",
       "\n",
       "    .dataframe tbody tr th {\n",
       "        vertical-align: top;\n",
       "    }\n",
       "\n",
       "    .dataframe thead th {\n",
       "        text-align: right;\n",
       "    }\n",
       "</style>\n",
       "<table border=\"1\" class=\"dataframe\">\n",
       "  <thead>\n",
       "    <tr style=\"text-align: right;\">\n",
       "      <th></th>\n",
       "      <th>gen</th>\n",
       "      <th>edu</th>\n",
       "      <th>health_state</th>\n",
       "      <th>disabled</th>\n",
       "      <th>work_state</th>\n",
       "      <th>income</th>\n",
       "      <th>y_total</th>\n",
       "      <th>debt</th>\n",
       "      <th>y_train</th>\n",
       "      <th>age_range</th>\n",
       "    </tr>\n",
       "  </thead>\n",
       "  <tbody>\n",
       "    <tr>\n",
       "      <th>0</th>\n",
       "      <td>female</td>\n",
       "      <td>중졸</td>\n",
       "      <td>2</td>\n",
       "      <td>abled</td>\n",
       "      <td>nowork</td>\n",
       "      <td>6.006353</td>\n",
       "      <td>20</td>\n",
       "      <td>9.244838</td>\n",
       "      <td>0</td>\n",
       "      <td>60세 이상</td>\n",
       "    </tr>\n",
       "    <tr>\n",
       "      <th>2</th>\n",
       "      <td>male</td>\n",
       "      <td>대졸이상</td>\n",
       "      <td>4</td>\n",
       "      <td>abled</td>\n",
       "      <td>work</td>\n",
       "      <td>7.742836</td>\n",
       "      <td>18</td>\n",
       "      <td>9.962747</td>\n",
       "      <td>0</td>\n",
       "      <td>60세 이상</td>\n",
       "    </tr>\n",
       "    <tr>\n",
       "      <th>8</th>\n",
       "      <td>female</td>\n",
       "      <td>고졸</td>\n",
       "      <td>2</td>\n",
       "      <td>abled</td>\n",
       "      <td>work</td>\n",
       "      <td>7.737093</td>\n",
       "      <td>21</td>\n",
       "      <td>6.928538</td>\n",
       "      <td>0</td>\n",
       "      <td>50~59세</td>\n",
       "    </tr>\n",
       "    <tr>\n",
       "      <th>9</th>\n",
       "      <td>female</td>\n",
       "      <td>중졸</td>\n",
       "      <td>2</td>\n",
       "      <td>abled</td>\n",
       "      <td>nowork</td>\n",
       "      <td>7.737093</td>\n",
       "      <td>17</td>\n",
       "      <td>6.928538</td>\n",
       "      <td>0</td>\n",
       "      <td>30~39세</td>\n",
       "    </tr>\n",
       "    <tr>\n",
       "      <th>13</th>\n",
       "      <td>male</td>\n",
       "      <td>대졸이상</td>\n",
       "      <td>4</td>\n",
       "      <td>abled</td>\n",
       "      <td>work</td>\n",
       "      <td>8.692658</td>\n",
       "      <td>20</td>\n",
       "      <td>9.466687</td>\n",
       "      <td>0</td>\n",
       "      <td>40~49세</td>\n",
       "    </tr>\n",
       "  </tbody>\n",
       "</table>\n",
       "</div>"
      ],
      "text/plain": [
       "       gen   edu  health_state disabled work_state    income  y_total  \\\n",
       "0   female    중졸             2    abled     nowork  6.006353       20   \n",
       "2     male  대졸이상             4    abled       work  7.742836       18   \n",
       "8   female    고졸             2    abled       work  7.737093       21   \n",
       "9   female    중졸             2    abled     nowork  7.737093       17   \n",
       "13    male  대졸이상             4    abled       work  8.692658       20   \n",
       "\n",
       "        debt  y_train age_range  \n",
       "0   9.244838        0    60세 이상  \n",
       "2   9.962747        0    60세 이상  \n",
       "8   6.928538        0    50~59세  \n",
       "9   6.928538        0    30~39세  \n",
       "13  9.466687        0    40~49세  "
      ]
     },
     "execution_count": 69,
     "metadata": {},
     "output_type": "execute_result"
    }
   ],
   "source": [
    "df.head()"
   ]
  },
  {
   "cell_type": "code",
   "execution_count": 70,
   "metadata": {},
   "outputs": [],
   "source": [
    "# df=df.loc[:,['gen','edu','health_state','disabled','work_state','y_train','age_range','log_income','log_debt']]\n",
    "# df.head()"
   ]
  },
  {
   "cell_type": "code",
   "execution_count": 71,
   "metadata": {},
   "outputs": [],
   "source": [
    "df.loc[df['gen']=='male','gen']=1\n",
    "df.loc[df['gen']=='female','gen']=2\n",
    "df['gen'] = df['gen'].astype('category')\n",
    "\n",
    "df.loc[df['edu']=='초졸이하','edu']=1\n",
    "df.loc[df['edu']=='중졸','edu']=2\n",
    "df.loc[df['edu']=='고졸','edu']=3\n",
    "df.loc[df['edu']=='대졸이상','edu']=4\n",
    "df['edu'] = df['edu'].astype('category')\n",
    "\n",
    "df.loc[df['disabled']=='disabled','disabled']=1\n",
    "df.loc[df['disabled']=='abled','disabled']=2\n",
    "df['disabled'] = df['disabled'].astype('category')\n",
    "\n",
    "\n",
    "df.loc[df['work_state']=='work','work_state']=1\n",
    "df.loc[df['work_state']=='nowork','work_state']=2\n",
    "df['work_state'] = df['work_state'].astype('category')\n",
    "\n",
    "df['age_range'] = df['age_range'].astype('str')\n",
    "df.loc[df['age_range']=='19~29세','age_range']=1\n",
    "df.loc[df['age_range']=='30~39세','age_range']=2\n",
    "df.loc[df['age_range']=='40~49세','age_range']=3\n",
    "df.loc[df['age_range']=='50~59세','age_range']=4\n",
    "df.loc[df['age_range']=='60세 이상','age_range']=5\n",
    "df['age_range'] = df['age_range'].astype('category')\n",
    "\n",
    "\n",
    "# df= pd.get_dummies(test,drop_first=True,dtype='int')\n",
    "# df.columns"
   ]
  },
  {
   "cell_type": "code",
   "execution_count": 72,
   "metadata": {},
   "outputs": [
    {
     "name": "stdout",
     "output_type": "stream",
     "text": [
      "<class 'pandas.core.frame.DataFrame'>\n",
      "Index: 5414 entries, 0 to 13473\n",
      "Data columns (total 10 columns):\n",
      " #   Column        Non-Null Count  Dtype   \n",
      "---  ------        --------------  -----   \n",
      " 0   gen           5414 non-null   category\n",
      " 1   edu           5414 non-null   category\n",
      " 2   health_state  5414 non-null   int64   \n",
      " 3   disabled      5414 non-null   category\n",
      " 4   work_state    5414 non-null   category\n",
      " 5   income        5414 non-null   float64 \n",
      " 6   y_total       5414 non-null   int64   \n",
      " 7   debt          5414 non-null   float64 \n",
      " 8   y_train       5414 non-null   int64   \n",
      " 9   age_range     5414 non-null   category\n",
      "dtypes: category(5), float64(2), int64(3)\n",
      "memory usage: 281.0 KB\n"
     ]
    }
   ],
   "source": [
    "df.info()"
   ]
  },
  {
   "cell_type": "code",
   "execution_count": 73,
   "metadata": {},
   "outputs": [
    {
     "data": {
      "text/plain": [
       "array([2, 4, 3, 5, 1], dtype=int64)"
      ]
     },
     "execution_count": 73,
     "metadata": {},
     "output_type": "execute_result"
    }
   ],
   "source": [
    "df['health_state'].unique()"
   ]
  },
  {
   "cell_type": "code",
   "execution_count": 74,
   "metadata": {},
   "outputs": [
    {
     "data": {
      "text/plain": [
       "CategoricalDtype(categories=[1, 2, 3, 4, 5], ordered=True)"
      ]
     },
     "execution_count": 74,
     "metadata": {},
     "output_type": "execute_result"
    }
   ],
   "source": [
    "### 건강만족도 ㄱㄱ \n",
    "\n",
    "ctype = pd.CategoricalDtype(categories=[1,2,3,4,5], ordered=True)\n",
    "\n",
    "df['health_state'] = df['health_state'].astype(ctype)\n",
    "\n",
    "df['health_state'].dtypes\n"
   ]
  },
  {
   "cell_type": "code",
   "execution_count": null,
   "metadata": {},
   "outputs": [],
   "source": [
    "\n",
    "\n"
   ]
  },
  {
   "cell_type": "markdown",
   "metadata": {},
   "source": [
    "## 가설 검정 - 연속형 변수\n",
    "### 정규성 검정"
   ]
  },
  {
   "cell_type": "code",
   "execution_count": 75,
   "metadata": {},
   "outputs": [
    {
     "data": {
      "text/plain": [
       "NormaltestResult(statistic=1747.4194887987817, pvalue=0.0)"
      ]
     },
     "execution_count": 75,
     "metadata": {},
     "output_type": "execute_result"
    }
   ],
   "source": [
    "stats.normaltest(df['income'])"
   ]
  },
  {
   "cell_type": "code",
   "execution_count": 76,
   "metadata": {},
   "outputs": [
    {
     "data": {
      "text/plain": [
       "NormaltestResult(statistic=902.8790811642938, pvalue=8.755856035202143e-197)"
      ]
     },
     "execution_count": 76,
     "metadata": {},
     "output_type": "execute_result"
    }
   ],
   "source": [
    "stats.normaltest(df['debt'])\n",
    "## 성립 x "
   ]
  },
  {
   "cell_type": "code",
   "execution_count": 77,
   "metadata": {},
   "outputs": [
    {
     "data": {
      "image/png": "[encoded data removed]",
      "text/plain": [
       "<Figure size 1000x500 with 1 Axes>"
      ]
     },
     "metadata": {},
     "output_type": "display_data"
    }
   ],
   "source": [
    "plt.hist(df['income'], color = 'green', alpha = 0.4, bins = 500)\n",
    "plt.show()\n"
   ]
  },
  {
   "cell_type": "code",
   "execution_count": 78,
   "metadata": {},
   "outputs": [
    {
     "data": {
      "image/png": "[encoded data removed]",
      "text/plain": [
       "<Figure size 1000x500 with 1 Axes>"
      ]
     },
     "execution_count": 78,
     "metadata": {},
     "output_type": "execute_result"
    },
    {
     "data": {
      "image/png": "[encoded data removed]",
      "text/plain": [
       "<Figure size 1000x500 with 1 Axes>"
      ]
     },
     "metadata": {},
     "output_type": "display_data"
    }
   ],
   "source": [
    "sm.qqplot(df['income'], line='45', fit = True)"
   ]
  },
  {
   "cell_type": "code",
   "execution_count": 79,
   "metadata": {},
   "outputs": [
    {
     "data": {
      "image/png": "[encoded data removed]",
      "text/plain": [
       "<Figure size 1000x500 with 1 Axes>"
      ]
     },
     "metadata": {},
     "output_type": "display_data"
    }
   ],
   "source": [
    "plt.hist(df['debt'], color = 'green', alpha = 0.4, bins = 400)\n",
    "plt.show()"
   ]
  },
  {
   "cell_type": "code",
   "execution_count": 80,
   "metadata": {},
   "outputs": [
    {
     "data": {
      "image/png": "[encoded data removed]",
      "text/plain": [
       "<Figure size 1000x500 with 1 Axes>"
      ]
     },
     "execution_count": 80,
     "metadata": {},
     "output_type": "execute_result"
    },
    {
     "data": {
      "image/png": "[encoded data removed]",
      "text/plain": [
       "<Figure size 1000x500 with 1 Axes>"
      ]
     },
     "metadata": {},
     "output_type": "display_data"
    }
   ],
   "source": [
    "sm.qqplot(df['debt'], line='45', fit = True)"
   ]
  },
  {
   "cell_type": "markdown",
   "metadata": {},
   "source": [
    "#### 정규성 검정 결과는 p값이 0에 가까우나 표본의 수가 크다는 점과, 히스토그램 및 qq플롯 시각화 결과 어느정도의 정규성을 띄는걸로 확인했기떄문에 정규성을 가정하고 분석을 진행"
   ]
  },
  {
   "cell_type": "markdown",
   "metadata": {},
   "source": [
    "### 등분산성 \n",
    "#### 우울감을 느끼는 집단과 안느끼는 집단의 분산이 같은지 검정"
   ]
  },
  {
   "cell_type": "code",
   "execution_count": 81,
   "metadata": {},
   "outputs": [],
   "source": [
    "data=pd.read_excel(\"빚추가마지막.xlsx\")"
   ]
  },
  {
   "cell_type": "code",
   "execution_count": 82,
   "metadata": {},
   "outputs": [
    {
     "name": "stderr",
     "output_type": "stream",
     "text": [
      "C:\\Users\\user\\AppData\\Local\\Temp\\ipykernel_16124\\2571767070.py:2: SettingWithCopyWarning: \n",
      "A value is trying to be set on a copy of a slice from a DataFrame.\n",
      "Try using .loc[row_indexer,col_indexer] = value instead\n",
      "\n",
      "See the caveats in the documentation: https://pandas.pydata.org/pandas-docs/stable/user_guide/indexing.html#returning-a-view-versus-a-copy\n",
      "  train['income'] = np.log1p(train['income'])\n"
     ]
    }
   ],
   "source": [
    "train = data.loc[(data['income']>27),:]\n",
    "train['income'] = np.log1p(train['income'])"
   ]
  },
  {
   "cell_type": "code",
   "execution_count": 83,
   "metadata": {},
   "outputs": [
    {
     "data": {
      "text/html": [
       "<div>\n",
       "<style scoped>\n",
       "    .dataframe tbody tr th:only-of-type {\n",
       "        vertical-align: middle;\n",
       "    }\n",
       "\n",
       "    .dataframe tbody tr th {\n",
       "        vertical-align: top;\n",
       "    }\n",
       "\n",
       "    .dataframe thead th {\n",
       "        text-align: right;\n",
       "    }\n",
       "</style>\n",
       "<table border=\"1\" class=\"dataframe\">\n",
       "  <thead>\n",
       "    <tr style=\"text-align: right;\">\n",
       "      <th></th>\n",
       "      <th>Unnamed: 0</th>\n",
       "      <th>gen</th>\n",
       "      <th>age</th>\n",
       "      <th>religion</th>\n",
       "      <th>edu</th>\n",
       "      <th>sm_year</th>\n",
       "      <th>sm_state</th>\n",
       "      <th>sm_day</th>\n",
       "      <th>dr_mean_year</th>\n",
       "      <th>dr_6cup</th>\n",
       "      <th>...</th>\n",
       "      <th>preg_experience</th>\n",
       "      <th>health_state</th>\n",
       "      <th>disabled</th>\n",
       "      <th>work_state</th>\n",
       "      <th>work_code</th>\n",
       "      <th>region</th>\n",
       "      <th>income</th>\n",
       "      <th>y_total</th>\n",
       "      <th>debt</th>\n",
       "      <th>y_train</th>\n",
       "    </tr>\n",
       "  </thead>\n",
       "  <tbody>\n",
       "    <tr>\n",
       "      <th>0</th>\n",
       "      <td>0</td>\n",
       "      <td>female</td>\n",
       "      <td>78</td>\n",
       "      <td>yes</td>\n",
       "      <td>중졸</td>\n",
       "      <td>NaN</td>\n",
       "      <td>no</td>\n",
       "      <td>NaN</td>\n",
       "      <td>전혀마시지않음</td>\n",
       "      <td>NaN</td>\n",
       "      <td>...</td>\n",
       "      <td>없다</td>\n",
       "      <td>2</td>\n",
       "      <td>abled</td>\n",
       "      <td>nowork</td>\n",
       "      <td>NaN</td>\n",
       "      <td>city</td>\n",
       "      <td>6.006353</td>\n",
       "      <td>20</td>\n",
       "      <td>10350.0</td>\n",
       "      <td>0</td>\n",
       "    </tr>\n",
       "    <tr>\n",
       "      <th>1</th>\n",
       "      <td>1</td>\n",
       "      <td>male</td>\n",
       "      <td>75</td>\n",
       "      <td>no</td>\n",
       "      <td>초졸이하</td>\n",
       "      <td>NaN</td>\n",
       "      <td>no</td>\n",
       "      <td>NaN</td>\n",
       "      <td>전혀마시지않음</td>\n",
       "      <td>NaN</td>\n",
       "      <td>...</td>\n",
       "      <td>남성</td>\n",
       "      <td>1</td>\n",
       "      <td>abled</td>\n",
       "      <td>work</td>\n",
       "      <td>942.0</td>\n",
       "      <td>city</td>\n",
       "      <td>7.933438</td>\n",
       "      <td>29</td>\n",
       "      <td>0.0</td>\n",
       "      <td>1</td>\n",
       "    </tr>\n",
       "    <tr>\n",
       "      <th>2</th>\n",
       "      <td>2</td>\n",
       "      <td>male</td>\n",
       "      <td>81</td>\n",
       "      <td>yes</td>\n",
       "      <td>대졸이상</td>\n",
       "      <td>NaN</td>\n",
       "      <td>no</td>\n",
       "      <td>NaN</td>\n",
       "      <td>전혀마시지않음</td>\n",
       "      <td>NaN</td>\n",
       "      <td>...</td>\n",
       "      <td>남성</td>\n",
       "      <td>4</td>\n",
       "      <td>abled</td>\n",
       "      <td>work</td>\n",
       "      <td>762.0</td>\n",
       "      <td>city</td>\n",
       "      <td>7.742836</td>\n",
       "      <td>18</td>\n",
       "      <td>21220.0</td>\n",
       "      <td>0</td>\n",
       "    </tr>\n",
       "    <tr>\n",
       "      <th>3</th>\n",
       "      <td>3</td>\n",
       "      <td>male</td>\n",
       "      <td>61</td>\n",
       "      <td>yes</td>\n",
       "      <td>대졸이상</td>\n",
       "      <td>NaN</td>\n",
       "      <td>no</td>\n",
       "      <td>NaN</td>\n",
       "      <td>전혀마시지않음</td>\n",
       "      <td>NaN</td>\n",
       "      <td>...</td>\n",
       "      <td>남성</td>\n",
       "      <td>4</td>\n",
       "      <td>abled</td>\n",
       "      <td>work</td>\n",
       "      <td>855.0</td>\n",
       "      <td>city</td>\n",
       "      <td>8.562549</td>\n",
       "      <td>20</td>\n",
       "      <td>0.0</td>\n",
       "      <td>0</td>\n",
       "    </tr>\n",
       "    <tr>\n",
       "      <th>4</th>\n",
       "      <td>4</td>\n",
       "      <td>female</td>\n",
       "      <td>60</td>\n",
       "      <td>yes</td>\n",
       "      <td>고졸</td>\n",
       "      <td>NaN</td>\n",
       "      <td>no</td>\n",
       "      <td>NaN</td>\n",
       "      <td>전혀마시지않음</td>\n",
       "      <td>NaN</td>\n",
       "      <td>...</td>\n",
       "      <td>없다</td>\n",
       "      <td>4</td>\n",
       "      <td>abled</td>\n",
       "      <td>work</td>\n",
       "      <td>399.0</td>\n",
       "      <td>city</td>\n",
       "      <td>8.562549</td>\n",
       "      <td>21</td>\n",
       "      <td>0.0</td>\n",
       "      <td>0</td>\n",
       "    </tr>\n",
       "  </tbody>\n",
       "</table>\n",
       "<p>5 rows × 22 columns</p>\n",
       "</div>"
      ],
      "text/plain": [
       "   Unnamed: 0     gen  age religion   edu  sm_year sm_state  sm_day  \\\n",
       "0           0  female   78      yes    중졸      NaN       no     NaN   \n",
       "1           1    male   75       no  초졸이하      NaN       no     NaN   \n",
       "2           2    male   81      yes  대졸이상      NaN       no     NaN   \n",
       "3           3    male   61      yes  대졸이상      NaN       no     NaN   \n",
       "4           4  female   60      yes    고졸      NaN       no     NaN   \n",
       "\n",
       "  dr_mean_year dr_6cup  ... preg_experience health_state disabled  work_state  \\\n",
       "0      전혀마시지않음     NaN  ...              없다            2    abled      nowork   \n",
       "1      전혀마시지않음     NaN  ...              남성            1    abled        work   \n",
       "2      전혀마시지않음     NaN  ...              남성            4    abled        work   \n",
       "3      전혀마시지않음     NaN  ...              남성            4    abled        work   \n",
       "4      전혀마시지않음     NaN  ...              없다            4    abled        work   \n",
       "\n",
       "  work_code region    income y_total     debt  y_train  \n",
       "0       NaN   city  6.006353      20  10350.0        0  \n",
       "1     942.0   city  7.933438      29      0.0        1  \n",
       "2     762.0   city  7.742836      18  21220.0        0  \n",
       "3     855.0   city  8.562549      20      0.0        0  \n",
       "4     399.0   city  8.562549      21      0.0        0  \n",
       "\n",
       "[5 rows x 22 columns]"
      ]
     },
     "execution_count": 83,
     "metadata": {},
     "output_type": "execute_result"
    }
   ],
   "source": [
    "train.head()"
   ]
  },
  {
   "cell_type": "code",
   "execution_count": 84,
   "metadata": {},
   "outputs": [],
   "source": [
    "y_income_0 = train.loc[train['y_train']==0,'income']\n",
    "y_income_1 = train.loc[train['y_train']==1,'income']\n"
   ]
  },
  {
   "cell_type": "code",
   "execution_count": 85,
   "metadata": {},
   "outputs": [
    {
     "data": {
      "text/plain": [
       "LeveneResult(statistic=0.023232134473999987, pvalue=0.8788572576668049)"
      ]
     },
     "execution_count": 85,
     "metadata": {},
     "output_type": "execute_result"
    }
   ],
   "source": [
    "stats.levene(y_income_1,y_income_0)"
   ]
  },
  {
   "cell_type": "code",
   "execution_count": 86,
   "metadata": {},
   "outputs": [],
   "source": [
    "y_train_debt_0 = df.loc[df['y_train']==0,'debt']\n",
    "y_train_debt_1 = df.loc[df['y_train']==1,'debt']"
   ]
  },
  {
   "cell_type": "code",
   "execution_count": 87,
   "metadata": {},
   "outputs": [
    {
     "data": {
      "text/plain": [
       "LeveneResult(statistic=3.6671032100108305, pvalue=0.05554921572874413)"
      ]
     },
     "execution_count": 87,
     "metadata": {},
     "output_type": "execute_result"
    }
   ],
   "source": [
    "stats.levene(y_train_debt_1,y_train_debt_0)"
   ]
  },
  {
   "cell_type": "markdown",
   "metadata": {},
   "source": [
    "## 명목형 변수의 검정 - 카이제곱 검정 "
   ]
  },
  {
   "cell_type": "code",
   "execution_count": 88,
   "metadata": {},
   "outputs": [
    {
     "data": {
      "text/plain": [
       "Index(['gen', 'edu', 'health_state', 'disabled', 'work_state', 'income',\n",
       "       'y_total', 'debt', 'y_train', 'age_range'],\n",
       "      dtype='object')"
      ]
     },
     "execution_count": 88,
     "metadata": {},
     "output_type": "execute_result"
    }
   ],
   "source": [
    "df.columns"
   ]
  },
  {
   "cell_type": "code",
   "execution_count": 89,
   "metadata": {},
   "outputs": [
    {
     "data": {
      "text/plain": [
       "Chi2ContingencyResult(statistic=52.82640062154608, pvalue=3.643704777736139e-13, dof=1, expected_freq=array([[2286.15552272,  240.84447728],\n",
       "       [2611.84447728,  275.15552272]]))"
      ]
     },
     "execution_count": 89,
     "metadata": {},
     "output_type": "execute_result"
    }
   ],
   "source": [
    "from scipy.stats import chi2_contingency\n",
    "result_gen = pd.crosstab(df['gen'],df['y_train'])\n",
    "chiresult_gen = chi2_contingency(observed=result_gen)\n",
    "chiresult_gen"
   ]
  },
  {
   "cell_type": "code",
   "execution_count": 90,
   "metadata": {},
   "outputs": [
    {
     "data": {
      "text/plain": [
       "Chi2ContingencyResult(statistic=159.10232692000645, pvalue=2.8631980008510046e-34, dof=3, expected_freq=array([[ 549.14776505,   57.85223495],\n",
       "       [ 389.92205393,   41.07794607],\n",
       "       [1528.92870336,  161.07129664],\n",
       "       [2430.00147765,  255.99852235]]))"
      ]
     },
     "execution_count": 90,
     "metadata": {},
     "output_type": "execute_result"
    }
   ],
   "source": [
    "result_edu = pd.crosstab(df['edu'],df['y_train'])\n",
    "chiresult_edu = chi2_contingency(observed=result_edu)\n",
    "chiresult_edu"
   ]
  },
  {
   "cell_type": "code",
   "execution_count": 91,
   "metadata": {},
   "outputs": [
    {
     "data": {
      "text/plain": [
       "Chi2ContingencyResult(statistic=447.5737358381009, pvalue=1.4533461899751813e-95, dof=4, expected_freq=array([[  55.18618397,    5.81381603],\n",
       "       [ 583.52604359,   61.47395641],\n",
       "       [ 900.16808275,   94.83191725],\n",
       "       [2849.77835242,  300.22164758],\n",
       "       [ 509.34133727,   53.65866273]]))"
      ]
     },
     "execution_count": 91,
     "metadata": {},
     "output_type": "execute_result"
    }
   ],
   "source": [
    "result_health_state = pd.crosstab(df['health_state'],df['y_train'])\n",
    "chiresult_health_state = chi2_contingency(observed=result_health_state)\n",
    "chiresult_health_state"
   ]
  },
  {
   "cell_type": "code",
   "execution_count": 92,
   "metadata": {},
   "outputs": [
    {
     "data": {
      "text/plain": [
       "Chi2ContingencyResult(statistic=59.51447238967723, pvalue=1.2139806889961367e-14, dof=1, expected_freq=array([[ 287.69190986,   30.30809014],\n",
       "       [4610.30809014,  485.69190986]]))"
      ]
     },
     "execution_count": 92,
     "metadata": {},
     "output_type": "execute_result"
    }
   ],
   "source": [
    "result_disabled = pd.crosstab(df['disabled'],df['y_train'])\n",
    "chiresult_disabled = chi2_contingency(observed=result_disabled)\n",
    "chiresult_disabled"
   ]
  },
  {
   "cell_type": "code",
   "execution_count": 93,
   "metadata": {},
   "outputs": [
    {
     "data": {
      "text/plain": [
       "Chi2ContingencyResult(statistic=118.9403703663307, pvalue=1.0792561563352741e-27, dof=1, expected_freq=array([[3438.73254525,  362.26745475],\n",
       "       [1459.26745475,  153.73254525]]))"
      ]
     },
     "execution_count": 93,
     "metadata": {},
     "output_type": "execute_result"
    }
   ],
   "source": [
    "result_work_state = pd.crosstab(df['work_state'],df['y_train'])\n",
    "chiresult_work_state = chi2_contingency(observed=result_work_state)\n",
    "chiresult_work_state"
   ]
  },
  {
   "cell_type": "code",
   "execution_count": 94,
   "metadata": {},
   "outputs": [
    {
     "data": {
      "text/html": [
       "<div>\n",
       "<style scoped>\n",
       "    .dataframe tbody tr th:only-of-type {\n",
       "        vertical-align: middle;\n",
       "    }\n",
       "\n",
       "    .dataframe tbody tr th {\n",
       "        vertical-align: top;\n",
       "    }\n",
       "\n",
       "    .dataframe thead th {\n",
       "        text-align: right;\n",
       "    }\n",
       "</style>\n",
       "<table border=\"1\" class=\"dataframe\">\n",
       "  <thead>\n",
       "    <tr style=\"text-align: right;\">\n",
       "      <th></th>\n",
       "      <th>gen</th>\n",
       "      <th>edu</th>\n",
       "      <th>health_state</th>\n",
       "      <th>disabled</th>\n",
       "      <th>work_state</th>\n",
       "      <th>income</th>\n",
       "      <th>y_total</th>\n",
       "      <th>debt</th>\n",
       "      <th>y_train</th>\n",
       "      <th>age_range</th>\n",
       "    </tr>\n",
       "  </thead>\n",
       "  <tbody>\n",
       "    <tr>\n",
       "      <th>0</th>\n",
       "      <td>2</td>\n",
       "      <td>2</td>\n",
       "      <td>2</td>\n",
       "      <td>2</td>\n",
       "      <td>2</td>\n",
       "      <td>6.006353</td>\n",
       "      <td>20</td>\n",
       "      <td>9.244838</td>\n",
       "      <td>0</td>\n",
       "      <td>5</td>\n",
       "    </tr>\n",
       "    <tr>\n",
       "      <th>2</th>\n",
       "      <td>1</td>\n",
       "      <td>4</td>\n",
       "      <td>4</td>\n",
       "      <td>2</td>\n",
       "      <td>1</td>\n",
       "      <td>7.742836</td>\n",
       "      <td>18</td>\n",
       "      <td>9.962747</td>\n",
       "      <td>0</td>\n",
       "      <td>5</td>\n",
       "    </tr>\n",
       "    <tr>\n",
       "      <th>8</th>\n",
       "      <td>2</td>\n",
       "      <td>3</td>\n",
       "      <td>2</td>\n",
       "      <td>2</td>\n",
       "      <td>1</td>\n",
       "      <td>7.737093</td>\n",
       "      <td>21</td>\n",
       "      <td>6.928538</td>\n",
       "      <td>0</td>\n",
       "      <td>4</td>\n",
       "    </tr>\n",
       "    <tr>\n",
       "      <th>9</th>\n",
       "      <td>2</td>\n",
       "      <td>2</td>\n",
       "      <td>2</td>\n",
       "      <td>2</td>\n",
       "      <td>2</td>\n",
       "      <td>7.737093</td>\n",
       "      <td>17</td>\n",
       "      <td>6.928538</td>\n",
       "      <td>0</td>\n",
       "      <td>2</td>\n",
       "    </tr>\n",
       "    <tr>\n",
       "      <th>13</th>\n",
       "      <td>1</td>\n",
       "      <td>4</td>\n",
       "      <td>4</td>\n",
       "      <td>2</td>\n",
       "      <td>1</td>\n",
       "      <td>8.692658</td>\n",
       "      <td>20</td>\n",
       "      <td>9.466687</td>\n",
       "      <td>0</td>\n",
       "      <td>3</td>\n",
       "    </tr>\n",
       "  </tbody>\n",
       "</table>\n",
       "</div>"
      ],
      "text/plain": [
       "   gen edu health_state disabled work_state    income  y_total      debt  \\\n",
       "0    2   2            2        2          2  6.006353       20  9.244838   \n",
       "2    1   4            4        2          1  7.742836       18  9.962747   \n",
       "8    2   3            2        2          1  7.737093       21  6.928538   \n",
       "9    2   2            2        2          2  7.737093       17  6.928538   \n",
       "13   1   4            4        2          1  8.692658       20  9.466687   \n",
       "\n",
       "    y_train age_range  \n",
       "0         0         5  \n",
       "2         0         5  \n",
       "8         0         4  \n",
       "9         0         2  \n",
       "13        0         3  "
      ]
     },
     "execution_count": 94,
     "metadata": {},
     "output_type": "execute_result"
    }
   ],
   "source": [
    "df.head()"
   ]
  },
  {
   "cell_type": "code",
   "execution_count": 95,
   "metadata": {},
   "outputs": [],
   "source": [
    "df = df.drop('y_total',axis=1)\n"
   ]
  },
  {
   "cell_type": "code",
   "execution_count": 96,
   "metadata": {},
   "outputs": [
    {
     "data": {
      "text/html": [
       "<div>\n",
       "<style scoped>\n",
       "    .dataframe tbody tr th:only-of-type {\n",
       "        vertical-align: middle;\n",
       "    }\n",
       "\n",
       "    .dataframe tbody tr th {\n",
       "        vertical-align: top;\n",
       "    }\n",
       "\n",
       "    .dataframe thead th {\n",
       "        text-align: right;\n",
       "    }\n",
       "</style>\n",
       "<table border=\"1\" class=\"dataframe\">\n",
       "  <thead>\n",
       "    <tr style=\"text-align: right;\">\n",
       "      <th></th>\n",
       "      <th>income</th>\n",
       "      <th>debt</th>\n",
       "      <th>gen_2</th>\n",
       "      <th>edu_2</th>\n",
       "      <th>edu_3</th>\n",
       "      <th>edu_4</th>\n",
       "      <th>health_state_2</th>\n",
       "      <th>health_state_3</th>\n",
       "      <th>health_state_4</th>\n",
       "      <th>health_state_5</th>\n",
       "      <th>disabled_2</th>\n",
       "      <th>work_state_2</th>\n",
       "      <th>age_range_2</th>\n",
       "      <th>age_range_3</th>\n",
       "      <th>age_range_4</th>\n",
       "      <th>age_range_5</th>\n",
       "      <th>age_range_nan</th>\n",
       "    </tr>\n",
       "  </thead>\n",
       "  <tbody>\n",
       "    <tr>\n",
       "      <th>0</th>\n",
       "      <td>6.006353</td>\n",
       "      <td>9.244838</td>\n",
       "      <td>1</td>\n",
       "      <td>1</td>\n",
       "      <td>0</td>\n",
       "      <td>0</td>\n",
       "      <td>1</td>\n",
       "      <td>0</td>\n",
       "      <td>0</td>\n",
       "      <td>0</td>\n",
       "      <td>1</td>\n",
       "      <td>1</td>\n",
       "      <td>0</td>\n",
       "      <td>0</td>\n",
       "      <td>0</td>\n",
       "      <td>1</td>\n",
       "      <td>0</td>\n",
       "    </tr>\n",
       "    <tr>\n",
       "      <th>2</th>\n",
       "      <td>7.742836</td>\n",
       "      <td>9.962747</td>\n",
       "      <td>0</td>\n",
       "      <td>0</td>\n",
       "      <td>0</td>\n",
       "      <td>1</td>\n",
       "      <td>0</td>\n",
       "      <td>0</td>\n",
       "      <td>1</td>\n",
       "      <td>0</td>\n",
       "      <td>1</td>\n",
       "      <td>0</td>\n",
       "      <td>0</td>\n",
       "      <td>0</td>\n",
       "      <td>0</td>\n",
       "      <td>1</td>\n",
       "      <td>0</td>\n",
       "    </tr>\n",
       "    <tr>\n",
       "      <th>8</th>\n",
       "      <td>7.737093</td>\n",
       "      <td>6.928538</td>\n",
       "      <td>1</td>\n",
       "      <td>0</td>\n",
       "      <td>1</td>\n",
       "      <td>0</td>\n",
       "      <td>1</td>\n",
       "      <td>0</td>\n",
       "      <td>0</td>\n",
       "      <td>0</td>\n",
       "      <td>1</td>\n",
       "      <td>0</td>\n",
       "      <td>0</td>\n",
       "      <td>0</td>\n",
       "      <td>1</td>\n",
       "      <td>0</td>\n",
       "      <td>0</td>\n",
       "    </tr>\n",
       "    <tr>\n",
       "      <th>9</th>\n",
       "      <td>7.737093</td>\n",
       "      <td>6.928538</td>\n",
       "      <td>1</td>\n",
       "      <td>1</td>\n",
       "      <td>0</td>\n",
       "      <td>0</td>\n",
       "      <td>1</td>\n",
       "      <td>0</td>\n",
       "      <td>0</td>\n",
       "      <td>0</td>\n",
       "      <td>1</td>\n",
       "      <td>1</td>\n",
       "      <td>1</td>\n",
       "      <td>0</td>\n",
       "      <td>0</td>\n",
       "      <td>0</td>\n",
       "      <td>0</td>\n",
       "    </tr>\n",
       "    <tr>\n",
       "      <th>13</th>\n",
       "      <td>8.692658</td>\n",
       "      <td>9.466687</td>\n",
       "      <td>0</td>\n",
       "      <td>0</td>\n",
       "      <td>0</td>\n",
       "      <td>1</td>\n",
       "      <td>0</td>\n",
       "      <td>0</td>\n",
       "      <td>1</td>\n",
       "      <td>0</td>\n",
       "      <td>1</td>\n",
       "      <td>0</td>\n",
       "      <td>0</td>\n",
       "      <td>1</td>\n",
       "      <td>0</td>\n",
       "      <td>0</td>\n",
       "      <td>0</td>\n",
       "    </tr>\n",
       "  </tbody>\n",
       "</table>\n",
       "</div>"
      ],
      "text/plain": [
       "      income      debt  gen_2  edu_2  edu_3  edu_4  health_state_2  \\\n",
       "0   6.006353  9.244838      1      1      0      0               1   \n",
       "2   7.742836  9.962747      0      0      0      1               0   \n",
       "8   7.737093  6.928538      1      0      1      0               1   \n",
       "9   7.737093  6.928538      1      1      0      0               1   \n",
       "13  8.692658  9.466687      0      0      0      1               0   \n",
       "\n",
       "    health_state_3  health_state_4  health_state_5  disabled_2  work_state_2  \\\n",
       "0                0               0               0           1             1   \n",
       "2                0               1               0           1             0   \n",
       "8                0               0               0           1             0   \n",
       "9                0               0               0           1             1   \n",
       "13               0               1               0           1             0   \n",
       "\n",
       "    age_range_2  age_range_3  age_range_4  age_range_5  age_range_nan  \n",
       "0             0            0            0            1              0  \n",
       "2             0            0            0            1              0  \n",
       "8             0            0            1            0              0  \n",
       "9             1            0            0            0              0  \n",
       "13            0            1            0            0              0  "
      ]
     },
     "execution_count": 96,
     "metadata": {},
     "output_type": "execute_result"
    }
   ],
   "source": [
    "y_data = df['y_train']\n",
    "new_df = df.drop('y_train',axis=1)\n",
    "new_df = pd.get_dummies(new_df,drop_first=True,dtype='int')\n",
    "new_df.head()"
   ]
  },
  {
   "cell_type": "code",
   "execution_count": 97,
   "metadata": {},
   "outputs": [],
   "source": [
    "y_data= pd.DataFrame(y_data,columns=['y_train'])"
   ]
  },
  {
   "cell_type": "code",
   "execution_count": 98,
   "metadata": {},
   "outputs": [],
   "source": [
    "new_df = new_df.drop('age_range_nan',axis=1)\n",
    "new_df['y_train'] = y_data['y_train']"
   ]
  },
  {
   "cell_type": "code",
   "execution_count": 99,
   "metadata": {},
   "outputs": [],
   "source": [
    "def myOls(data, y, x):\n",
    "    \"\"\"\n",
    "    회귀분석을 수행한다.\n",
    "\n",
    "    Parameters\n",
    "    -------\n",
    "    - data : 데이터 프레임\n",
    "    - y: 종속변수 이름\n",
    "    - x: 독립변수의 이름들(리스트)\n",
    "    \"\"\"\n",
    "\n",
    "    # 독립변수의 이름이 리스트가 아니라면 리스트로 변환\n",
    "    if type(x) != list:\n",
    "        x = [x]\n",
    "\n",
    "    # 종속변수~독립변수1+독립변수2+독립변수3+... 형태의 식을 생성\n",
    "    expr = \"%s~%s\" % (y, \"+\".join(x))\n",
    "\n",
    "    # 회귀모델 생성\n",
    "    model = ols(expr, data=data)\n",
    "    # 분석 수행\n",
    "    fit = model.fit()\n",
    "\n",
    "    # 파이썬 분석결과를 변수에 저장한다.\n",
    "    summary = fit.summary()\n",
    "\n",
    "    # 첫 번째, 세 번째 표의 내용을 딕셔너리로 분해\n",
    "    my = {}\n",
    "\n",
    "    for k in range(0, 3, 2):\n",
    "        items = summary.tables[k].data\n",
    "        # print(items)\n",
    "\n",
    "        for item in items:\n",
    "            # print(item)\n",
    "            n = len(item)\n",
    "\n",
    "            for i in range(0, n, 2):\n",
    "                key = item[i].strip()[:-1]\n",
    "                value = item[i+1].strip()\n",
    "\n",
    "                if key and value:\n",
    "                    my[key] = value\n",
    "\n",
    "    # 두 번째 표의 내용을 딕셔너리로 분해하여 my에 추가\n",
    "    my['variables'] = []\n",
    "    name_list = list(data.columns)\n",
    "    #print(name_list)\n",
    "\n",
    "    for i, v in enumerate(summary.tables[1].data):\n",
    "        if i == 0:\n",
    "            continue\n",
    "\n",
    "        # 변수의 이름\n",
    "        name = v[0].strip()\n",
    "\n",
    "        vif = 0\n",
    "\n",
    "        # Intercept는 제외\n",
    "        if name in name_list:\n",
    "            # 변수의 이름 목록에서 현재 변수가 몇 번째 항목인지 찾기 \n",
    "            j = name_list.index(name)\n",
    "            vif = variance_inflation_factor(data, j)\n",
    "\n",
    "        my['variables'].append({\n",
    "            \"name\": name,\n",
    "            \"coef\": v[1].strip(),\n",
    "            \"std err\": v[2].strip(),\n",
    "            \"t\": v[3].strip(),\n",
    "            \"P-value\": v[4].strip(),\n",
    "            \"Beta\": 0,\n",
    "            \"VIF\": vif,\n",
    "        })\n",
    "\n",
    "    # 결과표를 데이터프레임으로 구성\n",
    "    mylist = []\n",
    "    yname_list = []\n",
    "    xname_list = []\n",
    "\n",
    "    for i in my['variables']:\n",
    "        if i['name'] == 'Intercept':\n",
    "            continue\n",
    "\n",
    "        yname_list.append(y)\n",
    "        xname_list.append(i['name'])\n",
    "\n",
    "        item = {\n",
    "            \"B\": i['coef'],\n",
    "            \"표준오차\": i['std err'],\n",
    "            \"β\": i['Beta'],\n",
    "            \"t\": \"%s*\" % i['t'],\n",
    "            \"유의확률\": i['P-value'],\n",
    "            \"VIF\": i[\"VIF\"]\n",
    "        }\n",
    "\n",
    "        mylist.append(item)\n",
    "\n",
    "    table = DataFrame(mylist,\n",
    "                   index=MultiIndex.from_arrays([yname_list, xname_list], names=['종속변수', '독립변수']))\n",
    "    \n",
    "    # 분석결과\n",
    "    result = \"𝑅(%s), 𝑅^2(%s), 𝐹(%s), 유의확률(%s), Durbin-Watson(%s)\" % (my['R-squared'], my['Adj. R-squared'], my['F-statistic'], my['Prob (F-statistic)'], my['Durbin-Watson'])\n",
    "\n",
    "    # 모형 적합도 보고\n",
    "    goodness = \"%s에 대하여 %s로 예측하는 회귀분석을 실시한 결과, 이 회귀모형은 통계적으로 %s(F(%s,%s) = %s, p < 0.05).\" % (y, \",\".join(x), \"유의하다\" if float(my['Prob (F-statistic)']) < 0.05 else \"유의하지 않다\", my['Df Model'], my['Df Residuals'], my['F-statistic'])\n",
    "\n",
    "    # 독립변수 보고\n",
    "    varstr = []\n",
    "\n",
    "    for i, v in enumerate(my['variables']):\n",
    "        if i == 0:\n",
    "            continue\n",
    "        \n",
    "        s = \"%s의 회귀계수는 %s(p%s0.05)로, %s에 대하여 %s.\"\n",
    "        k = s % (v['name'], v['coef'], \"<\" if float(v['P-value']) < 0.05 else '>', y, '유의미한 예측변인인 것으로 나타났다' if float(v['P-value']) < 0.05 else '유의하지 않은 예측변인인 것으로 나타났다')\n",
    "\n",
    "        varstr.append(k)\n",
    "\n",
    "    ols_result = OlsResult()\n",
    "    ols_result.model = model\n",
    "    ols_result.fit = fit\n",
    "    ols_result.summary = summary\n",
    "    ols_result.table = table\n",
    "    ols_result.result = result\n",
    "    ols_result.goodness = goodness\n",
    "    ols_result.varstr = varstr\n",
    "\n",
    "    return ols_result"
   ]
  },
  {
   "cell_type": "code",
   "execution_count": 100,
   "metadata": {},
   "outputs": [
    {
     "data": {
      "text/plain": [
       "Index(['income', 'debt', 'gen_2', 'edu_2', 'edu_3', 'edu_4', 'health_state_2',\n",
       "       'health_state_3', 'health_state_4', 'health_state_5', 'disabled_2',\n",
       "       'work_state_2', 'age_range_2', 'age_range_3', 'age_range_4',\n",
       "       'age_range_5', 'y_train'],\n",
       "      dtype='object')"
      ]
     },
     "execution_count": 100,
     "metadata": {},
     "output_type": "execute_result"
    }
   ],
   "source": [
    "new_df.columns"
   ]
  },
  {
   "cell_type": "code",
   "execution_count": 101,
   "metadata": {},
   "outputs": [],
   "source": [
    "class OlsResult:\n",
    "    def __init__(self):\n",
    "        self._model = None\n",
    "        self._fit = None\n",
    "        self._summary = None\n",
    "        self._table = None\n",
    "        self._result = None\n",
    "        self._goodness = None\n",
    "        self._varstr = None"
   ]
  },
  {
   "cell_type": "code",
   "execution_count": 102,
   "metadata": {},
   "outputs": [
    {
     "name": "stdout",
     "output_type": "stream",
     "text": [
      "                            OLS Regression Results                            \n",
      "==============================================================================\n",
      "Dep. Variable:                y_train   R-squared:                       0.108\n",
      "Model:                            OLS   Adj. R-squared:                  0.105\n",
      "Method:                 Least Squares   F-statistic:                     40.83\n",
      "Date:                Thu, 17 Aug 2023   Prob (F-statistic):          4.54e-121\n",
      "Time:                        11:49:16   Log-Likelihood:                -738.52\n",
      "No. Observations:                5414   AIC:                             1511.\n",
      "Df Residuals:                    5397   BIC:                             1623.\n",
      "Df Model:                          16                                         \n",
      "Covariance Type:            nonrobust                                         \n",
      "==================================================================================\n",
      "                     coef    std err          t      P>|t|      [0.025      0.975]\n",
      "----------------------------------------------------------------------------------\n",
      "Intercept          0.8655      0.066     13.202      0.000       0.737       0.994\n",
      "income            -0.0458      0.006     -7.141      0.000      -0.058      -0.033\n",
      "debt              -0.0026      0.003     -0.968      0.333      -0.008       0.003\n",
      "gen_2              0.0395      0.008      5.016      0.000       0.024       0.055\n",
      "edu_2             -0.0120      0.018     -0.676      0.499      -0.047       0.023\n",
      "edu_3             -0.0071      0.015     -0.457      0.648      -0.037       0.023\n",
      "edu_4             -0.0209      0.017     -1.261      0.208      -0.053       0.012\n",
      "health_state_2    -0.1736      0.037     -4.653      0.000      -0.247      -0.100\n",
      "health_state_3    -0.3004      0.037     -8.100      0.000      -0.373      -0.228\n",
      "health_state_4    -0.3477      0.037     -9.411      0.000      -0.420      -0.275\n",
      "health_state_5    -0.3453      0.039     -8.924      0.000      -0.421      -0.269\n",
      "disabled_2        -0.0397      0.017     -2.352      0.019      -0.073      -0.007\n",
      "work_state_2       0.0349      0.009      3.865      0.000       0.017       0.053\n",
      "age_range_2       -0.0126      0.015     -0.835      0.403      -0.042       0.017\n",
      "age_range_3       -0.0239      0.014     -1.719      0.086      -0.051       0.003\n",
      "age_range_4       -0.0231      0.015     -1.584      0.113      -0.052       0.006\n",
      "age_range_5       -0.0284      0.016     -1.820      0.069      -0.059       0.002\n",
      "==============================================================================\n",
      "Omnibus:                     2549.959   Durbin-Watson:                   1.830\n",
      "Prob(Omnibus):                  0.000   Jarque-Bera (JB):            10908.345\n",
      "Skew:                           2.386   Prob(JB):                         0.00\n",
      "Kurtosis:                       8.058   Cond. No.                         273.\n",
      "==============================================================================\n",
      "\n",
      "Notes:\n",
      "[1] Standard Errors assume that the covariance matrix of the errors is correctly specified.\n"
     ]
    }
   ],
   "source": [
    "tmp = new_df.filter(['income', 'debt', 'gen_2', 'edu_2', 'edu_3', 'edu_4', 'health_state_2', 'health_state_3', 'health_state_4', 'health_state_5', 'disabled_2', 'work_state_2', 'age_range_2', 'age_range_3', 'age_range_4', 'age_range_5', 'y_train'])\n",
    "\n",
    "ols_result = myOls(tmp, y='y_train', x=['income', 'debt', 'gen_2', 'edu_2', 'edu_3', 'edu_4', 'health_state_2', 'health_state_3', 'health_state_4', 'health_state_5', 'disabled_2', 'work_state_2', 'age_range_2', 'age_range_3', 'age_range_4', 'age_range_5'])\n",
    "print(ols_result.summary)"
   ]
  },
  {
   "cell_type": "code",
   "execution_count": 103,
   "metadata": {},
   "outputs": [
    {
     "data": {
      "text/html": [
       "<div>\n",
       "<style scoped>\n",
       "    .dataframe tbody tr th:only-of-type {\n",
       "        vertical-align: middle;\n",
       "    }\n",
       "\n",
       "    .dataframe tbody tr th {\n",
       "        vertical-align: top;\n",
       "    }\n",
       "\n",
       "    .dataframe thead th {\n",
       "        text-align: right;\n",
       "    }\n",
       "</style>\n",
       "<table border=\"1\" class=\"dataframe\">\n",
       "  <thead>\n",
       "    <tr style=\"text-align: right;\">\n",
       "      <th></th>\n",
       "      <th>income</th>\n",
       "      <th>debt</th>\n",
       "      <th>gen_2</th>\n",
       "      <th>edu_2</th>\n",
       "      <th>edu_3</th>\n",
       "      <th>edu_4</th>\n",
       "      <th>health_state_2</th>\n",
       "      <th>health_state_3</th>\n",
       "      <th>health_state_4</th>\n",
       "      <th>health_state_5</th>\n",
       "      <th>disabled_2</th>\n",
       "      <th>work_state_2</th>\n",
       "      <th>age_range_2</th>\n",
       "      <th>age_range_3</th>\n",
       "      <th>age_range_4</th>\n",
       "      <th>age_range_5</th>\n",
       "      <th>y_train</th>\n",
       "    </tr>\n",
       "  </thead>\n",
       "  <tbody>\n",
       "    <tr>\n",
       "      <th>0</th>\n",
       "      <td>6.006353</td>\n",
       "      <td>9.244838</td>\n",
       "      <td>1</td>\n",
       "      <td>1</td>\n",
       "      <td>0</td>\n",
       "      <td>0</td>\n",
       "      <td>1</td>\n",
       "      <td>0</td>\n",
       "      <td>0</td>\n",
       "      <td>0</td>\n",
       "      <td>1</td>\n",
       "      <td>1</td>\n",
       "      <td>0</td>\n",
       "      <td>0</td>\n",
       "      <td>0</td>\n",
       "      <td>1</td>\n",
       "      <td>0</td>\n",
       "    </tr>\n",
       "    <tr>\n",
       "      <th>2</th>\n",
       "      <td>7.742836</td>\n",
       "      <td>9.962747</td>\n",
       "      <td>0</td>\n",
       "      <td>0</td>\n",
       "      <td>0</td>\n",
       "      <td>1</td>\n",
       "      <td>0</td>\n",
       "      <td>0</td>\n",
       "      <td>1</td>\n",
       "      <td>0</td>\n",
       "      <td>1</td>\n",
       "      <td>0</td>\n",
       "      <td>0</td>\n",
       "      <td>0</td>\n",
       "      <td>0</td>\n",
       "      <td>1</td>\n",
       "      <td>0</td>\n",
       "    </tr>\n",
       "    <tr>\n",
       "      <th>8</th>\n",
       "      <td>7.737093</td>\n",
       "      <td>6.928538</td>\n",
       "      <td>1</td>\n",
       "      <td>0</td>\n",
       "      <td>1</td>\n",
       "      <td>0</td>\n",
       "      <td>1</td>\n",
       "      <td>0</td>\n",
       "      <td>0</td>\n",
       "      <td>0</td>\n",
       "      <td>1</td>\n",
       "      <td>0</td>\n",
       "      <td>0</td>\n",
       "      <td>0</td>\n",
       "      <td>1</td>\n",
       "      <td>0</td>\n",
       "      <td>0</td>\n",
       "    </tr>\n",
       "    <tr>\n",
       "      <th>9</th>\n",
       "      <td>7.737093</td>\n",
       "      <td>6.928538</td>\n",
       "      <td>1</td>\n",
       "      <td>1</td>\n",
       "      <td>0</td>\n",
       "      <td>0</td>\n",
       "      <td>1</td>\n",
       "      <td>0</td>\n",
       "      <td>0</td>\n",
       "      <td>0</td>\n",
       "      <td>1</td>\n",
       "      <td>1</td>\n",
       "      <td>1</td>\n",
       "      <td>0</td>\n",
       "      <td>0</td>\n",
       "      <td>0</td>\n",
       "      <td>0</td>\n",
       "    </tr>\n",
       "    <tr>\n",
       "      <th>13</th>\n",
       "      <td>8.692658</td>\n",
       "      <td>9.466687</td>\n",
       "      <td>0</td>\n",
       "      <td>0</td>\n",
       "      <td>0</td>\n",
       "      <td>1</td>\n",
       "      <td>0</td>\n",
       "      <td>0</td>\n",
       "      <td>1</td>\n",
       "      <td>0</td>\n",
       "      <td>1</td>\n",
       "      <td>0</td>\n",
       "      <td>0</td>\n",
       "      <td>1</td>\n",
       "      <td>0</td>\n",
       "      <td>0</td>\n",
       "      <td>0</td>\n",
       "    </tr>\n",
       "  </tbody>\n",
       "</table>\n",
       "</div>"
      ],
      "text/plain": [
       "      income      debt  gen_2  edu_2  edu_3  edu_4  health_state_2  \\\n",
       "0   6.006353  9.244838      1      1      0      0               1   \n",
       "2   7.742836  9.962747      0      0      0      1               0   \n",
       "8   7.737093  6.928538      1      0      1      0               1   \n",
       "9   7.737093  6.928538      1      1      0      0               1   \n",
       "13  8.692658  9.466687      0      0      0      1               0   \n",
       "\n",
       "    health_state_3  health_state_4  health_state_5  disabled_2  work_state_2  \\\n",
       "0                0               0               0           1             1   \n",
       "2                0               1               0           1             0   \n",
       "8                0               0               0           1             0   \n",
       "9                0               0               0           1             1   \n",
       "13               0               1               0           1             0   \n",
       "\n",
       "    age_range_2  age_range_3  age_range_4  age_range_5  y_train  \n",
       "0             0            0            0            1        0  \n",
       "2             0            0            0            1        0  \n",
       "8             0            0            1            0        0  \n",
       "9             1            0            0            0        0  \n",
       "13            0            1            0            0        0  "
      ]
     },
     "execution_count": 103,
     "metadata": {},
     "output_type": "execute_result"
    }
   ],
   "source": [
    "new_df.head()"
   ]
  },
  {
   "cell_type": "code",
   "execution_count": 104,
   "metadata": {},
   "outputs": [
    {
     "data": {
      "text/plain": [
       "Index(['income', 'debt', 'gen_2', 'edu_2', 'edu_3', 'edu_4', 'health_state_2',\n",
       "       'health_state_3', 'health_state_4', 'health_state_5', 'disabled_2',\n",
       "       'work_state_2', 'age_range_2', 'age_range_3', 'age_range_4',\n",
       "       'age_range_5'],\n",
       "      dtype='object')"
      ]
     },
     "execution_count": 104,
     "metadata": {},
     "output_type": "execute_result"
    }
   ],
   "source": [
    "x_col = new_df.columns\n",
    "x_col = x_col[:-1]\n",
    "x_col"
   ]
  },
  {
   "cell_type": "code",
   "execution_count": 105,
   "metadata": {},
   "outputs": [],
   "source": [
    "from scipy.stats import stats\n",
    "from statsmodels.formula.api import logit\n",
    "from sklearn.linear_model import  LogisticRegression\n",
    "from sklearn.model_selection import train_test_split"
   ]
  },
  {
   "cell_type": "code",
   "execution_count": 106,
   "metadata": {},
   "outputs": [
    {
     "name": "stderr",
     "output_type": "stream",
     "text": [
      "c:\\Users\\user\\AppData\\Local\\Programs\\Python\\Python311\\Lib\\site-packages\\sklearn\\linear_model\\_logistic.py:814: ConvergenceWarning: lbfgs failed to converge (status=1):\n",
      "STOP: TOTAL NO. of ITERATIONS REACHED LIMIT.\n",
      "\n",
      "Increase the number of iterations (max_iter) or scale the data as shown in:\n",
      "    https://scikit-learn.org/stable/modules/preprocessing.html\n",
      "Please also refer to the documentation for alternative solver options:\n",
      "    https://scikit-learn.org/stable/modules/linear_model.html#logistic-regression\n",
      "  n_iter_i = _check_optimize_result(\n"
     ]
    },
    {
     "data": {
      "image/png": "[encoded data removed]",
      "text/plain": [
       "<Figure size 1000x500 with 1 Axes>"
      ]
     },
     "metadata": {},
     "output_type": "display_data"
    }
   ],
   "source": [
    "x_tr, x_val, y_tr, y_val = train_test_split(new_df[x_col], new_df['y_train'], test_size=0.2, shuffle=True, random_state=20)\n",
    "\n",
    "# 로지스틱 회귀 모델\n",
    "from sklearn.linear_model import LogisticRegression\n",
    "lr_model = LogisticRegression()\n",
    "lr_model.fit(x_tr, y_tr)\n",
    "y_val_pred = lr_model.predict(x_val)\n",
    "\n",
    "# conFusion Matrix\n",
    "from sklearn.metrics import confusion_matrix\n",
    "sns.heatmap(confusion_matrix(y_val, y_val_pred), annot=True,  cbar=False, square=True)\n",
    "# cbar를 통해 colorbar의 유무를 정해 줄 수 있고\n",
    "# linewidths 각 cell마다 선을 넣어주고 굵기를 정할 수 있다.\n",
    "# annot 각 cell의 값을 표기할 수 있다. 이때 fmt를 이용해 각 cell 값의 데이터 형태를 지정해주는 과정이 필요할 수 있다.\n",
    "# vmin, vmax로 색으로 최대값, 최소값을 표현할 수 있다. ex) vmin = 200, vmax=500\n",
    "plt.show()"
   ]
  },
  {
   "cell_type": "code",
   "execution_count": 107,
   "metadata": {},
   "outputs": [
    {
     "name": "stdout",
     "output_type": "stream",
     "text": [
      "Accuracy:0.9003\n",
      "Precision:0.5000\n",
      "recall:0.0185\n",
      "F1:0.0357\n",
      "roc_auc:0.5082\n"
     ]
    }
   ],
   "source": [
    "# 평가지표\n",
    "from sklearn.metrics import accuracy_score, precision_score, recall_score\n",
    "from sklearn.metrics import f1_score, roc_auc_score\n",
    "print(\"Accuracy:%.4f\" % accuracy_score(y_val, y_val_pred))\n",
    "print(\"Precision:%.4f\" % precision_score(y_val, y_val_pred))\n",
    "print(\"recall:%.4f\" % recall_score(y_val, y_val_pred))\n",
    "print(\"F1:%.4f\" % f1_score(y_val, y_val_pred))\n",
    "print(\"roc_auc:%.4f\" % roc_auc_score(y_val, y_val_pred))"
   ]
  },
  {
   "cell_type": "code",
   "execution_count": 108,
   "metadata": {},
   "outputs": [
    {
     "data": {
      "text/html": [
       "<div>\n",
       "<style scoped>\n",
       "    .dataframe tbody tr th:only-of-type {\n",
       "        vertical-align: middle;\n",
       "    }\n",
       "\n",
       "    .dataframe tbody tr th {\n",
       "        vertical-align: top;\n",
       "    }\n",
       "\n",
       "    .dataframe thead th {\n",
       "        text-align: right;\n",
       "    }\n",
       "</style>\n",
       "<table border=\"1\" class=\"dataframe\">\n",
       "  <thead>\n",
       "    <tr style=\"text-align: right;\">\n",
       "      <th></th>\n",
       "      <th>income</th>\n",
       "      <th>debt</th>\n",
       "      <th>gen_2</th>\n",
       "      <th>edu_2</th>\n",
       "      <th>edu_3</th>\n",
       "      <th>edu_4</th>\n",
       "      <th>health_state_2</th>\n",
       "      <th>health_state_3</th>\n",
       "      <th>health_state_4</th>\n",
       "      <th>health_state_5</th>\n",
       "      <th>disabled_2</th>\n",
       "      <th>work_state_2</th>\n",
       "      <th>age_range_2</th>\n",
       "      <th>age_range_3</th>\n",
       "      <th>age_range_4</th>\n",
       "      <th>age_range_5</th>\n",
       "      <th>y_train</th>\n",
       "    </tr>\n",
       "  </thead>\n",
       "  <tbody>\n",
       "    <tr>\n",
       "      <th>0</th>\n",
       "      <td>6.006353</td>\n",
       "      <td>9.244838</td>\n",
       "      <td>1</td>\n",
       "      <td>1</td>\n",
       "      <td>0</td>\n",
       "      <td>0</td>\n",
       "      <td>1</td>\n",
       "      <td>0</td>\n",
       "      <td>0</td>\n",
       "      <td>0</td>\n",
       "      <td>1</td>\n",
       "      <td>1</td>\n",
       "      <td>0</td>\n",
       "      <td>0</td>\n",
       "      <td>0</td>\n",
       "      <td>1</td>\n",
       "      <td>0</td>\n",
       "    </tr>\n",
       "    <tr>\n",
       "      <th>2</th>\n",
       "      <td>7.742836</td>\n",
       "      <td>9.962747</td>\n",
       "      <td>0</td>\n",
       "      <td>0</td>\n",
       "      <td>0</td>\n",
       "      <td>1</td>\n",
       "      <td>0</td>\n",
       "      <td>0</td>\n",
       "      <td>1</td>\n",
       "      <td>0</td>\n",
       "      <td>1</td>\n",
       "      <td>0</td>\n",
       "      <td>0</td>\n",
       "      <td>0</td>\n",
       "      <td>0</td>\n",
       "      <td>1</td>\n",
       "      <td>0</td>\n",
       "    </tr>\n",
       "    <tr>\n",
       "      <th>8</th>\n",
       "      <td>7.737093</td>\n",
       "      <td>6.928538</td>\n",
       "      <td>1</td>\n",
       "      <td>0</td>\n",
       "      <td>1</td>\n",
       "      <td>0</td>\n",
       "      <td>1</td>\n",
       "      <td>0</td>\n",
       "      <td>0</td>\n",
       "      <td>0</td>\n",
       "      <td>1</td>\n",
       "      <td>0</td>\n",
       "      <td>0</td>\n",
       "      <td>0</td>\n",
       "      <td>1</td>\n",
       "      <td>0</td>\n",
       "      <td>0</td>\n",
       "    </tr>\n",
       "    <tr>\n",
       "      <th>9</th>\n",
       "      <td>7.737093</td>\n",
       "      <td>6.928538</td>\n",
       "      <td>1</td>\n",
       "      <td>1</td>\n",
       "      <td>0</td>\n",
       "      <td>0</td>\n",
       "      <td>1</td>\n",
       "      <td>0</td>\n",
       "      <td>0</td>\n",
       "      <td>0</td>\n",
       "      <td>1</td>\n",
       "      <td>1</td>\n",
       "      <td>1</td>\n",
       "      <td>0</td>\n",
       "      <td>0</td>\n",
       "      <td>0</td>\n",
       "      <td>0</td>\n",
       "    </tr>\n",
       "    <tr>\n",
       "      <th>13</th>\n",
       "      <td>8.692658</td>\n",
       "      <td>9.466687</td>\n",
       "      <td>0</td>\n",
       "      <td>0</td>\n",
       "      <td>0</td>\n",
       "      <td>1</td>\n",
       "      <td>0</td>\n",
       "      <td>0</td>\n",
       "      <td>1</td>\n",
       "      <td>0</td>\n",
       "      <td>1</td>\n",
       "      <td>0</td>\n",
       "      <td>0</td>\n",
       "      <td>1</td>\n",
       "      <td>0</td>\n",
       "      <td>0</td>\n",
       "      <td>0</td>\n",
       "    </tr>\n",
       "  </tbody>\n",
       "</table>\n",
       "</div>"
      ],
      "text/plain": [
       "      income      debt  gen_2  edu_2  edu_3  edu_4  health_state_2  \\\n",
       "0   6.006353  9.244838      1      1      0      0               1   \n",
       "2   7.742836  9.962747      0      0      0      1               0   \n",
       "8   7.737093  6.928538      1      0      1      0               1   \n",
       "9   7.737093  6.928538      1      1      0      0               1   \n",
       "13  8.692658  9.466687      0      0      0      1               0   \n",
       "\n",
       "    health_state_3  health_state_4  health_state_5  disabled_2  work_state_2  \\\n",
       "0                0               0               0           1             1   \n",
       "2                0               1               0           1             0   \n",
       "8                0               0               0           1             0   \n",
       "9                0               0               0           1             1   \n",
       "13               0               1               0           1             0   \n",
       "\n",
       "    age_range_2  age_range_3  age_range_4  age_range_5  y_train  \n",
       "0             0            0            0            1        0  \n",
       "2             0            0            0            1        0  \n",
       "8             0            0            1            0        0  \n",
       "9             1            0            0            0        0  \n",
       "13            0            1            0            0        0  "
      ]
     },
     "execution_count": 108,
     "metadata": {},
     "output_type": "execute_result"
    }
   ],
   "source": [
    "new_df.head()"
   ]
  },
  {
   "cell_type": "code",
   "execution_count": 109,
   "metadata": {},
   "outputs": [
    {
     "data": {
      "text/html": [
       "<div>\n",
       "<style scoped>\n",
       "    .dataframe tbody tr th:only-of-type {\n",
       "        vertical-align: middle;\n",
       "    }\n",
       "\n",
       "    .dataframe tbody tr th {\n",
       "        vertical-align: top;\n",
       "    }\n",
       "\n",
       "    .dataframe thead th {\n",
       "        text-align: right;\n",
       "    }\n",
       "</style>\n",
       "<table border=\"1\" class=\"dataframe\">\n",
       "  <thead>\n",
       "    <tr style=\"text-align: right;\">\n",
       "      <th></th>\n",
       "      <th>income</th>\n",
       "      <th>gen_2</th>\n",
       "      <th>health_state_2</th>\n",
       "      <th>health_state_3</th>\n",
       "      <th>health_state_4</th>\n",
       "      <th>health_state_5</th>\n",
       "      <th>disabled_2</th>\n",
       "      <th>work_state_2</th>\n",
       "      <th>y_train</th>\n",
       "    </tr>\n",
       "  </thead>\n",
       "  <tbody>\n",
       "    <tr>\n",
       "      <th>0</th>\n",
       "      <td>6.006353</td>\n",
       "      <td>1</td>\n",
       "      <td>1</td>\n",
       "      <td>0</td>\n",
       "      <td>0</td>\n",
       "      <td>0</td>\n",
       "      <td>1</td>\n",
       "      <td>1</td>\n",
       "      <td>0</td>\n",
       "    </tr>\n",
       "    <tr>\n",
       "      <th>2</th>\n",
       "      <td>7.742836</td>\n",
       "      <td>0</td>\n",
       "      <td>0</td>\n",
       "      <td>0</td>\n",
       "      <td>1</td>\n",
       "      <td>0</td>\n",
       "      <td>1</td>\n",
       "      <td>0</td>\n",
       "      <td>0</td>\n",
       "    </tr>\n",
       "    <tr>\n",
       "      <th>8</th>\n",
       "      <td>7.737093</td>\n",
       "      <td>1</td>\n",
       "      <td>1</td>\n",
       "      <td>0</td>\n",
       "      <td>0</td>\n",
       "      <td>0</td>\n",
       "      <td>1</td>\n",
       "      <td>0</td>\n",
       "      <td>0</td>\n",
       "    </tr>\n",
       "    <tr>\n",
       "      <th>9</th>\n",
       "      <td>7.737093</td>\n",
       "      <td>1</td>\n",
       "      <td>1</td>\n",
       "      <td>0</td>\n",
       "      <td>0</td>\n",
       "      <td>0</td>\n",
       "      <td>1</td>\n",
       "      <td>1</td>\n",
       "      <td>0</td>\n",
       "    </tr>\n",
       "    <tr>\n",
       "      <th>13</th>\n",
       "      <td>8.692658</td>\n",
       "      <td>0</td>\n",
       "      <td>0</td>\n",
       "      <td>0</td>\n",
       "      <td>1</td>\n",
       "      <td>0</td>\n",
       "      <td>1</td>\n",
       "      <td>0</td>\n",
       "      <td>0</td>\n",
       "    </tr>\n",
       "  </tbody>\n",
       "</table>\n",
       "</div>"
      ],
      "text/plain": [
       "      income  gen_2  health_state_2  health_state_3  health_state_4  \\\n",
       "0   6.006353      1               1               0               0   \n",
       "2   7.742836      0               0               0               1   \n",
       "8   7.737093      1               1               0               0   \n",
       "9   7.737093      1               1               0               0   \n",
       "13  8.692658      0               0               0               1   \n",
       "\n",
       "    health_state_5  disabled_2  work_state_2  y_train  \n",
       "0                0           1             1        0  \n",
       "2                0           1             0        0  \n",
       "8                0           1             0        0  \n",
       "9                0           1             1        0  \n",
       "13               0           1             0        0  "
      ]
     },
     "execution_count": 109,
     "metadata": {},
     "output_type": "execute_result"
    }
   ],
   "source": [
    "new_df = new_df.drop(['debt','edu_2', 'edu_3', 'edu_4', 'age_range_2', 'age_range_3', 'age_range_4', 'age_range_5'], axis=1)\n",
    "new_df.head()"
   ]
  },
  {
   "cell_type": "code",
   "execution_count": 110,
   "metadata": {},
   "outputs": [
    {
     "name": "stdout",
     "output_type": "stream",
     "text": [
      "                            OLS Regression Results                            \n",
      "==============================================================================\n",
      "Dep. Variable:                y_train   R-squared:                       0.107\n",
      "Model:                            OLS   Adj. R-squared:                  0.105\n",
      "Method:                 Least Squares   F-statistic:                     80.80\n",
      "Date:                Thu, 17 Aug 2023   Prob (F-statistic):          1.05e-126\n",
      "Time:                        11:49:17   Log-Likelihood:                -742.03\n",
      "No. Observations:                5414   AIC:                             1502.\n",
      "Df Residuals:                    5405   BIC:                             1561.\n",
      "Df Model:                           8                                         \n",
      "Covariance Type:            nonrobust                                         \n",
      "==================================================================================\n",
      "                     coef    std err          t      P>|t|      [0.025      0.975]\n",
      "----------------------------------------------------------------------------------\n",
      "Intercept          0.8262      0.060     13.763      0.000       0.708       0.944\n",
      "income            -0.0478      0.006     -8.000      0.000      -0.060      -0.036\n",
      "gen_2              0.0407      0.008      5.224      0.000       0.025       0.056\n",
      "health_state_2    -0.1742      0.037     -4.672      0.000      -0.247      -0.101\n",
      "health_state_3    -0.3019      0.037     -8.157      0.000      -0.374      -0.229\n",
      "health_state_4    -0.3482      0.037     -9.500      0.000      -0.420      -0.276\n",
      "health_state_5    -0.3441      0.038     -9.006      0.000      -0.419      -0.269\n",
      "disabled_2        -0.0402      0.017     -2.399      0.016      -0.073      -0.007\n",
      "work_state_2       0.0380      0.009      4.348      0.000       0.021       0.055\n",
      "==============================================================================\n",
      "Omnibus:                     2558.548   Durbin-Watson:                   1.828\n",
      "Prob(Omnibus):                  0.000   Jarque-Bera (JB):            11001.722\n",
      "Skew:                           2.393   Prob(JB):                         0.00\n",
      "Kurtosis:                       8.086   Cond. No.                         191.\n",
      "==============================================================================\n",
      "\n",
      "Notes:\n",
      "[1] Standard Errors assume that the covariance matrix of the errors is correctly specified.\n"
     ]
    }
   ],
   "source": [
    "tmp = new_df.filter(['income','gen_2', 'health_state_2', 'health_state_3', 'health_state_4', 'health_state_5', 'disabled_2', 'work_state_2','y_train'])\n",
    "ols_result = myOls(tmp, y='y_train', x=['income','gen_2', 'health_state_2', 'health_state_3', 'health_state_4', 'health_state_5', 'disabled_2', 'work_state_2'])\n",
    "print(ols_result.summary)"
   ]
  },
  {
   "cell_type": "code",
   "execution_count": 111,
   "metadata": {},
   "outputs": [
    {
     "data": {
      "text/plain": [
       "Index(['income', 'gen_2', 'health_state_2', 'health_state_3', 'health_state_4',\n",
       "       'health_state_5', 'disabled_2', 'work_state_2'],\n",
       "      dtype='object')"
      ]
     },
     "execution_count": 111,
     "metadata": {},
     "output_type": "execute_result"
    }
   ],
   "source": [
    "x_col = new_df.columns\n",
    "x_col = x_col[:-1]\n",
    "x_col"
   ]
  },
  {
   "cell_type": "code",
   "execution_count": 112,
   "metadata": {},
   "outputs": [
    {
     "data": {
      "image/png": "[encoded data removed]",
      "text/plain": [
       "<Figure size 1000x500 with 1 Axes>"
      ]
     },
     "metadata": {},
     "output_type": "display_data"
    }
   ],
   "source": [
    "x_tr, x_val, y_tr, y_val = train_test_split(new_df[x_col], new_df['y_train'], test_size=0.2, shuffle=True, random_state=20)\n",
    "\n",
    "# 로지스틱 회귀 모델\n",
    "from sklearn.linear_model import LogisticRegression\n",
    "lr_model = LogisticRegression()\n",
    "lr_model.fit(x_tr, y_tr)\n",
    "y_val_pred = lr_model.predict(x_val)\n",
    "\n",
    "# conFusion Matrix\n",
    "from sklearn.metrics import confusion_matrix\n",
    "sns.heatmap(confusion_matrix(y_val, y_val_pred), annot=True,  cbar=False, square=True)\n",
    "# cbar를 통해 colorbar의 유무를 정해 줄 수 있고\n",
    "# linewidths 각 cell마다 선을 넣어주고 굵기를 정할 수 있다.\n",
    "# annot 각 cell의 값을 표기할 수 있다. 이때 fmt를 이용해 각 cell 값의 데이터 형태를 지정해주는 과정이 필요할 수 있다.\n",
    "# vmin, vmax로 색으로 최대값, 최소값을 표현할 수 있다. ex) vmin = 200, vmax=500\n",
    "plt.show()"
   ]
  },
  {
   "cell_type": "code",
   "execution_count": 113,
   "metadata": {},
   "outputs": [
    {
     "data": {
      "text/html": [
       "<div>\n",
       "<style scoped>\n",
       "    .dataframe tbody tr th:only-of-type {\n",
       "        vertical-align: middle;\n",
       "    }\n",
       "\n",
       "    .dataframe tbody tr th {\n",
       "        vertical-align: top;\n",
       "    }\n",
       "\n",
       "    .dataframe thead th {\n",
       "        text-align: right;\n",
       "    }\n",
       "</style>\n",
       "<table border=\"1\" class=\"dataframe\">\n",
       "  <thead>\n",
       "    <tr style=\"text-align: right;\">\n",
       "      <th></th>\n",
       "      <th>income</th>\n",
       "      <th>gen_2</th>\n",
       "      <th>health_state_2</th>\n",
       "      <th>health_state_3</th>\n",
       "      <th>health_state_4</th>\n",
       "      <th>health_state_5</th>\n",
       "      <th>disabled_2</th>\n",
       "      <th>work_state_2</th>\n",
       "    </tr>\n",
       "  </thead>\n",
       "  <tbody>\n",
       "    <tr>\n",
       "      <th>1498</th>\n",
       "      <td>8.397734</td>\n",
       "      <td>1</td>\n",
       "      <td>1</td>\n",
       "      <td>0</td>\n",
       "      <td>0</td>\n",
       "      <td>0</td>\n",
       "      <td>1</td>\n",
       "      <td>0</td>\n",
       "    </tr>\n",
       "    <tr>\n",
       "      <th>2382</th>\n",
       "      <td>8.350902</td>\n",
       "      <td>0</td>\n",
       "      <td>0</td>\n",
       "      <td>0</td>\n",
       "      <td>1</td>\n",
       "      <td>0</td>\n",
       "      <td>1</td>\n",
       "      <td>0</td>\n",
       "    </tr>\n",
       "    <tr>\n",
       "      <th>2071</th>\n",
       "      <td>8.597667</td>\n",
       "      <td>0</td>\n",
       "      <td>0</td>\n",
       "      <td>0</td>\n",
       "      <td>0</td>\n",
       "      <td>1</td>\n",
       "      <td>1</td>\n",
       "      <td>1</td>\n",
       "    </tr>\n",
       "    <tr>\n",
       "      <th>2878</th>\n",
       "      <td>8.971448</td>\n",
       "      <td>1</td>\n",
       "      <td>0</td>\n",
       "      <td>0</td>\n",
       "      <td>1</td>\n",
       "      <td>0</td>\n",
       "      <td>1</td>\n",
       "      <td>0</td>\n",
       "    </tr>\n",
       "    <tr>\n",
       "      <th>3291</th>\n",
       "      <td>8.911665</td>\n",
       "      <td>1</td>\n",
       "      <td>0</td>\n",
       "      <td>0</td>\n",
       "      <td>0</td>\n",
       "      <td>1</td>\n",
       "      <td>1</td>\n",
       "      <td>0</td>\n",
       "    </tr>\n",
       "  </tbody>\n",
       "</table>\n",
       "</div>"
      ],
      "text/plain": [
       "        income  gen_2  health_state_2  health_state_3  health_state_4  \\\n",
       "1498  8.397734      1               1               0               0   \n",
       "2382  8.350902      0               0               0               1   \n",
       "2071  8.597667      0               0               0               0   \n",
       "2878  8.971448      1               0               0               1   \n",
       "3291  8.911665      1               0               0               0   \n",
       "\n",
       "      health_state_5  disabled_2  work_state_2  \n",
       "1498               0           1             0  \n",
       "2382               0           1             0  \n",
       "2071               1           1             1  \n",
       "2878               0           1             0  \n",
       "3291               1           1             0  "
      ]
     },
     "execution_count": 113,
     "metadata": {},
     "output_type": "execute_result"
    }
   ],
   "source": [
    "x_tr.head()"
   ]
  },
  {
   "cell_type": "code",
   "execution_count": 114,
   "metadata": {},
   "outputs": [
    {
     "data": {
      "text/plain": [
       "Index(['income', 'gen_2', 'health_state_2', 'health_state_3', 'health_state_4',\n",
       "       'health_state_5', 'disabled_2', 'work_state_2'],\n",
       "      dtype='object')"
      ]
     },
     "execution_count": 114,
     "metadata": {},
     "output_type": "execute_result"
    }
   ],
   "source": [
    "x_col = new_df.columns\n",
    "x_col = x_col[:-1]\n",
    "x_col"
   ]
  },
  {
   "cell_type": "code",
   "execution_count": 115,
   "metadata": {},
   "outputs": [
    {
     "name": "stdout",
     "output_type": "stream",
     "text": [
      "Accuracy:0.9003\n",
      "Precision:0.5000\n",
      "recall:0.0185\n",
      "F1:0.0357\n",
      "roc_auc:0.5082\n"
     ]
    }
   ],
   "source": [
    "# 평가지표\n",
    "from sklearn.metrics import accuracy_score, precision_score, recall_score\n",
    "from sklearn.metrics import f1_score, roc_auc_score\n",
    "print(\"Accuracy:%.4f\" % accuracy_score(y_val, y_val_pred))\n",
    "print(\"Precision:%.4f\" % precision_score(y_val, y_val_pred))\n",
    "print(\"recall:%.4f\" % recall_score(y_val, y_val_pred))\n",
    "print(\"F1:%.4f\" % f1_score(y_val, y_val_pred))\n",
    "print(\"roc_auc:%.4f\" % roc_auc_score(y_val, y_val_pred))"
   ]
  },
  {
   "cell_type": "code",
   "execution_count": 116,
   "metadata": {},
   "outputs": [],
   "source": [
    "y_tr = pd.DataFrame(y_tr,columns=['y_train'])\n",
    "x_tr['y_train']= y_tr['y_train']"
   ]
  },
  {
   "cell_type": "code",
   "execution_count": 117,
   "metadata": {},
   "outputs": [
    {
     "name": "stdout",
     "output_type": "stream",
     "text": [
      "Optimization terminated successfully.\n",
      "         Current function value: 0.270277\n",
      "         Iterations 7\n"
     ]
    },
    {
     "data": {
      "text/html": [
       "<table class=\"simpletable\">\n",
       "<caption>Logit Regression Results</caption>\n",
       "<tr>\n",
       "  <th>Dep. Variable:</th>        <td>y_train</td>     <th>  No. Observations:  </th>  <td>  4331</td>  \n",
       "</tr>\n",
       "<tr>\n",
       "  <th>Model:</th>                 <td>Logit</td>      <th>  Df Residuals:      </th>  <td>  4322</td>  \n",
       "</tr>\n",
       "<tr>\n",
       "  <th>Method:</th>                 <td>MLE</td>       <th>  Df Model:          </th>  <td>     8</td>  \n",
       "</tr>\n",
       "<tr>\n",
       "  <th>Date:</th>            <td>Thu, 17 Aug 2023</td> <th>  Pseudo R-squ.:     </th>  <td>0.1342</td>  \n",
       "</tr>\n",
       "<tr>\n",
       "  <th>Time:</th>                <td>11:49:17</td>     <th>  Log-Likelihood:    </th> <td> -1170.6</td> \n",
       "</tr>\n",
       "<tr>\n",
       "  <th>converged:</th>             <td>True</td>       <th>  LL-Null:           </th> <td> -1352.0</td> \n",
       "</tr>\n",
       "<tr>\n",
       "  <th>Covariance Type:</th>     <td>nonrobust</td>    <th>  LLR p-value:       </th> <td>1.690e-73</td>\n",
       "</tr>\n",
       "</table>\n",
       "<table class=\"simpletable\">\n",
       "<tr>\n",
       "         <td></td>           <th>coef</th>     <th>std err</th>      <th>z</th>      <th>P>|z|</th>  <th>[0.025</th>    <th>0.975]</th>  \n",
       "</tr>\n",
       "<tr>\n",
       "  <th>Intercept</th>      <td>    3.0250</td> <td>    0.654</td> <td>    4.625</td> <td> 0.000</td> <td>    1.743</td> <td>    4.307</td>\n",
       "</tr>\n",
       "<tr>\n",
       "  <th>x_tr[x_col][0]</th> <td>   -0.4723</td> <td>    0.072</td> <td>   -6.517</td> <td> 0.000</td> <td>   -0.614</td> <td>   -0.330</td>\n",
       "</tr>\n",
       "<tr>\n",
       "  <th>x_tr[x_col][1]</th> <td>    0.6266</td> <td>    0.120</td> <td>    5.210</td> <td> 0.000</td> <td>    0.391</td> <td>    0.862</td>\n",
       "</tr>\n",
       "<tr>\n",
       "  <th>x_tr[x_col][2]</th> <td>   -0.7368</td> <td>    0.311</td> <td>   -2.366</td> <td> 0.018</td> <td>   -1.347</td> <td>   -0.126</td>\n",
       "</tr>\n",
       "<tr>\n",
       "  <th>x_tr[x_col][3]</th> <td>   -1.5104</td> <td>    0.318</td> <td>   -4.745</td> <td> 0.000</td> <td>   -2.134</td> <td>   -0.886</td>\n",
       "</tr>\n",
       "<tr>\n",
       "  <th>x_tr[x_col][4]</th> <td>   -2.1006</td> <td>    0.317</td> <td>   -6.637</td> <td> 0.000</td> <td>   -2.721</td> <td>   -1.480</td>\n",
       "</tr>\n",
       "<tr>\n",
       "  <th>x_tr[x_col][5]</th> <td>   -2.0075</td> <td>    0.371</td> <td>   -5.411</td> <td> 0.000</td> <td>   -2.735</td> <td>   -1.280</td>\n",
       "</tr>\n",
       "<tr>\n",
       "  <th>x_tr[x_col][6]</th> <td>   -0.2676</td> <td>    0.185</td> <td>   -1.449</td> <td> 0.147</td> <td>   -0.630</td> <td>    0.094</td>\n",
       "</tr>\n",
       "<tr>\n",
       "  <th>x_tr[x_col][7]</th> <td>    0.4849</td> <td>    0.116</td> <td>    4.178</td> <td> 0.000</td> <td>    0.257</td> <td>    0.712</td>\n",
       "</tr>\n",
       "</table>"
      ],
      "text/latex": [
       "\\begin{center}\n",
       "\\begin{tabular}{lclc}\n",
       "\\toprule\n",
       "\\textbf{Dep. Variable:}   &     y\\_train     & \\textbf{  No. Observations:  } &     4331    \\\\\n",
       "\\textbf{Model:}           &      Logit       & \\textbf{  Df Residuals:      } &     4322    \\\\\n",
       "\\textbf{Method:}          &       MLE        & \\textbf{  Df Model:          } &        8    \\\\\n",
       "\\textbf{Date:}            & Thu, 17 Aug 2023 & \\textbf{  Pseudo R-squ.:     } &   0.1342    \\\\\n",
       "\\textbf{Time:}            &     11:49:17     & \\textbf{  Log-Likelihood:    } &   -1170.6   \\\\\n",
       "\\textbf{converged:}       &       True       & \\textbf{  LL-Null:           } &   -1352.0   \\\\\n",
       "\\textbf{Covariance Type:} &    nonrobust     & \\textbf{  LLR p-value:       } & 1.690e-73   \\\\\n",
       "\\bottomrule\n",
       "\\end{tabular}\n",
       "\\begin{tabular}{lcccccc}\n",
       "                          & \\textbf{coef} & \\textbf{std err} & \\textbf{z} & \\textbf{P$> |$z$|$} & \\textbf{[0.025} & \\textbf{0.975]}  \\\\\n",
       "\\midrule\n",
       "\\textbf{Intercept}        &       3.0250  &        0.654     &     4.625  &         0.000        &        1.743    &        4.307     \\\\\n",
       "\\textbf{x\\_tr[x\\_col][0]} &      -0.4723  &        0.072     &    -6.517  &         0.000        &       -0.614    &       -0.330     \\\\\n",
       "\\textbf{x\\_tr[x\\_col][1]} &       0.6266  &        0.120     &     5.210  &         0.000        &        0.391    &        0.862     \\\\\n",
       "\\textbf{x\\_tr[x\\_col][2]} &      -0.7368  &        0.311     &    -2.366  &         0.018        &       -1.347    &       -0.126     \\\\\n",
       "\\textbf{x\\_tr[x\\_col][3]} &      -1.5104  &        0.318     &    -4.745  &         0.000        &       -2.134    &       -0.886     \\\\\n",
       "\\textbf{x\\_tr[x\\_col][4]} &      -2.1006  &        0.317     &    -6.637  &         0.000        &       -2.721    &       -1.480     \\\\\n",
       "\\textbf{x\\_tr[x\\_col][5]} &      -2.0075  &        0.371     &    -5.411  &         0.000        &       -2.735    &       -1.280     \\\\\n",
       "\\textbf{x\\_tr[x\\_col][6]} &      -0.2676  &        0.185     &    -1.449  &         0.147        &       -0.630    &        0.094     \\\\\n",
       "\\textbf{x\\_tr[x\\_col][7]} &       0.4849  &        0.116     &     4.178  &         0.000        &        0.257    &        0.712     \\\\\n",
       "\\bottomrule\n",
       "\\end{tabular}\n",
       "%\\caption{Logit Regression Results}\n",
       "\\end{center}"
      ],
      "text/plain": [
       "<class 'statsmodels.iolib.summary.Summary'>\n",
       "\"\"\"\n",
       "                           Logit Regression Results                           \n",
       "==============================================================================\n",
       "Dep. Variable:                y_train   No. Observations:                 4331\n",
       "Model:                          Logit   Df Residuals:                     4322\n",
       "Method:                           MLE   Df Model:                            8\n",
       "Date:                Thu, 17 Aug 2023   Pseudo R-squ.:                  0.1342\n",
       "Time:                        11:49:17   Log-Likelihood:                -1170.6\n",
       "converged:                       True   LL-Null:                       -1352.0\n",
       "Covariance Type:            nonrobust   LLR p-value:                 1.690e-73\n",
       "==================================================================================\n",
       "                     coef    std err          z      P>|z|      [0.025      0.975]\n",
       "----------------------------------------------------------------------------------\n",
       "Intercept          3.0250      0.654      4.625      0.000       1.743       4.307\n",
       "x_tr[x_col][0]    -0.4723      0.072     -6.517      0.000      -0.614      -0.330\n",
       "x_tr[x_col][1]     0.6266      0.120      5.210      0.000       0.391       0.862\n",
       "x_tr[x_col][2]    -0.7368      0.311     -2.366      0.018      -1.347      -0.126\n",
       "x_tr[x_col][3]    -1.5104      0.318     -4.745      0.000      -2.134      -0.886\n",
       "x_tr[x_col][4]    -2.1006      0.317     -6.637      0.000      -2.721      -1.480\n",
       "x_tr[x_col][5]    -2.0075      0.371     -5.411      0.000      -2.735      -1.280\n",
       "x_tr[x_col][6]    -0.2676      0.185     -1.449      0.147      -0.630       0.094\n",
       "x_tr[x_col][7]     0.4849      0.116      4.178      0.000       0.257       0.712\n",
       "==================================================================================\n",
       "\"\"\""
      ]
     },
     "execution_count": 117,
     "metadata": {},
     "output_type": "execute_result"
    }
   ],
   "source": [
    "model = logit('y_train ~ x_tr[x_col]',data=x_tr)\n",
    "fit = model.fit()\n",
    "fit.summary()"
   ]
  },
  {
   "cell_type": "code",
   "execution_count": 118,
   "metadata": {},
   "outputs": [
    {
     "data": {
      "text/html": [
       "<div>\n",
       "<style scoped>\n",
       "    .dataframe tbody tr th:only-of-type {\n",
       "        vertical-align: middle;\n",
       "    }\n",
       "\n",
       "    .dataframe tbody tr th {\n",
       "        vertical-align: top;\n",
       "    }\n",
       "\n",
       "    .dataframe thead th {\n",
       "        text-align: right;\n",
       "    }\n",
       "</style>\n",
       "<table border=\"1\" class=\"dataframe\">\n",
       "  <thead>\n",
       "    <tr style=\"text-align: right;\">\n",
       "      <th></th>\n",
       "      <th>컬럼</th>\n",
       "      <th>VIF</th>\n",
       "    </tr>\n",
       "  </thead>\n",
       "  <tbody>\n",
       "    <tr>\n",
       "      <th>0</th>\n",
       "      <td>x_tr[x_col][0]</td>\n",
       "      <td>1.199065</td>\n",
       "    </tr>\n",
       "    <tr>\n",
       "      <th>1</th>\n",
       "      <td>x_tr[x_col][1]</td>\n",
       "      <td>1.055692</td>\n",
       "    </tr>\n",
       "    <tr>\n",
       "      <th>2</th>\n",
       "      <td>x_tr[x_col][2]</td>\n",
       "      <td>9.875267</td>\n",
       "    </tr>\n",
       "    <tr>\n",
       "      <th>3</th>\n",
       "      <td>x_tr[x_col][3]</td>\n",
       "      <td>13.996094</td>\n",
       "    </tr>\n",
       "    <tr>\n",
       "      <th>4</th>\n",
       "      <td>x_tr[x_col][4]</td>\n",
       "      <td>22.058178</td>\n",
       "    </tr>\n",
       "    <tr>\n",
       "      <th>5</th>\n",
       "      <td>x_tr[x_col][5]</td>\n",
       "      <td>9.200867</td>\n",
       "    </tr>\n",
       "    <tr>\n",
       "      <th>6</th>\n",
       "      <td>x_tr[x_col][6]</td>\n",
       "      <td>1.088761</td>\n",
       "    </tr>\n",
       "    <tr>\n",
       "      <th>7</th>\n",
       "      <td>x_tr[x_col][7]</td>\n",
       "      <td>1.118205</td>\n",
       "    </tr>\n",
       "  </tbody>\n",
       "</table>\n",
       "</div>"
      ],
      "text/plain": [
       "               컬럼        VIF\n",
       "0  x_tr[x_col][0]   1.199065\n",
       "1  x_tr[x_col][1]   1.055692\n",
       "2  x_tr[x_col][2]   9.875267\n",
       "3  x_tr[x_col][3]  13.996094\n",
       "4  x_tr[x_col][4]  22.058178\n",
       "5  x_tr[x_col][5]   9.200867\n",
       "6  x_tr[x_col][6]   1.088761\n",
       "7  x_tr[x_col][7]   1.118205"
      ]
     },
     "execution_count": 118,
     "metadata": {},
     "output_type": "execute_result"
    }
   ],
   "source": [
    "pd.DataFrame({'컬럼': column, 'VIF': variance_inflation_factor(model.exog, i)} \n",
    "             for i, column in enumerate(model.exog_names)\n",
    "             if column != 'Intercept') "
   ]
  },
  {
   "cell_type": "code",
   "execution_count": 119,
   "metadata": {},
   "outputs": [
    {
     "ename": "NameError",
     "evalue": "name 'x_train' is not defined",
     "output_type": "error",
     "traceback": [
      "\u001b[1;31m---------------------------------------------------------------------------\u001b[0m",
      "\u001b[1;31mNameError\u001b[0m                                 Traceback (most recent call last)",
      "Cell \u001b[1;32mIn[119], line 4\u001b[0m\n\u001b[0;32m      2\u001b[0m \u001b[39mfrom\u001b[39;00m \u001b[39msklearn\u001b[39;00m\u001b[39m.\u001b[39;00m\u001b[39mpreprocessing\u001b[39;00m \u001b[39mimport\u001b[39;00m PolynomialFeatures\n\u001b[0;32m      3\u001b[0m pf \u001b[39m=\u001b[39m PolynomialFeatures(degree\u001b[39m=\u001b[39m\u001b[39m2\u001b[39m)\n\u001b[1;32m----> 4\u001b[0m x_train_poly \u001b[39m=\u001b[39m pf\u001b[39m.\u001b[39mfit_transform(x_train)\n\u001b[0;32m      5\u001b[0m \u001b[39mprint\u001b[39m(\u001b[39m\"\u001b[39m\u001b[39m원본 학습 데이터 셋:\u001b[39m\u001b[39m\"\u001b[39m, x_train\u001b[39m.\u001b[39mshape) \u001b[39m# 2개인 이유 LATST, RM 이 두가지 값을 가지기 때문이고\u001b[39;00m\n\u001b[0;32m      6\u001b[0m \u001b[39mprint\u001b[39m(\u001b[39m\"\u001b[39m\u001b[39m2차 다항식 변환 데이터 셋:\u001b[39m\u001b[39m\"\u001b[39m, x_train_poly\u001b[39m.\u001b[39mshape) \u001b[39m# 각 피처에 대한 2차항이 추가 되어 피처개수가 늘어난다.\u001b[39;00m\n",
      "\u001b[1;31mNameError\u001b[0m: name 'x_train' is not defined"
     ]
    }
   ],
   "source": [
    "# 2차 다항식 변환\n",
    "from sklearn.preprocessing import PolynomialFeatures\n",
    "pf = PolynomialFeatures(degree=2)\n",
    "x_train_poly = pf.fit_transform(x_train)\n",
    "print(\"원본 학습 데이터 셋:\", x_train.shape) # 2개인 이유 LATST, RM 이 두가지 값을 가지기 때문이고\n",
    "print(\"2차 다항식 변환 데이터 셋:\", x_train_poly.shape) # 각 피처에 대한 2차항이 추가 되어 피처개수가 늘어난다.\n",
    "# print(x_train_poly)\n",
    "# print(x_train)\n",
    "# 데이터 셋이 6개인 경우 각각의 미지수의 값을 a0, a1, a2로 나눠놨고\n",
    "# 그것을 미분하여 0이되는 것을 찾기 위하여 제곱, 및 다양한 형태로 새롭게\n",
    "# 일정하게 수를 규졍했기 때문\n",
    "# print(x_train_poly)"
   ]
  }
 ],
 "metadata": {
  "kernelspec": {
   "display_name": "Python 3",
   "language": "python",
   "name": "python3"
  },
  "language_info": {
   "codemirror_mode": {
    "name": "ipython",
    "version": 3
   },
   "file_extension": ".py",
   "mimetype": "text/x-python",
   "name": "python",
   "nbconvert_exporter": "python",
   "pygments_lexer": "ipython3",
   "version": "3.11.3"
  },
  "orig_nbformat": 4
 },
 "nbformat": 4,
 "nbformat_minor": 2
}
